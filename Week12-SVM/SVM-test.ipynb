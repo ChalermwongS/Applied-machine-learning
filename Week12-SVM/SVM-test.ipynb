{
  "cells": [
    {
      "cell_type": "markdown",
      "metadata": {
        "id": "view-in-github",
        "colab_type": "text"
      },
      "source": [
        "<a href=\"https://colab.research.google.com/github/ekaratnida/Applied-machine-learning/blob/master/Week12-SVM/SVM-test.ipynb\" target=\"_parent\"><img src=\"https://colab.research.google.com/assets/colab-badge.svg\" alt=\"Open In Colab\"/></a>"
      ]
    },
    {
      "cell_type": "code",
      "execution_count": 10,
      "metadata": {
        "id": "dU_PhLrWbVMi"
      },
      "outputs": [],
      "source": [
        "#Credit: https://github.com/python-engineer/MLfromscratch\n",
        "import numpy as np \n",
        "import matplotlib.pyplot as plt\n",
        "import random\n",
        "\n",
        "class SVM:\n",
        "\n",
        "    def __init__(self, learning_rate=0.01, n_iters=1000):\n",
        "        self.lr = learning_rate\n",
        "        self.n_iters = n_iters\n",
        "        self.w = None\n",
        "        self.b = None\n",
        "        self.penalty_rate = 0.1\n",
        "\n",
        "    def fit(self, X, y):\n",
        "        n_samples, n_features = X.shape  \n",
        "        self.w = np.array([0,0])\n",
        "        self.b = 0\n",
        "        X_ = X\n",
        "        y_ = y\n",
        "        self.d = 1\n",
        "\n",
        "        for i in range(self.n_iters):\n",
        "\n",
        "            '''c = list(zip(X, y))\n",
        "            random.shuffle(c)\n",
        "            X_, y_ = zip(*c)'''\n",
        "            \n",
        "            #idx is index, x_i is a vector\n",
        "            for idx, x_i in enumerate(X_):\n",
        "                \n",
        "                eq = y_[idx] * (np.dot(x_i, self.w) + self.b)\n",
        "                #print(eq)\n",
        "                \n",
        "                condition = (eq >= self.d) # True or False\n",
        "                \n",
        "                if condition:\n",
        "                    self.w = self.w - self.lr * (self.penalty_rate * self.w)\n",
        "                else: #misclassified\n",
        "                    self.w = self.w - self.lr * ( self.penalty_rate * self.w - np.multiply(x_i, y_[idx]))            \n",
        "                    self.b = self.b - self.lr * (-1 * y_[idx])\n",
        "                \n",
        "                #print(\"i= \",i,\" W = \",self.w,\" b = \",self.b)\n",
        "\n",
        "            if i == self.n_iters-1:\n",
        "              self.visualize_svm(self.w, self.b, X, y)\n",
        "                   \n",
        "    def predict(self, X):\n",
        "        approx = np.dot(X, self.w) + self.b\n",
        "        return np.sign(approx)\n",
        "    \n",
        "    def visualize_svm(self, w, b,X,y):\n",
        "\n",
        "        def get_hyperplane_value(x, w, b, offset):\n",
        "            return (-w[0] * x + b + offset) / w[1]\n",
        "\n",
        "        fig = plt.figure()\n",
        "        ax = fig.add_subplot(1,1,1)\n",
        "        plt.scatter(X[:,0], X[:,1], marker='o',c=y)\n",
        "        plt.xlim(-20, 20)\n",
        "        plt.ylim(-20, 20)\n",
        "\n",
        "        x0_1 = np.amin(X[:,0])\n",
        "        x0_2 = np.amax(X[:,0])\n",
        "\n",
        "        x1_1 = get_hyperplane_value(x0_1, w, b, 0)\n",
        "        x1_2 = get_hyperplane_value(x0_2, w, b, 0)\n",
        "\n",
        "        x1_1_m = get_hyperplane_value(x0_1, w, b, -self.d)\n",
        "        x1_2_m = get_hyperplane_value(x0_2, w, b, -self.d)\n",
        "\n",
        "        x1_1_p = get_hyperplane_value(x0_1, w, b, self.d)\n",
        "        x1_2_p = get_hyperplane_value(x0_2, w, b, self.d)\n",
        "\n",
        "        ax.plot([x0_1, x0_2],[x1_1, x1_2], 'b--')\n",
        "        ax.plot([x0_1, x0_2],[x1_1_m, x1_2_m], 'g')\n",
        "        ax.plot([x0_1, x0_2],[x1_1_p, x1_2_p], 'r')\n",
        "\n",
        "        x1_min = np.amin(X[:,1])\n",
        "        x1_max = np.amax(X[:,1])\n",
        "        ax.set_ylim([x1_min-3,x1_max+3])\n",
        "\n",
        "        plt.show()\n",
        "\n",
        "    "
      ]
    },
    {
      "cell_type": "code",
      "execution_count": 11,
      "metadata": {
        "id": "H2iBLSEubVMp",
        "outputId": "cc999769-06ce-47a4-dc56-575de38dd121",
        "colab": {
          "base_uri": "https://localhost:8080/",
          "height": 321
        }
      },
      "outputs": [
        {
          "output_type": "display_data",
          "data": {
            "text/plain": [
              "<Figure size 432x288 with 1 Axes>"
            ],
            "image/png": "[encoded data removed]"
          },
          "metadata": {
            "needs_background": "light"
          }
        },
        {
          "output_type": "stream",
          "name": "stdout",
          "text": [
            "Our w= [1.00632769 1.0035621 ]  b= -3.122502256758253e-17\n",
            "LinearSVC  [[1.         0.99997827]]   [2.1725893e-05]\n",
            "SVC  [[1. 1.]]   [-0.]\n"
          ]
        }
      ],
      "source": [
        "import numpy as np\n",
        "from sklearn import datasets\n",
        "from sklearn.svm import LinearSVC\n",
        "from sklearn.svm import SVC\n",
        "\n",
        "#X, y =  datasets.make_blobs(n_samples=30, n_features=2, centers=2, cluster_std=2, random_state=123)\n",
        "\n",
        "X = np.array([[1.0,0.0],\n",
        "              [0.0,1.0],\n",
        "              [-1.0,0]])\n",
        "y = np.array([1,1,0])\n",
        "\n",
        "y = np.where(y == 0, -1, 1)\n",
        "#print(X, \" \", y)\n",
        "\n",
        "clf = SVM( n_iters=5000)\n",
        "clf.fit(X, y)\n",
        "print(\"Our w=\", clf.w, \" b=\", clf.b)\n",
        "\n",
        "\n",
        "clf2 = LinearSVC(loss=\"hinge\")\n",
        "clf2.fit(X,y)\n",
        "print(\"LinearSVC \",clf2.coef_,\" \",clf2.intercept_)\n",
        "\n",
        "#Recommend\n",
        "clf3 = SVC(kernel=\"linear\")\n",
        "clf3.fit(X,y)\n",
        "print(\"SVC \",clf3.coef_,\" \",clf3.intercept_)\n"
      ]
    },
    {
      "cell_type": "markdown",
      "source": [
        "# Exercise\n",
        "1. Create a hinge loss function and use it to check when to stop training.\n",
        "2. Implement Stochastic GD version."
      ],
      "metadata": {
        "id": "rUWwlCaQdqdn"
      }
    }
  ],
  "metadata": {
    "kernelspec": {
      "display_name": "Python 3",
      "language": "python",
      "name": "python3"
    },
    "language_info": {
      "codemirror_mode": {
        "name": "ipython",
        "version": 3
      },
      "file_extension": ".py",
      "mimetype": "text/x-python",
      "name": "python",
      "nbconvert_exporter": "python",
      "pygments_lexer": "ipython3",
      "version": "3.7.4"
    },
    "colab": {
      "name": "SVM-test.ipynb",
      "provenance": [],
      "include_colab_link": true
    }
  },
  "nbformat": 4,
  "nbformat_minor": 0
}