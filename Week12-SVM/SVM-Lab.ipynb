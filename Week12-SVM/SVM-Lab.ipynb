{
  "cells": [
    {
      "cell_type": "markdown",
      "metadata": {
        "id": "view-in-github",
        "colab_type": "text"
      },
      "source": [
        "<a href=\"https://colab.research.google.com/github/ekaratnida/Applied-machine-learning/blob/master/Week12-SVM/SVM-Lab.ipynb\" target=\"_parent\"><img src=\"https://colab.research.google.com/assets/colab-badge.svg\" alt=\"Open In Colab\"/></a>"
      ]
    },
    {
      "cell_type": "code",
      "execution_count": 74,
      "metadata": {
        "id": "dU_PhLrWbVMi"
      },
      "outputs": [],
      "source": [
        "#Credit: https://github.com/python-engineer/MLfromscratch\n",
        "import numpy as np \n",
        "import matplotlib.pyplot as plt\n",
        "import random\n",
        "\n",
        "class SVM:\n",
        "\n",
        "    def __init__(self, learning_rate=0.01, penalty_rate=0.1, niter =1000):\n",
        "        self.lr = learning_rate\n",
        "        self.n_iters = niter\n",
        "        self.w = None\n",
        "        self.b = None\n",
        "        self.penalty_rate = penalty_rate\n",
        "\n",
        "    def fit(self, X, y):\n",
        "        n_samples, n_features = X.shape  \n",
        "        self.w = np.array([0,0])\n",
        "        self.b = 0\n",
        "        X_ = X\n",
        "        y_ = y\n",
        "        self.d = 1\n",
        "        C = 1\n",
        "\n",
        "        for i in range(self.n_iters):\n",
        "          \n",
        "          #idx is index, x_i is a vector\n",
        "          for idx, x_i in enumerate(X_):\n",
        "            eq = y_[idx] * (np.dot(x_i, self.w) + self.b)\n",
        "            #print(eq)\n",
        "            \n",
        "            condition = (eq >= self.d) # True or False\n",
        "            \n",
        "            if condition:\n",
        "              self.w = self.w - self.lr * (self.penalty_rate * self.w)\n",
        "            \n",
        "            else: #misclassified\n",
        "              self.w = self.w - self.lr * ( self.penalty_rate * self.w - (C * np.multiply(x_i, y_[idx])))\n",
        "              self.b = self.b - self.lr * C * (-1 * y_[idx]) \n",
        "          \n",
        "            \n",
        "          if i% (self.n_iters/10) == 0:\n",
        "            print(\"i= \",i,\" W = \",self.w,\" b = \",self.b)\n",
        "\n",
        "          if i == self.n_iters-1:\n",
        "            self.visualize_svm(self.w, self.b, X, y)\n",
        "                   \n",
        "    def predict(self, X):\n",
        "        approx = np.dot(X, self.w) + self.b\n",
        "        return np.sign(approx)\n",
        "    \n",
        "    def visualize_svm(self, w, b, X, y):\n",
        "\n",
        "        def get_hyperplane_value(x, w, b, offset):\n",
        "            return (-w[0] * x + b + offset) / w[1]\n",
        "\n",
        "        fig = plt.figure()\n",
        "        ax = fig.add_subplot(1,1,1)\n",
        "        plt.scatter(X[:,0], X[:,1], marker='o',c=y)\n",
        "        #plt.ylim(-20, 20)\n",
        "        #plt.xlim(-20,20)\n",
        "        xlim = ax.get_xlim()\n",
        "        ylim = ax.get_ylim()\n",
        "        \n",
        "        x0_1 = np.amin(X[:,0])\n",
        "        x0_2 = np.amax(X[:,0])\n",
        "\n",
        "        x1_1 = get_hyperplane_value(x0_1, w, b, 0)\n",
        "        x1_2 = get_hyperplane_value(x0_2, w, b, 0)\n",
        "\n",
        "        x1_1_m = get_hyperplane_value(x0_1, w, b, -self.d)\n",
        "        x1_2_m = get_hyperplane_value(x0_2, w, b, -self.d)\n",
        "\n",
        "        x1_1_p = get_hyperplane_value(x0_1, w, b, self.d)\n",
        "        x1_2_p = get_hyperplane_value(x0_2, w, b, self.d)\n",
        "\n",
        "        ax.plot([x0_1, x0_2],[x1_1, x1_2], 'b--')\n",
        "        ax.plot([x0_1, x0_2],[x1_1_m, x1_2_m], 'g')\n",
        "        ax.plot([x0_1, x0_2],[x1_1_p, x1_2_p], 'r')\n",
        "\n",
        "        x1_min = np.amin(X[:,1])\n",
        "        x1_max = np.amax(X[:,1])\n",
        "        ax.set_xlim(xlim)\n",
        "        ax.set_ylim(ylim)\n",
        "\n",
        "        plt.show()\n",
        "\n",
        "    "
      ]
    },
    {
      "cell_type": "code",
      "execution_count": 75,
      "metadata": {
        "id": "H2iBLSEubVMp",
        "outputId": "a8387d9d-9c21-4a3e-f101-14887f13dd82",
        "colab": {
          "base_uri": "https://localhost:8080/",
          "height": 473
        }
      },
      "outputs": [
        {
          "output_type": "stream",
          "name": "stdout",
          "text": [
            "i=  0  W =  [0.01798401 0.00999   ]  b =  0.01\n",
            "i=  100  W =  [1.1436081  0.72041281]  b =  0.2700000000000001\n",
            "i=  200  W =  [1.19091868 0.81269402]  b =  0.19\n",
            "i=  300  W =  [1.16774606 0.85258649]  b =  0.14999999999999997\n",
            "i=  400  W =  [1.13379606 0.88308378]  b =  0.12999999999999995\n",
            "i=  500  W =  [1.12258593 0.89631947]  b =  0.11999999999999995\n",
            "i=  600  W =  [1.1106594  0.88845041]  b =  0.10999999999999996\n",
            "i=  700  W =  [1.11639566 0.89063781]  b =  0.10999999999999996\n",
            "i=  800  W =  [1.12231484 0.89280872]  b =  0.10999999999999996\n",
            "i=  900  W =  [1.12822132 0.89498339]  b =  0.10999999999999996\n"
          ]
        },
        {
          "output_type": "display_data",
          "data": {
            "text/plain": [
              "<Figure size 432x288 with 1 Axes>"
            ],
            "image/png": "[encoded data removed]"
          },
          "metadata": {
            "needs_background": "light"
          }
        },
        {
          "output_type": "stream",
          "name": "stdout",
          "text": [
            "Our w= [1.10954698 0.88976445]  b= 0.10999999999999996\n",
            "SVC  [[1.09756097 0.87804879]]   [0.12195121]\n"
          ]
        }
      ],
      "source": [
        "import numpy as np\n",
        "from sklearn import datasets\n",
        "from sklearn.svm import LinearSVC\n",
        "from sklearn.svm import SVC\n",
        "\n",
        "#X, y =  datasets.make_blobs(n_samples=20, n_features=2, centers=2, cluster_std=1, random_state=123)\n",
        "\n",
        "X = np.array([[0.8,0.0],[0.0,1.0],[-1.0,0.0]])\n",
        "y = np.array([1,1,0])\n",
        "\n",
        "y = np.where(y == 0, -1, 1)\n",
        "#print(X, \" \", y)\n",
        "\n",
        "clf = SVM(niter=1000)\n",
        "clf.fit(X, y)\n",
        "print(\"Our w=\", clf.w, \" b=\", clf.b)\n",
        "\n",
        "#Recommend\n",
        "clf2 = SVC(kernel='linear')\n",
        "#SVC(kernel=\"linear\")\n",
        "clf2.fit(X,y)\n",
        "print(\"SVC \",clf2.coef_,\" \",clf2.intercept_)\n"
      ]
    },
    {
      "cell_type": "code",
      "source": [
        "def plot_svc_decision_function(model, ax=None, plot_support=True):\n",
        "    \"\"\"Plot the decision function for a 2D SVC\"\"\"\n",
        "    if ax is None:\n",
        "        ax = plt.gca()\n",
        "    xlim = ax.get_xlim()\n",
        "    ylim = ax.get_ylim()\n",
        "    \n",
        "    # create grid to evaluate model\n",
        "    x = np.linspace(xlim[0], xlim[1], 30)\n",
        "    y = np.linspace(ylim[0], ylim[1], 30)\n",
        "    Y, X = np.meshgrid(y, x)\n",
        "    xy = np.vstack([X.ravel(), Y.ravel()]).T\n",
        "    P = model.decision_function(xy).reshape(X.shape)\n",
        "    \n",
        "    # plot decision boundary and margins\n",
        "    ax.contour(X, Y, P, colors='k',\n",
        "               levels=[-1, 0, 1], alpha=0.5,\n",
        "               linestyles=['--', '-', '--'])\n",
        "    \n",
        "    # plot support vectors\n",
        "    if plot_support:\n",
        "        ax.scatter(model.support_vectors_[:, 0],\n",
        "                   model.support_vectors_[:, 1],\n",
        "                   s=300, linewidth=1, facecolors='none');\n",
        "    ax.set_xlim(xlim)\n",
        "    ax.set_ylim(ylim)"
      ],
      "metadata": {
        "id": "G3fQTneDnS-M"
      },
      "execution_count": 76,
      "outputs": []
    },
    {
      "cell_type": "code",
      "source": [
        "plt.scatter(X[:, 0], X[:, 1], c=y, s=50, cmap='autumn')\n",
        "plot_svc_decision_function(clf2);\n",
        "clf2.support_vectors_"
      ],
      "metadata": {
        "colab": {
          "base_uri": "https://localhost:8080/",
          "height": 317
        },
        "id": "35BccdDpnX4j",
        "outputId": "2285b8bc-48da-462c-9d6d-38fa120b6a04"
      },
      "execution_count": 77,
      "outputs": [
        {
          "output_type": "execute_result",
          "data": {
            "text/plain": [
              "array([[-1. ,  0. ],\n",
              "       [ 0.8,  0. ],\n",
              "       [ 0. ,  1. ]])"
            ]
          },
          "metadata": {},
          "execution_count": 77
        },
        {
          "output_type": "display_data",
          "data": {
            "text/plain": [
              "<Figure size 432x288 with 1 Axes>"
            ],
            "image/png": "[encoded data removed]"
          },
          "metadata": {
            "needs_background": "light"
          }
        }
      ]
    },
    {
      "cell_type": "markdown",
      "source": [
        "# Exercise\n",
        "1. Create a hinge loss function and use it to check when to stop training.\n",
        "2. Implement Stochastic GD version."
      ],
      "metadata": {
        "id": "rUWwlCaQdqdn"
      }
    }
  ],
  "metadata": {
    "kernelspec": {
      "display_name": "Python 3",
      "language": "python",
      "name": "python3"
    },
    "language_info": {
      "codemirror_mode": {
        "name": "ipython",
        "version": 3
      },
      "file_extension": ".py",
      "mimetype": "text/x-python",
      "name": "python",
      "nbconvert_exporter": "python",
      "pygments_lexer": "ipython3",
      "version": "3.7.4"
    },
    "colab": {
      "name": "SVM-test.ipynb",
      "provenance": [],
      "include_colab_link": true
    }
  },
  "nbformat": 4,
  "nbformat_minor": 0
}