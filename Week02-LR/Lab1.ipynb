{
  "cells": [
    {
      "cell_type": "markdown",
      "metadata": {
        "id": "view-in-github",
        "colab_type": "text"
      },
      "source": [
        "<a href=\"https://colab.research.google.com/github/ekaratnida/Applied-machine-learning/blob/master/Week02-LR/Lab1.ipynb\" target=\"_parent\"><img src=\"https://colab.research.google.com/assets/colab-badge.svg\" alt=\"Open In Colab\"/></a>"
      ]
    },
    {
      "metadata": {
        "id": "kDRb_r-c9zVR"
      },
      "cell_type": "markdown",
      "source": [
        "**Normal equation**"
      ]
    },
    {
      "metadata": {
        "_uuid": "8f2839f25d086af736a60e9eeb907d3b93b6e0e5",
        "_cell_guid": "b1076dfc-b9ad-4769-8c92-a6c4dae69d19",
        "trusted": true,
        "id": "6_YVjzeQ9zVT",
        "outputId": "bfb7f93b-c6f7-4bbb-ba3e-bfc5c8f97409",
        "colab": {
          "base_uri": "https://localhost:8080/",
          "height": 304
        }
      },
      "cell_type": "code",
      "source": [
        "import numpy as np\n",
        "x = np.array([0,2,3])\n",
        "y = np.array([1,1,4])\n",
        "x_b = np.c_[np.ones((3,1)),x]\n",
        "\n",
        "#call inverse function from linear algebra module\n",
        "theta_best = np.linalg.inv(x_b.T.dot(x_b)).dot(x_b.T).dot(y)\n",
        "print(\"theta = \", theta_best)\n",
        "\n",
        "#prediction\n",
        "x_n = np.array([[0],[10]])\n",
        "x_n_b = np.c_[np.ones((2,1)), x_n]\n",
        "y_p = x_n_b.dot(theta_best)\n",
        "print(\"y predict = \",y_p)\n",
        "\n",
        "import matplotlib.pyplot as plt\n",
        "plt.plot(x_n, y_p,\"r-\")\n",
        "plt.plot(x,y, \"b.\")\n",
        "plt.axis([0,10,0,10])\n",
        "plt.show()\n"
      ],
      "execution_count": 185,
      "outputs": [
        {
          "output_type": "stream",
          "name": "stdout",
          "text": [
            "theta =  [0.57142857 0.85714286]\n",
            "y predict =  [0.57142857 9.14285714]\n"
          ]
        },
        {
          "output_type": "display_data",
          "data": {
            "text/plain": [
              "<Figure size 432x288 with 1 Axes>"
            ],
            "image/png": "[encoded data removed]"
          },
          "metadata": {
            "needs_background": "light"
          }
        }
      ]
    },
    {
      "metadata": {
        "id": "OK0G0dYD9zVV"
      },
      "cell_type": "markdown",
      "source": [
        "**Sklearn**"
      ]
    },
    {
      "metadata": {
        "_uuid": "d629ff2d2480ee46fbb7e2d37f6b5fab8052498a",
        "_cell_guid": "79c7e3d0-c299-4dcb-8224-4455121ee9b0",
        "trusted": true,
        "id": "c8kTg8vl9zVV",
        "outputId": "73638520-fd77-4327-90fc-a0bcbdd99589",
        "colab": {
          "base_uri": "https://localhost:8080/"
        }
      },
      "cell_type": "code",
      "source": [
        "import numpy as np\n",
        "from sklearn.linear_model import LinearRegression \n",
        "x = np.array([[0,2,3]]).T\n",
        "y = np.array([1,1,4])\n",
        "\n",
        "lin_reg = LinearRegression()\n",
        "lin_reg.fit(x, y)\n",
        "print(lin_reg.intercept_, \" , \", lin_reg.coef_)\n",
        "x_n = np.array([[0]]).T\n",
        "ans = lin_reg.predict(x_n)\n",
        "print(ans)\n"
      ],
      "execution_count": 186,
      "outputs": [
        {
          "output_type": "stream",
          "name": "stdout",
          "text": [
            "0.5714285714285712  ,  [0.85714286]\n",
            "[0.57142857]\n"
          ]
        }
      ]
    },
    {
      "metadata": {
        "id": "9U0RQy8g9zVW"
      },
      "cell_type": "markdown",
      "source": [
        "**Gradient descent**\n"
      ]
    },
    {
      "cell_type": "code",
      "source": [
        "lossDict1 = {}\n",
        "lossDict2 = {}"
      ],
      "metadata": {
        "id": "-y4M9vB5bFjV"
      },
      "execution_count": 187,
      "outputs": []
    },
    {
      "metadata": {
        "trusted": true,
        "id": "8vqoKCdK9zVW",
        "outputId": "c8d6cc50-1f89-4b4e-8fde-7fd8cbed0b4b",
        "colab": {
          "base_uri": "https://localhost:8080/",
          "height": 369
        }
      },
      "cell_type": "code",
      "source": [
        "import numpy as np\n",
        "import random\n",
        "import sklearn\n",
        "#from sklearn.datasets.samples_generator import make_regression \n",
        "import matplotlib.pyplot as plt\n",
        "from scipy import stats\n",
        "\n",
        "def cost_function(theta0, theta1, x, y, m):\n",
        "    c = sum([(theta0 + theta1*x[i] - y[i])**2 for i in range(m)])\n",
        "    return c\n",
        "\n",
        "def gradient_descent(alpha, x, y, ep=0.001, max_iter=10000):\n",
        "\n",
        "    converged = False\n",
        "    iter = 0\n",
        "    m = x.shape[0] # number of samples\n",
        "\n",
        "    # initial theta\n",
        "    t0 = [1] #np.random.random(x.shape[1])\n",
        "    print(type(t0),\" \",t0)\n",
        "  \n",
        "    t1 = [1] #np.random.random(x.shape[1])\n",
        "\n",
        "    # total error, J(theta)\n",
        "    J = cost_function(t0,t1,x,y,m)\n",
        "    print(\">>\",J)\n",
        "    lossDict1[t0[0]] = J[0]\n",
        "    lossDict2[t1[0]] = J[0]\n",
        "\n",
        "    # Iterate Loop\n",
        "    while not converged:\n",
        "        grad0 = sum([(t0 + t1*x[i] - y[i]) for i in range(m)]) \n",
        "        grad1 = sum([(t0 + t1*x[i] - y[i])*x[i] for i in range(m)])\n",
        "\n",
        "        # update the theta_temp\n",
        "        temp0 = t0 - alpha * grad0\n",
        "        temp1 = t1 - alpha * grad1\n",
        "        # update theta\n",
        "        t0 = temp0\n",
        "        t1 = temp1\n",
        "\n",
        "        # error\n",
        "        e = cost_function(t0,t1,x,y,m)\n",
        "       \n",
        "        #Terminate 1\n",
        "        if abs(J-e) <= ep:\n",
        "           print(\"Converged at \", iter, \"/\", max_iter)\n",
        "           converged = True\n",
        "    \n",
        "        J = e   # update error s\n",
        "        iter += 1  # update iter\n",
        "\n",
        "        lossDict1[t0[0]] = J[0]\n",
        "        lossDict2[t1[0]] = J[0]\n",
        "    \n",
        "        #Termiate 2\n",
        "        if iter == max_iter:\n",
        "            print('Max interactions exceeded!')\n",
        "            converged = True\n",
        "\n",
        "    return t0,t1\n",
        "\n",
        "\n",
        "if __name__ == '__main__':\n",
        "\n",
        "    #x, y = make_regression(n_samples=100, n_features=1, n_informative=1, random_state=0, noise=35) \n",
        "    x = np.array([[0,2,3]]).T # or x = np.array([[0],[2],[3]])\n",
        "    y = np.array([1,1,4])\n",
        "    print(\"x.shape = %s y.shape = %s\" %(x.shape, y.shape))\n",
        "    alpha = 0.001 # learning rate\n",
        "\n",
        "    theta0, theta1 = gradient_descent(alpha, x, y, max_iter=2000)\n",
        "    print ((\"theta0 = %s theta1 = %s\") %(theta0, theta1)) \n",
        "\n",
        "    # check with scipy linear regression \n",
        "    slope, intercept, r_value, p_value, slope_std_error = stats.linregress(x[:,0], y)\n",
        "    print ((\"intercept = %s slope = %s\") %(intercept, slope))\n",
        "\n",
        "    # plot\n",
        "    for i in range(x.shape[0]):\n",
        "        y_predict = theta0 + theta1*x \n",
        "\n",
        "    plt.plot(x,y,'o')\n",
        "    plt.plot(x,y_predict,'k-')\n",
        "    plt.show()"
      ],
      "execution_count": 188,
      "outputs": [
        {
          "output_type": "stream",
          "name": "stdout",
          "text": [
            "x.shape = (3, 1) y.shape = (3,)\n",
            "<class 'list'>   [1]\n",
            ">> [4]\n",
            "Converged at  127 / 2000\n",
            "theta0 = [0.86758281] theta1 = [0.78033748]\n",
            "intercept = 0.5714285714285714 slope = 0.8571428571428571\n"
          ]
        },
        {
          "output_type": "display_data",
          "data": {
            "text/plain": [
              "<Figure size 432x288 with 1 Axes>"
            ],
            "image/png": "[encoded data removed]"
          },
          "metadata": {
            "needs_background": "light"
          }
        }
      ]
    },
    {
      "cell_type": "code",
      "source": [
        ""
      ],
      "metadata": {
        "id": "hSx-Ati3Ug8x"
      },
      "execution_count": 188,
      "outputs": []
    },
    {
      "cell_type": "markdown",
      "source": [
        "#Gradient Descent curve Static VS Dynamic"
      ],
      "metadata": {
        "id": "JcLLXKDareic"
      }
    },
    {
      "cell_type": "code",
      "source": [
        "lists = sorted(lossDict1.items()) # sorted by key, return a list of tuples\n",
        "_x, _y = zip(*lists) # unpack a list of pairs into two tuples\n",
        "print(_x)\n",
        "print(\">>\")\n",
        "print(_y)\n",
        "plt.plot(_x, _y)"
      ],
      "metadata": {
        "colab": {
          "base_uri": "https://localhost:8080/",
          "height": 355
        },
        "id": "2VA6vYmnbPAk",
        "outputId": "d222c7f8-148d-45c8-f807-294a9ea3a314"
      },
      "execution_count": 189,
      "outputs": [
        {
          "output_type": "stream",
          "name": "stdout",
          "text": [
            "(0.8675828064691213, 0.8680912236691516, 0.8686036797143897, 0.8691202329277811, 0.8696409425214763, 0.8701658686104343, 0.870695072226234, 0.8712286153310967, 0.8717665608321243, 0.8723089725957537, 0.8728559154624334, 0.8734074552615249, 0.8739636588264313, 0.8745245940099581, 0.8750903296999082, 0.8756609358349168, 0.8762364834205273, 0.8768170445455139, 0.877402692398454, 0.8779935012845537, 0.8785895466427311, 0.8791909050629615, 0.8797976543038863, 0.8804098733106938, 0.8810276422332711, 0.8816510424446362, 0.8822801565596496, 0.8829150684540146, 0.8835558632835663, 0.8842026275038576, 0.8848554488900434, 0.8855144165570699, 0.8861796209801722, 0.8868511540156867, 0.8875291089221801, 0.8882135803819037, 0.8889046645225748, 0.8896024589394913, 0.8903070627179858, 0.8910185764562216, 0.8917371022883392, 0.8924627439079561, 0.8931956065920258, 0.8939357972250629, 0.8946834243237383, 0.8954385980618506, 0.89620143029568, 0.89697203458973, 0.8977505262428627, 0.8985370223148345, 0.8993316416532376, 0.9001345049208538, 0.9009457346234263, 0.9017654551378578, 0.9025937927408386, 0.9034308756379137, 0.9042768339929942, 0.9051317999583205, 0.9059959077048839, 0.9068692934533139, 0.9077520955052376, 0.9086444542751195, 0.9095465123225884, 0.9104584143852587, 0.9113803074120539, 0.9123123405970406, 0.9132546654137793, 0.9142074356502017, 0.9151708074440209, 0.9161449393186842, 0.9171299922198756, 0.9181261295525764, 0.9191335172186941, 0.9201523236552657, 0.9211827198732467, 0.9222248794968932, 0.9232789788037461, 0.924345196765228, 0.9254237150878607, 0.9265147182551139, 0.9276183935698936, 0.9287349311976812, 0.9298645242103323, 0.9310073686305459, 0.9321636634770144, 0.9333336108102634, 0.9345174157791946, 0.9357152866683386, 0.9369274349458333, 0.9381540753121345, 0.9393954257494725, 0.9406517075720661, 0.9419231454771035, 0.9432099675965051, 0.9445124055494765, 0.9458306944958672, 0.9471650731903449, 0.948515784037399, 0.9498830731471856, 0.9512671903922273, 0.9526683894649806, 0.9540869279362836, 0.9555230673146988, 0.9569770731067636, 0.9584492148781625, 0.9599397663158357, 0.961449005291038, 0.9629772139233627, 0.9645246786457444, 0.9660916902704578, 0.9676785440561251, 0.9692855397757495, 0.9709129817857896, 0.9725611790962903, 0.9742304454420875, 0.975921099355102, 0.9776334642377393, 0.9793678684374134, 0.9811246453222097, 0.9829041333577069, 0.9847066761849738, 0.9865326226997594, 0.9883823271328954, 0.990256149131928, 0.992154453844, 0.994077612, 0.996026, 0.998, 1)\n",
            ">>\n",
            "(2.6837760411675022, 2.684769219765045, 2.68578842769581, 2.6868344590853965, 2.68790813253233, 2.68901029186273, 2.690141806908231, 2.6913035743078977, 2.692496518334874, 2.6937215917485138, 2.694979776672799, 2.696272085501837, 2.697599561833289, 2.6989632814305793, 2.700364353214777, 2.701803920287061, 2.7032831609827257, 2.704803289957676, 2.7063655593084417, 2.7079712597267136, 2.7096217216894996, 2.711318316685964, 2.7130624584821232, 2.714855604424515, 2.7166992567840897, 2.7185949641415306, 2.7205443228153094, 2.722548978333757, 2.7246106269525465, 2.726731017218974, 2.72891195158446, 2.7311552880667938, 2.733462941963627, 2.7358368876188135, 2.7382791602432066, 2.740791857791631, 2.7433771428977005, 2.7460372448683312, 2.748774461739741, 2.751591162396866, 2.7544897887581135, 2.757472858027515, 2.760542965016306, 2.763702784536107, 2.7669550738659066, 2.7703026752951208, 2.773748518745057, 2.777295624471245, 2.7809471058490796, 2.7847061722453748, 2.7885761319784645, 2.7925603953695903, 2.796662477888389, 2.8008860033953584, 2.805234707484348, 2.809712440928091, 2.8143231732300023, 2.81907099628551, 2.82396012815628, 2.8289949169608395, 2.8341798448851687, 2.839519532316974, 2.8450187421074578, 2.850682383964498, 2.856515518981303, 2.862523364304736, 2.868711297947578, 2.875084863749202, 2.8816497764892137, 2.888411927158794, 2.895377388394583, 2.902552420080146, 2.909943475120162, 2.9175572053926793, 2.925400467884931, 2.9334803310183473, 2.941804081168628, 2.9503792293868716, 2.9592135183279775, 2.968314929392683, 2.9776916900898636, 2.9873522816258573, 2.9973054467278217, 3.0075601977083553, 3.0181258247787985, 3.029011904618912, 3.0402283092108, 3.051785214945273, 3.0636931120090134, 3.0759628140612207, 3.088605468208664, 3.101632565288336, 3.1150559504672, 3.128887834168804, 3.143140803336853, 3.15782783304611, 3.172962298471352, 3.1885579872254257, 3.204629112077765, 3.2211903240651316, 3.2382567260066413, 3.2558438864355765, 3.2739678539608, 3.2926451720710688, 3.311892894395837, 3.3317286004367066, 3.3521704117839595, 3.373237008833192, 3.394947648017433, 3.41732217957067, 3.4403810658391447, 3.4641454001573333, 3.4886369263060177, 3.513878058570373, 3.5398919024166298, 3.566702275806326, 3.5943337311678447, 3.622811578045505, 3.6521619064470903, 3.682411610911351, 3.713588415317701, 3.745720898460966, 3.77883852041481, 3.8129716497081336, 3.8481515913395303, 3.8844106156556326, 3.9217819881200002, 3.960300000000001, 4)\n"
          ]
        },
        {
          "output_type": "execute_result",
          "data": {
            "text/plain": [
              "[<matplotlib.lines.Line2D at 0x7f2c4bd8f690>]"
            ]
          },
          "metadata": {},
          "execution_count": 189
        },
        {
          "output_type": "display_data",
          "data": {
            "text/plain": [
              "<Figure size 432x288 with 1 Axes>"
            ],
            "image/png": "[encoded data removed]"
          },
          "metadata": {
            "needs_background": "light"
          }
        }
      ]
    },
    {
      "cell_type": "code",
      "source": [
        "lists2 = sorted(lossDict2.items()) # sorted by key, return a list of tuples\n",
        "_x2, _y2 = zip(*lists2) # unpack a list of pairs into two tuples\n",
        "print(_x2)\n",
        "print(\",,\")\n",
        "print( _y2)\n",
        "plt.plot(_x2, _y2)"
      ],
      "metadata": {
        "id": "rYItRC1hQyL_",
        "outputId": "5d55a7b9-31d8-42bd-a96f-b79448ab7658",
        "colab": {
          "base_uri": "https://localhost:8080/",
          "height": 355
        }
      },
      "execution_count": 190,
      "outputs": [
        {
          "output_type": "stream",
          "name": "stdout",
          "text": [
            "(0.7803374765107646, 0.7808287058045698, 0.7813290012189885, 0.7818385029216083, 0.7823573532261557, 0.7828856966253372, 0.7834236798241828, 0.783971451773899, 0.7845291637062408, 0.7850969691684089, 0.7856750240584813, 0.786263486661387, 0.7868625176854298, 0.7874722802993714, 0.788092940170082, 0.7887246655007666, 0.7893676270697764, 0.7900219982700141, 0.7906879551489426, 0.7913656764492051, 0.792055343649867, 0.7927571410082895, 0.7934712556026433, 0.7941978773750727, 0.7949371991755209, 0.795689416806225, 0.7964547290668929, 0.7972333378005704, 0.7980254479402109, 0.7988312675559577, 0.7996510079031488, 0.800484883471058, 0.8013331120323798, 0.8021959146934734, 0.8030735159453741, 0.8039661437155863, 0.8048740294206679, 0.8057974080196204, 0.8067365180680955, 0.8076916017734312, 0.8086629050505298, 0.8096506775785913, 0.8106551728587148, 0.8116766482723811, 0.8127153651408305, 0.8137715887853494, 0.814845588588478, 0.8159376380561567, 0.8170480148808217, 0.818177001005467, 0.8193248826886861, 0.8204919505707096, 0.8216784997404526, 0.8228848298035886, 0.8241112449516644, 0.8253580540322736, 0.8266255706203025, 0.8279141130902676, 0.8292240046897589, 0.8305555736140076, 0.8319091530815945, 0.8332850814113173, 0.8346837021002332, 0.8361053639028972, 0.8375504209118111, 0.8390192326391046, 0.8405121640994666, 0.8420295858943441, 0.8435718742974307, 0.8451394113414632, 0.8467325849063451, 0.84835178880862, 0.8499974228923136, 0.851669893121165, 0.8533696116722708, 0.8550969970311603, 0.8568524740883272, 0.8586364742372374, 0.8604494354738366, 0.8622918024975806, 0.8641640268140123, 0.8660665668389065, 0.8679998880040103, 0.8699644628644002, 0.8719607712074826, 0.8739893001636615, 0.8760505443187006, 0.8781450058278037, 0.8802731945314417, 0.8824356280729507, 0.8846328320179312, 0.8868653399754727, 0.8891336937212342, 0.8914384433224081, 0.8937801472645952, 0.8961593725806226, 0.8985766949813316, 0.9010326989883674, 0.9035279780690003, 0.9060631347730106, 0.9086387808716672, 0.9112555374988334, 0.9139140352942319, 0.9166149145489014, 0.9193588253528797, 0.9221464277451458, 0.9249783918658571, 0.9278553981109158, 0.9307781372889002, 0.9337473107803977, 0.9367636306997754, 0.9398278200594267, 0.9429406129365305, 0.9461027546423627, 0.9493150018941977, 0.9525781229898411, 0.9558928979848327, 0.9592601188723604, 0.9626805897659285, 0.9661551270848197, 0.9696845597423956, 0.9732697293372791, 0.9769114903474605, 0.980610710327376, 0.984368270108, 0.988185064, 0.992062, 0.996, 1)\n",
            ",,\n",
            "(2.6837760411675022, 2.684769219765045, 2.68578842769581, 2.6868344590853965, 2.68790813253233, 2.68901029186273, 2.690141806908231, 2.6913035743078977, 2.692496518334874, 2.6937215917485138, 2.694979776672799, 2.696272085501837, 2.697599561833289, 2.6989632814305793, 2.700364353214777, 2.701803920287061, 2.7032831609827257, 2.704803289957676, 2.7063655593084417, 2.7079712597267136, 2.7096217216894996, 2.711318316685964, 2.7130624584821232, 2.714855604424515, 2.7166992567840897, 2.7185949641415306, 2.7205443228153094, 2.722548978333757, 2.7246106269525465, 2.726731017218974, 2.72891195158446, 2.7311552880667938, 2.733462941963627, 2.7358368876188135, 2.7382791602432066, 2.740791857791631, 2.7433771428977005, 2.7460372448683312, 2.748774461739741, 2.751591162396866, 2.7544897887581135, 2.757472858027515, 2.760542965016306, 2.763702784536107, 2.7669550738659066, 2.7703026752951208, 2.773748518745057, 2.777295624471245, 2.7809471058490796, 2.7847061722453748, 2.7885761319784645, 2.7925603953695903, 2.796662477888389, 2.8008860033953584, 2.805234707484348, 2.809712440928091, 2.8143231732300023, 2.81907099628551, 2.82396012815628, 2.8289949169608395, 2.8341798448851687, 2.839519532316974, 2.8450187421074578, 2.850682383964498, 2.856515518981303, 2.862523364304736, 2.868711297947578, 2.875084863749202, 2.8816497764892137, 2.888411927158794, 2.895377388394583, 2.902552420080146, 2.909943475120162, 2.9175572053926793, 2.925400467884931, 2.9334803310183473, 2.941804081168628, 2.9503792293868716, 2.9592135183279775, 2.968314929392683, 2.9776916900898636, 2.9873522816258573, 2.9973054467278217, 3.0075601977083553, 3.0181258247787985, 3.029011904618912, 3.0402283092108, 3.051785214945273, 3.0636931120090134, 3.0759628140612207, 3.088605468208664, 3.101632565288336, 3.1150559504672, 3.128887834168804, 3.143140803336853, 3.15782783304611, 3.172962298471352, 3.1885579872254257, 3.204629112077765, 3.2211903240651316, 3.2382567260066413, 3.2558438864355765, 3.2739678539608, 3.2926451720710688, 3.311892894395837, 3.3317286004367066, 3.3521704117839595, 3.373237008833192, 3.394947648017433, 3.41732217957067, 3.4403810658391447, 3.4641454001573333, 3.4886369263060177, 3.513878058570373, 3.5398919024166298, 3.566702275806326, 3.5943337311678447, 3.622811578045505, 3.6521619064470903, 3.682411610911351, 3.713588415317701, 3.745720898460966, 3.77883852041481, 3.8129716497081336, 3.8481515913395303, 3.8844106156556326, 3.9217819881200002, 3.960300000000001, 4)\n"
          ]
        },
        {
          "output_type": "execute_result",
          "data": {
            "text/plain": [
              "[<matplotlib.lines.Line2D at 0x7f2c44e97750>]"
            ]
          },
          "metadata": {},
          "execution_count": 190
        },
        {
          "output_type": "display_data",
          "data": {
            "text/plain": [
              "<Figure size 432x288 with 1 Axes>"
            ],
            "image/png": "[encoded data removed]"
          },
          "metadata": {
            "needs_background": "light"
          }
        }
      ]
    },
    {
      "cell_type": "code",
      "source": [
        "import plotly.graph_objects as go\n",
        "import numpy as np\n",
        "\n",
        "_x = list(_x)\n",
        "_y = list(_y)\n",
        "xm = np.min(_x) - 0.2\n",
        "xM = np.max(_x) + 0.2\n",
        "ym = np.min(_y) - 0.2\n",
        "yM = np.max(_y) + 0.2\n",
        "N = len(_x)\n",
        "\n",
        "# Create figure\n",
        "fig = go.Figure(\n",
        "    data=[go.Scatter(x=_x, y=_y,\n",
        "                     mode=\"lines\",\n",
        "                     line=dict(width=2, color=\"blue\")),\n",
        "          go.Scatter(x=_x, y=_y,\n",
        "                     mode=\"lines\",\n",
        "                     line=dict(width=2, color=\"blue\"))],\n",
        "    layout=go.Layout(\n",
        "        xaxis=dict(range=[xm, xM], autorange=False, zeroline=False),\n",
        "        yaxis=dict(range=[ym, yM], autorange=False, zeroline=False),\n",
        "        title_text=\"Gradient Descent Curve\",     \n",
        "        hovermode=\"closest\",\n",
        "        xaxis_title=\"Theta0\", \n",
        "        yaxis_title=\"Loss value (MSE)\",\n",
        "        updatemenus=[dict(type=\"buttons\",\n",
        "                          buttons=[dict(label=\"Play\",\n",
        "                                        method=\"animate\",\n",
        "                                        args=[None])])]),\n",
        "    frames=[go.Frame(\n",
        "        data=[go.Scatter(\n",
        "            x=[_x[k]],\n",
        "            y=[_y[k]],\n",
        "            mode=\"markers\",\n",
        "            marker=dict(color=\"red\", size=10))])\n",
        "\n",
        "        for k in range(N-1,0,-5)],\n",
        ")\n",
        "\n",
        "fig.show()"
      ],
      "metadata": {
        "colab": {
          "base_uri": "https://localhost:8080/",
          "height": 542
        },
        "id": "9dyO-KMLkS35",
        "outputId": "65f68eb6-b272-453e-ddff-68e06b26f4b7"
      },
      "execution_count": 191,
      "outputs": [
        {
          "output_type": "display_data",
          "data": {
            "text/html": [
              "<html>\n",
              "<head><meta charset=\"utf-8\" /></head>\n",
              "<body>\n",
              "    <div>            <script src=\"https://cdnjs.cloudflare.com/ajax/libs/mathjax/2.7.5/MathJax.js?config=TeX-AMS-MML_SVG\"></script><script type=\"text/javascript\">if (window.MathJax) {MathJax.Hub.Config({SVG: {font: \"STIX-Web\"}});}</script>                <script type=\"text/javascript\">window.PlotlyConfig = {MathJaxConfig: 'local'};</script>\n",
              "        <script src=\"https://cdn.plot.ly/plotly-2.8.3.min.js\"></script>                <div id=\"e8f1a17c-f593-4eda-a74f-389e1d67b475\" class=\"plotly-graph-div\" style=\"height:525px; width:100%;\"></div>            <script type=\"text/javascript\">                                    window.PLOTLYENV=window.PLOTLYENV || {};                                    if (document.getElementById(\"e8f1a17c-f593-4eda-a74f-389e1d67b475\")) {                    Plotly.newPlot(                        \"e8f1a17c-f593-4eda-a74f-389e1d67b475\",                        [{\"line\":{\"color\":\"blue\",\"width\":2},\"mode\":\"lines\",\"x\":[0.8675828064691213,0.8680912236691516,0.8686036797143897,0.8691202329277811,0.8696409425214763,0.8701658686104343,0.870695072226234,0.8712286153310967,0.8717665608321243,0.8723089725957537,0.8728559154624334,0.8734074552615249,0.8739636588264313,0.8745245940099581,0.8750903296999082,0.8756609358349168,0.8762364834205273,0.8768170445455139,0.877402692398454,0.8779935012845537,0.8785895466427311,0.8791909050629615,0.8797976543038863,0.8804098733106938,0.8810276422332711,0.8816510424446362,0.8822801565596496,0.8829150684540146,0.8835558632835663,0.8842026275038576,0.8848554488900434,0.8855144165570699,0.8861796209801722,0.8868511540156867,0.8875291089221801,0.8882135803819037,0.8889046645225748,0.8896024589394913,0.8903070627179858,0.8910185764562216,0.8917371022883392,0.8924627439079561,0.8931956065920258,0.8939357972250629,0.8946834243237383,0.8954385980618506,0.89620143029568,0.89697203458973,0.8977505262428627,0.8985370223148345,0.8993316416532376,0.9001345049208538,0.9009457346234263,0.9017654551378578,0.9025937927408386,0.9034308756379137,0.9042768339929942,0.9051317999583205,0.9059959077048839,0.9068692934533139,0.9077520955052376,0.9086444542751195,0.9095465123225884,0.9104584143852587,0.9113803074120539,0.9123123405970406,0.9132546654137793,0.9142074356502017,0.9151708074440209,0.9161449393186842,0.9171299922198756,0.9181261295525764,0.9191335172186941,0.9201523236552657,0.9211827198732467,0.9222248794968932,0.9232789788037461,0.924345196765228,0.9254237150878607,0.9265147182551139,0.9276183935698936,0.9287349311976812,0.9298645242103323,0.9310073686305459,0.9321636634770144,0.9333336108102634,0.9345174157791946,0.9357152866683386,0.9369274349458333,0.9381540753121345,0.9393954257494725,0.9406517075720661,0.9419231454771035,0.9432099675965051,0.9445124055494765,0.9458306944958672,0.9471650731903449,0.948515784037399,0.9498830731471856,0.9512671903922273,0.9526683894649806,0.9540869279362836,0.9555230673146988,0.9569770731067636,0.9584492148781625,0.9599397663158357,0.961449005291038,0.9629772139233627,0.9645246786457444,0.9660916902704578,0.9676785440561251,0.9692855397757495,0.9709129817857896,0.9725611790962903,0.9742304454420875,0.975921099355102,0.9776334642377393,0.9793678684374134,0.9811246453222097,0.9829041333577069,0.9847066761849738,0.9865326226997594,0.9883823271328954,0.990256149131928,0.992154453844,0.994077612,0.996026,0.998,1],\"y\":[2.6837760411675022,2.684769219765045,2.68578842769581,2.6868344590853965,2.68790813253233,2.68901029186273,2.690141806908231,2.6913035743078977,2.692496518334874,2.6937215917485138,2.694979776672799,2.696272085501837,2.697599561833289,2.6989632814305793,2.700364353214777,2.701803920287061,2.7032831609827257,2.704803289957676,2.7063655593084417,2.7079712597267136,2.7096217216894996,2.711318316685964,2.7130624584821232,2.714855604424515,2.7166992567840897,2.7185949641415306,2.7205443228153094,2.722548978333757,2.7246106269525465,2.726731017218974,2.72891195158446,2.7311552880667938,2.733462941963627,2.7358368876188135,2.7382791602432066,2.740791857791631,2.7433771428977005,2.7460372448683312,2.748774461739741,2.751591162396866,2.7544897887581135,2.757472858027515,2.760542965016306,2.763702784536107,2.7669550738659066,2.7703026752951208,2.773748518745057,2.777295624471245,2.7809471058490796,2.7847061722453748,2.7885761319784645,2.7925603953695903,2.796662477888389,2.8008860033953584,2.805234707484348,2.809712440928091,2.8143231732300023,2.81907099628551,2.82396012815628,2.8289949169608395,2.8341798448851687,2.839519532316974,2.8450187421074578,2.850682383964498,2.856515518981303,2.862523364304736,2.868711297947578,2.875084863749202,2.8816497764892137,2.888411927158794,2.895377388394583,2.902552420080146,2.909943475120162,2.9175572053926793,2.925400467884931,2.9334803310183473,2.941804081168628,2.9503792293868716,2.9592135183279775,2.968314929392683,2.9776916900898636,2.9873522816258573,2.9973054467278217,3.0075601977083553,3.0181258247787985,3.029011904618912,3.0402283092108,3.051785214945273,3.0636931120090134,3.0759628140612207,3.088605468208664,3.101632565288336,3.1150559504672,3.128887834168804,3.143140803336853,3.15782783304611,3.172962298471352,3.1885579872254257,3.204629112077765,3.2211903240651316,3.2382567260066413,3.2558438864355765,3.2739678539608,3.2926451720710688,3.311892894395837,3.3317286004367066,3.3521704117839595,3.373237008833192,3.394947648017433,3.41732217957067,3.4403810658391447,3.4641454001573333,3.4886369263060177,3.513878058570373,3.5398919024166298,3.566702275806326,3.5943337311678447,3.622811578045505,3.6521619064470903,3.682411610911351,3.713588415317701,3.745720898460966,3.77883852041481,3.8129716497081336,3.8481515913395303,3.8844106156556326,3.9217819881200002,3.960300000000001,4],\"type\":\"scatter\"},{\"line\":{\"color\":\"blue\",\"width\":2},\"mode\":\"lines\",\"x\":[0.8675828064691213,0.8680912236691516,0.8686036797143897,0.8691202329277811,0.8696409425214763,0.8701658686104343,0.870695072226234,0.8712286153310967,0.8717665608321243,0.8723089725957537,0.8728559154624334,0.8734074552615249,0.8739636588264313,0.8745245940099581,0.8750903296999082,0.8756609358349168,0.8762364834205273,0.8768170445455139,0.877402692398454,0.8779935012845537,0.8785895466427311,0.8791909050629615,0.8797976543038863,0.8804098733106938,0.8810276422332711,0.8816510424446362,0.8822801565596496,0.8829150684540146,0.8835558632835663,0.8842026275038576,0.8848554488900434,0.8855144165570699,0.8861796209801722,0.8868511540156867,0.8875291089221801,0.8882135803819037,0.8889046645225748,0.8896024589394913,0.8903070627179858,0.8910185764562216,0.8917371022883392,0.8924627439079561,0.8931956065920258,0.8939357972250629,0.8946834243237383,0.8954385980618506,0.89620143029568,0.89697203458973,0.8977505262428627,0.8985370223148345,0.8993316416532376,0.9001345049208538,0.9009457346234263,0.9017654551378578,0.9025937927408386,0.9034308756379137,0.9042768339929942,0.9051317999583205,0.9059959077048839,0.9068692934533139,0.9077520955052376,0.9086444542751195,0.9095465123225884,0.9104584143852587,0.9113803074120539,0.9123123405970406,0.9132546654137793,0.9142074356502017,0.9151708074440209,0.9161449393186842,0.9171299922198756,0.9181261295525764,0.9191335172186941,0.9201523236552657,0.9211827198732467,0.9222248794968932,0.9232789788037461,0.924345196765228,0.9254237150878607,0.9265147182551139,0.9276183935698936,0.9287349311976812,0.9298645242103323,0.9310073686305459,0.9321636634770144,0.9333336108102634,0.9345174157791946,0.9357152866683386,0.9369274349458333,0.9381540753121345,0.9393954257494725,0.9406517075720661,0.9419231454771035,0.9432099675965051,0.9445124055494765,0.9458306944958672,0.9471650731903449,0.948515784037399,0.9498830731471856,0.9512671903922273,0.9526683894649806,0.9540869279362836,0.9555230673146988,0.9569770731067636,0.9584492148781625,0.9599397663158357,0.961449005291038,0.9629772139233627,0.9645246786457444,0.9660916902704578,0.9676785440561251,0.9692855397757495,0.9709129817857896,0.9725611790962903,0.9742304454420875,0.975921099355102,0.9776334642377393,0.9793678684374134,0.9811246453222097,0.9829041333577069,0.9847066761849738,0.9865326226997594,0.9883823271328954,0.990256149131928,0.992154453844,0.994077612,0.996026,0.998,1],\"y\":[2.6837760411675022,2.684769219765045,2.68578842769581,2.6868344590853965,2.68790813253233,2.68901029186273,2.690141806908231,2.6913035743078977,2.692496518334874,2.6937215917485138,2.694979776672799,2.696272085501837,2.697599561833289,2.6989632814305793,2.700364353214777,2.701803920287061,2.7032831609827257,2.704803289957676,2.7063655593084417,2.7079712597267136,2.7096217216894996,2.711318316685964,2.7130624584821232,2.714855604424515,2.7166992567840897,2.7185949641415306,2.7205443228153094,2.722548978333757,2.7246106269525465,2.726731017218974,2.72891195158446,2.7311552880667938,2.733462941963627,2.7358368876188135,2.7382791602432066,2.740791857791631,2.7433771428977005,2.7460372448683312,2.748774461739741,2.751591162396866,2.7544897887581135,2.757472858027515,2.760542965016306,2.763702784536107,2.7669550738659066,2.7703026752951208,2.773748518745057,2.777295624471245,2.7809471058490796,2.7847061722453748,2.7885761319784645,2.7925603953695903,2.796662477888389,2.8008860033953584,2.805234707484348,2.809712440928091,2.8143231732300023,2.81907099628551,2.82396012815628,2.8289949169608395,2.8341798448851687,2.839519532316974,2.8450187421074578,2.850682383964498,2.856515518981303,2.862523364304736,2.868711297947578,2.875084863749202,2.8816497764892137,2.888411927158794,2.895377388394583,2.902552420080146,2.909943475120162,2.9175572053926793,2.925400467884931,2.9334803310183473,2.941804081168628,2.9503792293868716,2.9592135183279775,2.968314929392683,2.9776916900898636,2.9873522816258573,2.9973054467278217,3.0075601977083553,3.0181258247787985,3.029011904618912,3.0402283092108,3.051785214945273,3.0636931120090134,3.0759628140612207,3.088605468208664,3.101632565288336,3.1150559504672,3.128887834168804,3.143140803336853,3.15782783304611,3.172962298471352,3.1885579872254257,3.204629112077765,3.2211903240651316,3.2382567260066413,3.2558438864355765,3.2739678539608,3.2926451720710688,3.311892894395837,3.3317286004367066,3.3521704117839595,3.373237008833192,3.394947648017433,3.41732217957067,3.4403810658391447,3.4641454001573333,3.4886369263060177,3.513878058570373,3.5398919024166298,3.566702275806326,3.5943337311678447,3.622811578045505,3.6521619064470903,3.682411610911351,3.713588415317701,3.745720898460966,3.77883852041481,3.8129716497081336,3.8481515913395303,3.8844106156556326,3.9217819881200002,3.960300000000001,4],\"type\":\"scatter\"}],                        {\"hovermode\":\"closest\",\"title\":{\"text\":\"Gradient Descent Curve\"},\"updatemenus\":[{\"buttons\":[{\"args\":[null],\"label\":\"Play\",\"method\":\"animate\"}],\"type\":\"buttons\"}],\"xaxis\":{\"autorange\":false,\"range\":[0.6675828064691214,1.2],\"title\":{\"text\":\"Theta0\"},\"zeroline\":false},\"yaxis\":{\"autorange\":false,\"range\":[2.483776041167502,4.2],\"title\":{\"text\":\"Loss value (MSE)\"},\"zeroline\":false},\"template\":{\"data\":{\"bar\":[{\"error_x\":{\"color\":\"#2a3f5f\"},\"error_y\":{\"color\":\"#2a3f5f\"},\"marker\":{\"line\":{\"color\":\"#E5ECF6\",\"width\":0.5},\"pattern\":{\"fillmode\":\"overlay\",\"size\":10,\"solidity\":0.2}},\"type\":\"bar\"}],\"barpolar\":[{\"marker\":{\"line\":{\"color\":\"#E5ECF6\",\"width\":0.5},\"pattern\":{\"fillmode\":\"overlay\",\"size\":10,\"solidity\":0.2}},\"type\":\"barpolar\"}],\"carpet\":[{\"aaxis\":{\"endlinecolor\":\"#2a3f5f\",\"gridcolor\":\"white\",\"linecolor\":\"white\",\"minorgridcolor\":\"white\",\"startlinecolor\":\"#2a3f5f\"},\"baxis\":{\"endlinecolor\":\"#2a3f5f\",\"gridcolor\":\"white\",\"linecolor\":\"white\",\"minorgridcolor\":\"white\",\"startlinecolor\":\"#2a3f5f\"},\"type\":\"carpet\"}],\"choropleth\":[{\"colorbar\":{\"outlinewidth\":0,\"ticks\":\"\"},\"type\":\"choropleth\"}],\"contour\":[{\"colorbar\":{\"outlinewidth\":0,\"ticks\":\"\"},\"colorscale\":[[0.0,\"#0d0887\"],[0.1111111111111111,\"#46039f\"],[0.2222222222222222,\"#7201a8\"],[0.3333333333333333,\"#9c179e\"],[0.4444444444444444,\"#bd3786\"],[0.5555555555555556,\"#d8576b\"],[0.6666666666666666,\"#ed7953\"],[0.7777777777777778,\"#fb9f3a\"],[0.8888888888888888,\"#fdca26\"],[1.0,\"#f0f921\"]],\"type\":\"contour\"}],\"contourcarpet\":[{\"colorbar\":{\"outlinewidth\":0,\"ticks\":\"\"},\"type\":\"contourcarpet\"}],\"heatmap\":[{\"colorbar\":{\"outlinewidth\":0,\"ticks\":\"\"},\"colorscale\":[[0.0,\"#0d0887\"],[0.1111111111111111,\"#46039f\"],[0.2222222222222222,\"#7201a8\"],[0.3333333333333333,\"#9c179e\"],[0.4444444444444444,\"#bd3786\"],[0.5555555555555556,\"#d8576b\"],[0.6666666666666666,\"#ed7953\"],[0.7777777777777778,\"#fb9f3a\"],[0.8888888888888888,\"#fdca26\"],[1.0,\"#f0f921\"]],\"type\":\"heatmap\"}],\"heatmapgl\":[{\"colorbar\":{\"outlinewidth\":0,\"ticks\":\"\"},\"colorscale\":[[0.0,\"#0d0887\"],[0.1111111111111111,\"#46039f\"],[0.2222222222222222,\"#7201a8\"],[0.3333333333333333,\"#9c179e\"],[0.4444444444444444,\"#bd3786\"],[0.5555555555555556,\"#d8576b\"],[0.6666666666666666,\"#ed7953\"],[0.7777777777777778,\"#fb9f3a\"],[0.8888888888888888,\"#fdca26\"],[1.0,\"#f0f921\"]],\"type\":\"heatmapgl\"}],\"histogram\":[{\"marker\":{\"pattern\":{\"fillmode\":\"overlay\",\"size\":10,\"solidity\":0.2}},\"type\":\"histogram\"}],\"histogram2d\":[{\"colorbar\":{\"outlinewidth\":0,\"ticks\":\"\"},\"colorscale\":[[0.0,\"#0d0887\"],[0.1111111111111111,\"#46039f\"],[0.2222222222222222,\"#7201a8\"],[0.3333333333333333,\"#9c179e\"],[0.4444444444444444,\"#bd3786\"],[0.5555555555555556,\"#d8576b\"],[0.6666666666666666,\"#ed7953\"],[0.7777777777777778,\"#fb9f3a\"],[0.8888888888888888,\"#fdca26\"],[1.0,\"#f0f921\"]],\"type\":\"histogram2d\"}],\"histogram2dcontour\":[{\"colorbar\":{\"outlinewidth\":0,\"ticks\":\"\"},\"colorscale\":[[0.0,\"#0d0887\"],[0.1111111111111111,\"#46039f\"],[0.2222222222222222,\"#7201a8\"],[0.3333333333333333,\"#9c179e\"],[0.4444444444444444,\"#bd3786\"],[0.5555555555555556,\"#d8576b\"],[0.6666666666666666,\"#ed7953\"],[0.7777777777777778,\"#fb9f3a\"],[0.8888888888888888,\"#fdca26\"],[1.0,\"#f0f921\"]],\"type\":\"histogram2dcontour\"}],\"mesh3d\":[{\"colorbar\":{\"outlinewidth\":0,\"ticks\":\"\"},\"type\":\"mesh3d\"}],\"parcoords\":[{\"line\":{\"colorbar\":{\"outlinewidth\":0,\"ticks\":\"\"}},\"type\":\"parcoords\"}],\"pie\":[{\"automargin\":true,\"type\":\"pie\"}],\"scatter\":[{\"marker\":{\"colorbar\":{\"outlinewidth\":0,\"ticks\":\"\"}},\"type\":\"scatter\"}],\"scatter3d\":[{\"line\":{\"colorbar\":{\"outlinewidth\":0,\"ticks\":\"\"}},\"marker\":{\"colorbar\":{\"outlinewidth\":0,\"ticks\":\"\"}},\"type\":\"scatter3d\"}],\"scattercarpet\":[{\"marker\":{\"colorbar\":{\"outlinewidth\":0,\"ticks\":\"\"}},\"type\":\"scattercarpet\"}],\"scattergeo\":[{\"marker\":{\"colorbar\":{\"outlinewidth\":0,\"ticks\":\"\"}},\"type\":\"scattergeo\"}],\"scattergl\":[{\"marker\":{\"colorbar\":{\"outlinewidth\":0,\"ticks\":\"\"}},\"type\":\"scattergl\"}],\"scattermapbox\":[{\"marker\":{\"colorbar\":{\"outlinewidth\":0,\"ticks\":\"\"}},\"type\":\"scattermapbox\"}],\"scatterpolar\":[{\"marker\":{\"colorbar\":{\"outlinewidth\":0,\"ticks\":\"\"}},\"type\":\"scatterpolar\"}],\"scatterpolargl\":[{\"marker\":{\"colorbar\":{\"outlinewidth\":0,\"ticks\":\"\"}},\"type\":\"scatterpolargl\"}],\"scatterternary\":[{\"marker\":{\"colorbar\":{\"outlinewidth\":0,\"ticks\":\"\"}},\"type\":\"scatterternary\"}],\"surface\":[{\"colorbar\":{\"outlinewidth\":0,\"ticks\":\"\"},\"colorscale\":[[0.0,\"#0d0887\"],[0.1111111111111111,\"#46039f\"],[0.2222222222222222,\"#7201a8\"],[0.3333333333333333,\"#9c179e\"],[0.4444444444444444,\"#bd3786\"],[0.5555555555555556,\"#d8576b\"],[0.6666666666666666,\"#ed7953\"],[0.7777777777777778,\"#fb9f3a\"],[0.8888888888888888,\"#fdca26\"],[1.0,\"#f0f921\"]],\"type\":\"surface\"}],\"table\":[{\"cells\":{\"fill\":{\"color\":\"#EBF0F8\"},\"line\":{\"color\":\"white\"}},\"header\":{\"fill\":{\"color\":\"#C8D4E3\"},\"line\":{\"color\":\"white\"}},\"type\":\"table\"}]},\"layout\":{\"annotationdefaults\":{\"arrowcolor\":\"#2a3f5f\",\"arrowhead\":0,\"arrowwidth\":1},\"autotypenumbers\":\"strict\",\"coloraxis\":{\"colorbar\":{\"outlinewidth\":0,\"ticks\":\"\"}},\"colorscale\":{\"diverging\":[[0,\"#8e0152\"],[0.1,\"#c51b7d\"],[0.2,\"#de77ae\"],[0.3,\"#f1b6da\"],[0.4,\"#fde0ef\"],[0.5,\"#f7f7f7\"],[0.6,\"#e6f5d0\"],[0.7,\"#b8e186\"],[0.8,\"#7fbc41\"],[0.9,\"#4d9221\"],[1,\"#276419\"]],\"sequential\":[[0.0,\"#0d0887\"],[0.1111111111111111,\"#46039f\"],[0.2222222222222222,\"#7201a8\"],[0.3333333333333333,\"#9c179e\"],[0.4444444444444444,\"#bd3786\"],[0.5555555555555556,\"#d8576b\"],[0.6666666666666666,\"#ed7953\"],[0.7777777777777778,\"#fb9f3a\"],[0.8888888888888888,\"#fdca26\"],[1.0,\"#f0f921\"]],\"sequentialminus\":[[0.0,\"#0d0887\"],[0.1111111111111111,\"#46039f\"],[0.2222222222222222,\"#7201a8\"],[0.3333333333333333,\"#9c179e\"],[0.4444444444444444,\"#bd3786\"],[0.5555555555555556,\"#d8576b\"],[0.6666666666666666,\"#ed7953\"],[0.7777777777777778,\"#fb9f3a\"],[0.8888888888888888,\"#fdca26\"],[1.0,\"#f0f921\"]]},\"colorway\":[\"#636efa\",\"#EF553B\",\"#00cc96\",\"#ab63fa\",\"#FFA15A\",\"#19d3f3\",\"#FF6692\",\"#B6E880\",\"#FF97FF\",\"#FECB52\"],\"font\":{\"color\":\"#2a3f5f\"},\"geo\":{\"bgcolor\":\"white\",\"lakecolor\":\"white\",\"landcolor\":\"#E5ECF6\",\"showlakes\":true,\"showland\":true,\"subunitcolor\":\"white\"},\"hoverlabel\":{\"align\":\"left\"},\"hovermode\":\"closest\",\"mapbox\":{\"style\":\"light\"},\"paper_bgcolor\":\"white\",\"plot_bgcolor\":\"#E5ECF6\",\"polar\":{\"angularaxis\":{\"gridcolor\":\"white\",\"linecolor\":\"white\",\"ticks\":\"\"},\"bgcolor\":\"#E5ECF6\",\"radialaxis\":{\"gridcolor\":\"white\",\"linecolor\":\"white\",\"ticks\":\"\"}},\"scene\":{\"xaxis\":{\"backgroundcolor\":\"#E5ECF6\",\"gridcolor\":\"white\",\"gridwidth\":2,\"linecolor\":\"white\",\"showbackground\":true,\"ticks\":\"\",\"zerolinecolor\":\"white\"},\"yaxis\":{\"backgroundcolor\":\"#E5ECF6\",\"gridcolor\":\"white\",\"gridwidth\":2,\"linecolor\":\"white\",\"showbackground\":true,\"ticks\":\"\",\"zerolinecolor\":\"white\"},\"zaxis\":{\"backgroundcolor\":\"#E5ECF6\",\"gridcolor\":\"white\",\"gridwidth\":2,\"linecolor\":\"white\",\"showbackground\":true,\"ticks\":\"\",\"zerolinecolor\":\"white\"}},\"shapedefaults\":{\"line\":{\"color\":\"#2a3f5f\"}},\"ternary\":{\"aaxis\":{\"gridcolor\":\"white\",\"linecolor\":\"white\",\"ticks\":\"\"},\"baxis\":{\"gridcolor\":\"white\",\"linecolor\":\"white\",\"ticks\":\"\"},\"bgcolor\":\"#E5ECF6\",\"caxis\":{\"gridcolor\":\"white\",\"linecolor\":\"white\",\"ticks\":\"\"}},\"title\":{\"x\":0.05},\"xaxis\":{\"automargin\":true,\"gridcolor\":\"white\",\"linecolor\":\"white\",\"ticks\":\"\",\"title\":{\"standoff\":15},\"zerolinecolor\":\"white\",\"zerolinewidth\":2},\"yaxis\":{\"automargin\":true,\"gridcolor\":\"white\",\"linecolor\":\"white\",\"ticks\":\"\",\"title\":{\"standoff\":15},\"zerolinecolor\":\"white\",\"zerolinewidth\":2}}}},                        {\"responsive\": true}                    ).then(function(){\n",
              "                            Plotly.addFrames('e8f1a17c-f593-4eda-a74f-389e1d67b475', [{\"data\":[{\"marker\":{\"color\":\"red\",\"size\":10},\"mode\":\"markers\",\"x\":[1],\"y\":[4],\"type\":\"scatter\"}]},{\"data\":[{\"marker\":{\"color\":\"red\",\"size\":10},\"mode\":\"markers\",\"x\":[0.990256149131928],\"y\":[3.8129716497081336],\"type\":\"scatter\"}]},{\"data\":[{\"marker\":{\"color\":\"red\",\"size\":10},\"mode\":\"markers\",\"x\":[0.9811246453222097],\"y\":[3.6521619064470903],\"type\":\"scatter\"}]},{\"data\":[{\"marker\":{\"color\":\"red\",\"size\":10},\"mode\":\"markers\",\"x\":[0.9725611790962903],\"y\":[3.513878058570373],\"type\":\"scatter\"}]},{\"data\":[{\"marker\":{\"color\":\"red\",\"size\":10},\"mode\":\"markers\",\"x\":[0.9645246786457444],\"y\":[3.394947648017433],\"type\":\"scatter\"}]},{\"data\":[{\"marker\":{\"color\":\"red\",\"size\":10},\"mode\":\"markers\",\"x\":[0.9569770731067636],\"y\":[3.2926451720710688],\"type\":\"scatter\"}]},{\"data\":[{\"marker\":{\"color\":\"red\",\"size\":10},\"mode\":\"markers\",\"x\":[0.9498830731471856],\"y\":[3.204629112077765],\"type\":\"scatter\"}]},{\"data\":[{\"marker\":{\"color\":\"red\",\"size\":10},\"mode\":\"markers\",\"x\":[0.9432099675965051],\"y\":[3.128887834168804],\"type\":\"scatter\"}]},{\"data\":[{\"marker\":{\"color\":\"red\",\"size\":10},\"mode\":\"markers\",\"x\":[0.9369274349458333],\"y\":[3.0636931120090134],\"type\":\"scatter\"}]},{\"data\":[{\"marker\":{\"color\":\"red\",\"size\":10},\"mode\":\"markers\",\"x\":[0.9310073686305459],\"y\":[3.0075601977083553],\"type\":\"scatter\"}]},{\"data\":[{\"marker\":{\"color\":\"red\",\"size\":10},\"mode\":\"markers\",\"x\":[0.9254237150878607],\"y\":[2.9592135183279775],\"type\":\"scatter\"}]},{\"data\":[{\"marker\":{\"color\":\"red\",\"size\":10},\"mode\":\"markers\",\"x\":[0.9201523236552657],\"y\":[2.9175572053926793],\"type\":\"scatter\"}]},{\"data\":[{\"marker\":{\"color\":\"red\",\"size\":10},\"mode\":\"markers\",\"x\":[0.9151708074440209],\"y\":[2.8816497764892137],\"type\":\"scatter\"}]},{\"data\":[{\"marker\":{\"color\":\"red\",\"size\":10},\"mode\":\"markers\",\"x\":[0.9104584143852587],\"y\":[2.850682383964498],\"type\":\"scatter\"}]},{\"data\":[{\"marker\":{\"color\":\"red\",\"size\":10},\"mode\":\"markers\",\"x\":[0.9059959077048839],\"y\":[2.82396012815628],\"type\":\"scatter\"}]},{\"data\":[{\"marker\":{\"color\":\"red\",\"size\":10},\"mode\":\"markers\",\"x\":[0.9017654551378578],\"y\":[2.8008860033953584],\"type\":\"scatter\"}]},{\"data\":[{\"marker\":{\"color\":\"red\",\"size\":10},\"mode\":\"markers\",\"x\":[0.8977505262428627],\"y\":[2.7809471058490796],\"type\":\"scatter\"}]},{\"data\":[{\"marker\":{\"color\":\"red\",\"size\":10},\"mode\":\"markers\",\"x\":[0.8939357972250629],\"y\":[2.763702784536107],\"type\":\"scatter\"}]},{\"data\":[{\"marker\":{\"color\":\"red\",\"size\":10},\"mode\":\"markers\",\"x\":[0.8903070627179858],\"y\":[2.748774461739741],\"type\":\"scatter\"}]},{\"data\":[{\"marker\":{\"color\":\"red\",\"size\":10},\"mode\":\"markers\",\"x\":[0.8868511540156867],\"y\":[2.7358368876188135],\"type\":\"scatter\"}]},{\"data\":[{\"marker\":{\"color\":\"red\",\"size\":10},\"mode\":\"markers\",\"x\":[0.8835558632835663],\"y\":[2.7246106269525465],\"type\":\"scatter\"}]},{\"data\":[{\"marker\":{\"color\":\"red\",\"size\":10},\"mode\":\"markers\",\"x\":[0.8804098733106938],\"y\":[2.714855604424515],\"type\":\"scatter\"}]},{\"data\":[{\"marker\":{\"color\":\"red\",\"size\":10},\"mode\":\"markers\",\"x\":[0.877402692398454],\"y\":[2.7063655593084417],\"type\":\"scatter\"}]},{\"data\":[{\"marker\":{\"color\":\"red\",\"size\":10},\"mode\":\"markers\",\"x\":[0.8745245940099581],\"y\":[2.6989632814305793],\"type\":\"scatter\"}]},{\"data\":[{\"marker\":{\"color\":\"red\",\"size\":10},\"mode\":\"markers\",\"x\":[0.8717665608321243],\"y\":[2.692496518334874],\"type\":\"scatter\"}]},{\"data\":[{\"marker\":{\"color\":\"red\",\"size\":10},\"mode\":\"markers\",\"x\":[0.8691202329277811],\"y\":[2.6868344590853965],\"type\":\"scatter\"}]}]);\n",
              "                        }).then(function(){\n",
              "                            \n",
              "var gd = document.getElementById('e8f1a17c-f593-4eda-a74f-389e1d67b475');\n",
              "var x = new MutationObserver(function (mutations, observer) {{\n",
              "        var display = window.getComputedStyle(gd).display;\n",
              "        if (!display || display === 'none') {{\n",
              "            console.log([gd, 'removed!']);\n",
              "            Plotly.purge(gd);\n",
              "            observer.disconnect();\n",
              "        }}\n",
              "}});\n",
              "\n",
              "// Listen for the removal of the full notebook cells\n",
              "var notebookContainer = gd.closest('#notebook-container');\n",
              "if (notebookContainer) {{\n",
              "    x.observe(notebookContainer, {childList: true});\n",
              "}}\n",
              "\n",
              "// Listen for the clearing of the current output cell\n",
              "var outputEl = gd.closest('.output');\n",
              "if (outputEl) {{\n",
              "    x.observe(outputEl, {childList: true});\n",
              "}}\n",
              "\n",
              "                        })                };                            </script>        </div>\n",
              "</body>\n",
              "</html>"
            ]
          },
          "metadata": {}
        }
      ]
    },
    {
      "cell_type": "code",
      "source": [
        "import plotly.graph_objects as go\n",
        "import numpy as np\n",
        "\n",
        "_x = list(_x2)\n",
        "_y = list(_y2)\n",
        "xm = np.min(_x) - 0.2\n",
        "xM = np.max(_x) + 0.2\n",
        "ym = np.min(_y) - 0.2\n",
        "yM = np.max(_y) + 0.2\n",
        "N = len(_x)\n",
        "\n",
        "# Create figure\n",
        "fig = go.Figure(\n",
        "    data=[go.Scatter(x=_x, y=_y,\n",
        "                     mode=\"lines\",\n",
        "                     line=dict(width=2, color=\"blue\")),\n",
        "          go.Scatter(x=_x, y=_y,\n",
        "                     mode=\"lines\",\n",
        "                     line=dict(width=2, color=\"blue\"))],\n",
        "                \n",
        "    layout=go.Layout(\n",
        "        xaxis=dict(range=[xm, xM], autorange=False, zeroline=False),\n",
        "        yaxis=dict(range=[ym, yM], autorange=False, zeroline=False),\n",
        "        title_text=\"Gradient Descent Curve\", \n",
        "        hovermode=\"closest\",\n",
        "        xaxis_title=\"Theta1\", \n",
        "        yaxis_title=\"Loss value (MSE)\",\n",
        "        updatemenus=[dict(type=\"buttons\",\n",
        "                          buttons=[dict(label=\"Play\",\n",
        "                                        method=\"animate\",\n",
        "                                        args=[None])])]),\n",
        "    frames=[go.Frame(\n",
        "        data=[go.Scatter(\n",
        "            x=[_x[k]],\n",
        "            y=[_y[k]],\n",
        "            mode=\"markers\",\n",
        "            marker=dict(color=\"red\", size=10))])\n",
        "\n",
        "        for k in range(N-1,0,-5)],\n",
        ")\n",
        "\n",
        "fig.show()"
      ],
      "metadata": {
        "id": "TCt9mBHTRIEl",
        "outputId": "3ce929fc-542e-4a78-9f90-69110e7f93f1",
        "colab": {
          "base_uri": "https://localhost:8080/",
          "height": 542
        }
      },
      "execution_count": 192,
      "outputs": [
        {
          "output_type": "display_data",
          "data": {
            "text/html": [
              "<html>\n",
              "<head><meta charset=\"utf-8\" /></head>\n",
              "<body>\n",
              "    <div>            <script src=\"https://cdnjs.cloudflare.com/ajax/libs/mathjax/2.7.5/MathJax.js?config=TeX-AMS-MML_SVG\"></script><script type=\"text/javascript\">if (window.MathJax) {MathJax.Hub.Config({SVG: {font: \"STIX-Web\"}});}</script>                <script type=\"text/javascript\">window.PlotlyConfig = {MathJaxConfig: 'local'};</script>\n",
              "        <script src=\"https://cdn.plot.ly/plotly-2.8.3.min.js\"></script>                <div id=\"91cdeb51-0817-45d6-bbc2-37d456c5aa29\" class=\"plotly-graph-div\" style=\"height:525px; width:100%;\"></div>            <script type=\"text/javascript\">                                    window.PLOTLYENV=window.PLOTLYENV || {};                                    if (document.getElementById(\"91cdeb51-0817-45d6-bbc2-37d456c5aa29\")) {                    Plotly.newPlot(                        \"91cdeb51-0817-45d6-bbc2-37d456c5aa29\",                        [{\"line\":{\"color\":\"blue\",\"width\":2},\"mode\":\"lines\",\"x\":[0.7803374765107646,0.7808287058045698,0.7813290012189885,0.7818385029216083,0.7823573532261557,0.7828856966253372,0.7834236798241828,0.783971451773899,0.7845291637062408,0.7850969691684089,0.7856750240584813,0.786263486661387,0.7868625176854298,0.7874722802993714,0.788092940170082,0.7887246655007666,0.7893676270697764,0.7900219982700141,0.7906879551489426,0.7913656764492051,0.792055343649867,0.7927571410082895,0.7934712556026433,0.7941978773750727,0.7949371991755209,0.795689416806225,0.7964547290668929,0.7972333378005704,0.7980254479402109,0.7988312675559577,0.7996510079031488,0.800484883471058,0.8013331120323798,0.8021959146934734,0.8030735159453741,0.8039661437155863,0.8048740294206679,0.8057974080196204,0.8067365180680955,0.8076916017734312,0.8086629050505298,0.8096506775785913,0.8106551728587148,0.8116766482723811,0.8127153651408305,0.8137715887853494,0.814845588588478,0.8159376380561567,0.8170480148808217,0.818177001005467,0.8193248826886861,0.8204919505707096,0.8216784997404526,0.8228848298035886,0.8241112449516644,0.8253580540322736,0.8266255706203025,0.8279141130902676,0.8292240046897589,0.8305555736140076,0.8319091530815945,0.8332850814113173,0.8346837021002332,0.8361053639028972,0.8375504209118111,0.8390192326391046,0.8405121640994666,0.8420295858943441,0.8435718742974307,0.8451394113414632,0.8467325849063451,0.84835178880862,0.8499974228923136,0.851669893121165,0.8533696116722708,0.8550969970311603,0.8568524740883272,0.8586364742372374,0.8604494354738366,0.8622918024975806,0.8641640268140123,0.8660665668389065,0.8679998880040103,0.8699644628644002,0.8719607712074826,0.8739893001636615,0.8760505443187006,0.8781450058278037,0.8802731945314417,0.8824356280729507,0.8846328320179312,0.8868653399754727,0.8891336937212342,0.8914384433224081,0.8937801472645952,0.8961593725806226,0.8985766949813316,0.9010326989883674,0.9035279780690003,0.9060631347730106,0.9086387808716672,0.9112555374988334,0.9139140352942319,0.9166149145489014,0.9193588253528797,0.9221464277451458,0.9249783918658571,0.9278553981109158,0.9307781372889002,0.9337473107803977,0.9367636306997754,0.9398278200594267,0.9429406129365305,0.9461027546423627,0.9493150018941977,0.9525781229898411,0.9558928979848327,0.9592601188723604,0.9626805897659285,0.9661551270848197,0.9696845597423956,0.9732697293372791,0.9769114903474605,0.980610710327376,0.984368270108,0.988185064,0.992062,0.996,1],\"y\":[2.6837760411675022,2.684769219765045,2.68578842769581,2.6868344590853965,2.68790813253233,2.68901029186273,2.690141806908231,2.6913035743078977,2.692496518334874,2.6937215917485138,2.694979776672799,2.696272085501837,2.697599561833289,2.6989632814305793,2.700364353214777,2.701803920287061,2.7032831609827257,2.704803289957676,2.7063655593084417,2.7079712597267136,2.7096217216894996,2.711318316685964,2.7130624584821232,2.714855604424515,2.7166992567840897,2.7185949641415306,2.7205443228153094,2.722548978333757,2.7246106269525465,2.726731017218974,2.72891195158446,2.7311552880667938,2.733462941963627,2.7358368876188135,2.7382791602432066,2.740791857791631,2.7433771428977005,2.7460372448683312,2.748774461739741,2.751591162396866,2.7544897887581135,2.757472858027515,2.760542965016306,2.763702784536107,2.7669550738659066,2.7703026752951208,2.773748518745057,2.777295624471245,2.7809471058490796,2.7847061722453748,2.7885761319784645,2.7925603953695903,2.796662477888389,2.8008860033953584,2.805234707484348,2.809712440928091,2.8143231732300023,2.81907099628551,2.82396012815628,2.8289949169608395,2.8341798448851687,2.839519532316974,2.8450187421074578,2.850682383964498,2.856515518981303,2.862523364304736,2.868711297947578,2.875084863749202,2.8816497764892137,2.888411927158794,2.895377388394583,2.902552420080146,2.909943475120162,2.9175572053926793,2.925400467884931,2.9334803310183473,2.941804081168628,2.9503792293868716,2.9592135183279775,2.968314929392683,2.9776916900898636,2.9873522816258573,2.9973054467278217,3.0075601977083553,3.0181258247787985,3.029011904618912,3.0402283092108,3.051785214945273,3.0636931120090134,3.0759628140612207,3.088605468208664,3.101632565288336,3.1150559504672,3.128887834168804,3.143140803336853,3.15782783304611,3.172962298471352,3.1885579872254257,3.204629112077765,3.2211903240651316,3.2382567260066413,3.2558438864355765,3.2739678539608,3.2926451720710688,3.311892894395837,3.3317286004367066,3.3521704117839595,3.373237008833192,3.394947648017433,3.41732217957067,3.4403810658391447,3.4641454001573333,3.4886369263060177,3.513878058570373,3.5398919024166298,3.566702275806326,3.5943337311678447,3.622811578045505,3.6521619064470903,3.682411610911351,3.713588415317701,3.745720898460966,3.77883852041481,3.8129716497081336,3.8481515913395303,3.8844106156556326,3.9217819881200002,3.960300000000001,4],\"type\":\"scatter\"},{\"line\":{\"color\":\"blue\",\"width\":2},\"mode\":\"lines\",\"x\":[0.7803374765107646,0.7808287058045698,0.7813290012189885,0.7818385029216083,0.7823573532261557,0.7828856966253372,0.7834236798241828,0.783971451773899,0.7845291637062408,0.7850969691684089,0.7856750240584813,0.786263486661387,0.7868625176854298,0.7874722802993714,0.788092940170082,0.7887246655007666,0.7893676270697764,0.7900219982700141,0.7906879551489426,0.7913656764492051,0.792055343649867,0.7927571410082895,0.7934712556026433,0.7941978773750727,0.7949371991755209,0.795689416806225,0.7964547290668929,0.7972333378005704,0.7980254479402109,0.7988312675559577,0.7996510079031488,0.800484883471058,0.8013331120323798,0.8021959146934734,0.8030735159453741,0.8039661437155863,0.8048740294206679,0.8057974080196204,0.8067365180680955,0.8076916017734312,0.8086629050505298,0.8096506775785913,0.8106551728587148,0.8116766482723811,0.8127153651408305,0.8137715887853494,0.814845588588478,0.8159376380561567,0.8170480148808217,0.818177001005467,0.8193248826886861,0.8204919505707096,0.8216784997404526,0.8228848298035886,0.8241112449516644,0.8253580540322736,0.8266255706203025,0.8279141130902676,0.8292240046897589,0.8305555736140076,0.8319091530815945,0.8332850814113173,0.8346837021002332,0.8361053639028972,0.8375504209118111,0.8390192326391046,0.8405121640994666,0.8420295858943441,0.8435718742974307,0.8451394113414632,0.8467325849063451,0.84835178880862,0.8499974228923136,0.851669893121165,0.8533696116722708,0.8550969970311603,0.8568524740883272,0.8586364742372374,0.8604494354738366,0.8622918024975806,0.8641640268140123,0.8660665668389065,0.8679998880040103,0.8699644628644002,0.8719607712074826,0.8739893001636615,0.8760505443187006,0.8781450058278037,0.8802731945314417,0.8824356280729507,0.8846328320179312,0.8868653399754727,0.8891336937212342,0.8914384433224081,0.8937801472645952,0.8961593725806226,0.8985766949813316,0.9010326989883674,0.9035279780690003,0.9060631347730106,0.9086387808716672,0.9112555374988334,0.9139140352942319,0.9166149145489014,0.9193588253528797,0.9221464277451458,0.9249783918658571,0.9278553981109158,0.9307781372889002,0.9337473107803977,0.9367636306997754,0.9398278200594267,0.9429406129365305,0.9461027546423627,0.9493150018941977,0.9525781229898411,0.9558928979848327,0.9592601188723604,0.9626805897659285,0.9661551270848197,0.9696845597423956,0.9732697293372791,0.9769114903474605,0.980610710327376,0.984368270108,0.988185064,0.992062,0.996,1],\"y\":[2.6837760411675022,2.684769219765045,2.68578842769581,2.6868344590853965,2.68790813253233,2.68901029186273,2.690141806908231,2.6913035743078977,2.692496518334874,2.6937215917485138,2.694979776672799,2.696272085501837,2.697599561833289,2.6989632814305793,2.700364353214777,2.701803920287061,2.7032831609827257,2.704803289957676,2.7063655593084417,2.7079712597267136,2.7096217216894996,2.711318316685964,2.7130624584821232,2.714855604424515,2.7166992567840897,2.7185949641415306,2.7205443228153094,2.722548978333757,2.7246106269525465,2.726731017218974,2.72891195158446,2.7311552880667938,2.733462941963627,2.7358368876188135,2.7382791602432066,2.740791857791631,2.7433771428977005,2.7460372448683312,2.748774461739741,2.751591162396866,2.7544897887581135,2.757472858027515,2.760542965016306,2.763702784536107,2.7669550738659066,2.7703026752951208,2.773748518745057,2.777295624471245,2.7809471058490796,2.7847061722453748,2.7885761319784645,2.7925603953695903,2.796662477888389,2.8008860033953584,2.805234707484348,2.809712440928091,2.8143231732300023,2.81907099628551,2.82396012815628,2.8289949169608395,2.8341798448851687,2.839519532316974,2.8450187421074578,2.850682383964498,2.856515518981303,2.862523364304736,2.868711297947578,2.875084863749202,2.8816497764892137,2.888411927158794,2.895377388394583,2.902552420080146,2.909943475120162,2.9175572053926793,2.925400467884931,2.9334803310183473,2.941804081168628,2.9503792293868716,2.9592135183279775,2.968314929392683,2.9776916900898636,2.9873522816258573,2.9973054467278217,3.0075601977083553,3.0181258247787985,3.029011904618912,3.0402283092108,3.051785214945273,3.0636931120090134,3.0759628140612207,3.088605468208664,3.101632565288336,3.1150559504672,3.128887834168804,3.143140803336853,3.15782783304611,3.172962298471352,3.1885579872254257,3.204629112077765,3.2211903240651316,3.2382567260066413,3.2558438864355765,3.2739678539608,3.2926451720710688,3.311892894395837,3.3317286004367066,3.3521704117839595,3.373237008833192,3.394947648017433,3.41732217957067,3.4403810658391447,3.4641454001573333,3.4886369263060177,3.513878058570373,3.5398919024166298,3.566702275806326,3.5943337311678447,3.622811578045505,3.6521619064470903,3.682411610911351,3.713588415317701,3.745720898460966,3.77883852041481,3.8129716497081336,3.8481515913395303,3.8844106156556326,3.9217819881200002,3.960300000000001,4],\"type\":\"scatter\"}],                        {\"hovermode\":\"closest\",\"title\":{\"text\":\"Gradient Descent Curve\"},\"updatemenus\":[{\"buttons\":[{\"args\":[null],\"label\":\"Play\",\"method\":\"animate\"}],\"type\":\"buttons\"}],\"xaxis\":{\"autorange\":false,\"range\":[0.5803374765107645,1.2],\"title\":{\"text\":\"Theta1\"},\"zeroline\":false},\"yaxis\":{\"autorange\":false,\"range\":[2.483776041167502,4.2],\"title\":{\"text\":\"Loss value (MSE)\"},\"zeroline\":false},\"template\":{\"data\":{\"bar\":[{\"error_x\":{\"color\":\"#2a3f5f\"},\"error_y\":{\"color\":\"#2a3f5f\"},\"marker\":{\"line\":{\"color\":\"#E5ECF6\",\"width\":0.5},\"pattern\":{\"fillmode\":\"overlay\",\"size\":10,\"solidity\":0.2}},\"type\":\"bar\"}],\"barpolar\":[{\"marker\":{\"line\":{\"color\":\"#E5ECF6\",\"width\":0.5},\"pattern\":{\"fillmode\":\"overlay\",\"size\":10,\"solidity\":0.2}},\"type\":\"barpolar\"}],\"carpet\":[{\"aaxis\":{\"endlinecolor\":\"#2a3f5f\",\"gridcolor\":\"white\",\"linecolor\":\"white\",\"minorgridcolor\":\"white\",\"startlinecolor\":\"#2a3f5f\"},\"baxis\":{\"endlinecolor\":\"#2a3f5f\",\"gridcolor\":\"white\",\"linecolor\":\"white\",\"minorgridcolor\":\"white\",\"startlinecolor\":\"#2a3f5f\"},\"type\":\"carpet\"}],\"choropleth\":[{\"colorbar\":{\"outlinewidth\":0,\"ticks\":\"\"},\"type\":\"choropleth\"}],\"contour\":[{\"colorbar\":{\"outlinewidth\":0,\"ticks\":\"\"},\"colorscale\":[[0.0,\"#0d0887\"],[0.1111111111111111,\"#46039f\"],[0.2222222222222222,\"#7201a8\"],[0.3333333333333333,\"#9c179e\"],[0.4444444444444444,\"#bd3786\"],[0.5555555555555556,\"#d8576b\"],[0.6666666666666666,\"#ed7953\"],[0.7777777777777778,\"#fb9f3a\"],[0.8888888888888888,\"#fdca26\"],[1.0,\"#f0f921\"]],\"type\":\"contour\"}],\"contourcarpet\":[{\"colorbar\":{\"outlinewidth\":0,\"ticks\":\"\"},\"type\":\"contourcarpet\"}],\"heatmap\":[{\"colorbar\":{\"outlinewidth\":0,\"ticks\":\"\"},\"colorscale\":[[0.0,\"#0d0887\"],[0.1111111111111111,\"#46039f\"],[0.2222222222222222,\"#7201a8\"],[0.3333333333333333,\"#9c179e\"],[0.4444444444444444,\"#bd3786\"],[0.5555555555555556,\"#d8576b\"],[0.6666666666666666,\"#ed7953\"],[0.7777777777777778,\"#fb9f3a\"],[0.8888888888888888,\"#fdca26\"],[1.0,\"#f0f921\"]],\"type\":\"heatmap\"}],\"heatmapgl\":[{\"colorbar\":{\"outlinewidth\":0,\"ticks\":\"\"},\"colorscale\":[[0.0,\"#0d0887\"],[0.1111111111111111,\"#46039f\"],[0.2222222222222222,\"#7201a8\"],[0.3333333333333333,\"#9c179e\"],[0.4444444444444444,\"#bd3786\"],[0.5555555555555556,\"#d8576b\"],[0.6666666666666666,\"#ed7953\"],[0.7777777777777778,\"#fb9f3a\"],[0.8888888888888888,\"#fdca26\"],[1.0,\"#f0f921\"]],\"type\":\"heatmapgl\"}],\"histogram\":[{\"marker\":{\"pattern\":{\"fillmode\":\"overlay\",\"size\":10,\"solidity\":0.2}},\"type\":\"histogram\"}],\"histogram2d\":[{\"colorbar\":{\"outlinewidth\":0,\"ticks\":\"\"},\"colorscale\":[[0.0,\"#0d0887\"],[0.1111111111111111,\"#46039f\"],[0.2222222222222222,\"#7201a8\"],[0.3333333333333333,\"#9c179e\"],[0.4444444444444444,\"#bd3786\"],[0.5555555555555556,\"#d8576b\"],[0.6666666666666666,\"#ed7953\"],[0.7777777777777778,\"#fb9f3a\"],[0.8888888888888888,\"#fdca26\"],[1.0,\"#f0f921\"]],\"type\":\"histogram2d\"}],\"histogram2dcontour\":[{\"colorbar\":{\"outlinewidth\":0,\"ticks\":\"\"},\"colorscale\":[[0.0,\"#0d0887\"],[0.1111111111111111,\"#46039f\"],[0.2222222222222222,\"#7201a8\"],[0.3333333333333333,\"#9c179e\"],[0.4444444444444444,\"#bd3786\"],[0.5555555555555556,\"#d8576b\"],[0.6666666666666666,\"#ed7953\"],[0.7777777777777778,\"#fb9f3a\"],[0.8888888888888888,\"#fdca26\"],[1.0,\"#f0f921\"]],\"type\":\"histogram2dcontour\"}],\"mesh3d\":[{\"colorbar\":{\"outlinewidth\":0,\"ticks\":\"\"},\"type\":\"mesh3d\"}],\"parcoords\":[{\"line\":{\"colorbar\":{\"outlinewidth\":0,\"ticks\":\"\"}},\"type\":\"parcoords\"}],\"pie\":[{\"automargin\":true,\"type\":\"pie\"}],\"scatter\":[{\"marker\":{\"colorbar\":{\"outlinewidth\":0,\"ticks\":\"\"}},\"type\":\"scatter\"}],\"scatter3d\":[{\"line\":{\"colorbar\":{\"outlinewidth\":0,\"ticks\":\"\"}},\"marker\":{\"colorbar\":{\"outlinewidth\":0,\"ticks\":\"\"}},\"type\":\"scatter3d\"}],\"scattercarpet\":[{\"marker\":{\"colorbar\":{\"outlinewidth\":0,\"ticks\":\"\"}},\"type\":\"scattercarpet\"}],\"scattergeo\":[{\"marker\":{\"colorbar\":{\"outlinewidth\":0,\"ticks\":\"\"}},\"type\":\"scattergeo\"}],\"scattergl\":[{\"marker\":{\"colorbar\":{\"outlinewidth\":0,\"ticks\":\"\"}},\"type\":\"scattergl\"}],\"scattermapbox\":[{\"marker\":{\"colorbar\":{\"outlinewidth\":0,\"ticks\":\"\"}},\"type\":\"scattermapbox\"}],\"scatterpolar\":[{\"marker\":{\"colorbar\":{\"outlinewidth\":0,\"ticks\":\"\"}},\"type\":\"scatterpolar\"}],\"scatterpolargl\":[{\"marker\":{\"colorbar\":{\"outlinewidth\":0,\"ticks\":\"\"}},\"type\":\"scatterpolargl\"}],\"scatterternary\":[{\"marker\":{\"colorbar\":{\"outlinewidth\":0,\"ticks\":\"\"}},\"type\":\"scatterternary\"}],\"surface\":[{\"colorbar\":{\"outlinewidth\":0,\"ticks\":\"\"},\"colorscale\":[[0.0,\"#0d0887\"],[0.1111111111111111,\"#46039f\"],[0.2222222222222222,\"#7201a8\"],[0.3333333333333333,\"#9c179e\"],[0.4444444444444444,\"#bd3786\"],[0.5555555555555556,\"#d8576b\"],[0.6666666666666666,\"#ed7953\"],[0.7777777777777778,\"#fb9f3a\"],[0.8888888888888888,\"#fdca26\"],[1.0,\"#f0f921\"]],\"type\":\"surface\"}],\"table\":[{\"cells\":{\"fill\":{\"color\":\"#EBF0F8\"},\"line\":{\"color\":\"white\"}},\"header\":{\"fill\":{\"color\":\"#C8D4E3\"},\"line\":{\"color\":\"white\"}},\"type\":\"table\"}]},\"layout\":{\"annotationdefaults\":{\"arrowcolor\":\"#2a3f5f\",\"arrowhead\":0,\"arrowwidth\":1},\"autotypenumbers\":\"strict\",\"coloraxis\":{\"colorbar\":{\"outlinewidth\":0,\"ticks\":\"\"}},\"colorscale\":{\"diverging\":[[0,\"#8e0152\"],[0.1,\"#c51b7d\"],[0.2,\"#de77ae\"],[0.3,\"#f1b6da\"],[0.4,\"#fde0ef\"],[0.5,\"#f7f7f7\"],[0.6,\"#e6f5d0\"],[0.7,\"#b8e186\"],[0.8,\"#7fbc41\"],[0.9,\"#4d9221\"],[1,\"#276419\"]],\"sequential\":[[0.0,\"#0d0887\"],[0.1111111111111111,\"#46039f\"],[0.2222222222222222,\"#7201a8\"],[0.3333333333333333,\"#9c179e\"],[0.4444444444444444,\"#bd3786\"],[0.5555555555555556,\"#d8576b\"],[0.6666666666666666,\"#ed7953\"],[0.7777777777777778,\"#fb9f3a\"],[0.8888888888888888,\"#fdca26\"],[1.0,\"#f0f921\"]],\"sequentialminus\":[[0.0,\"#0d0887\"],[0.1111111111111111,\"#46039f\"],[0.2222222222222222,\"#7201a8\"],[0.3333333333333333,\"#9c179e\"],[0.4444444444444444,\"#bd3786\"],[0.5555555555555556,\"#d8576b\"],[0.6666666666666666,\"#ed7953\"],[0.7777777777777778,\"#fb9f3a\"],[0.8888888888888888,\"#fdca26\"],[1.0,\"#f0f921\"]]},\"colorway\":[\"#636efa\",\"#EF553B\",\"#00cc96\",\"#ab63fa\",\"#FFA15A\",\"#19d3f3\",\"#FF6692\",\"#B6E880\",\"#FF97FF\",\"#FECB52\"],\"font\":{\"color\":\"#2a3f5f\"},\"geo\":{\"bgcolor\":\"white\",\"lakecolor\":\"white\",\"landcolor\":\"#E5ECF6\",\"showlakes\":true,\"showland\":true,\"subunitcolor\":\"white\"},\"hoverlabel\":{\"align\":\"left\"},\"hovermode\":\"closest\",\"mapbox\":{\"style\":\"light\"},\"paper_bgcolor\":\"white\",\"plot_bgcolor\":\"#E5ECF6\",\"polar\":{\"angularaxis\":{\"gridcolor\":\"white\",\"linecolor\":\"white\",\"ticks\":\"\"},\"bgcolor\":\"#E5ECF6\",\"radialaxis\":{\"gridcolor\":\"white\",\"linecolor\":\"white\",\"ticks\":\"\"}},\"scene\":{\"xaxis\":{\"backgroundcolor\":\"#E5ECF6\",\"gridcolor\":\"white\",\"gridwidth\":2,\"linecolor\":\"white\",\"showbackground\":true,\"ticks\":\"\",\"zerolinecolor\":\"white\"},\"yaxis\":{\"backgroundcolor\":\"#E5ECF6\",\"gridcolor\":\"white\",\"gridwidth\":2,\"linecolor\":\"white\",\"showbackground\":true,\"ticks\":\"\",\"zerolinecolor\":\"white\"},\"zaxis\":{\"backgroundcolor\":\"#E5ECF6\",\"gridcolor\":\"white\",\"gridwidth\":2,\"linecolor\":\"white\",\"showbackground\":true,\"ticks\":\"\",\"zerolinecolor\":\"white\"}},\"shapedefaults\":{\"line\":{\"color\":\"#2a3f5f\"}},\"ternary\":{\"aaxis\":{\"gridcolor\":\"white\",\"linecolor\":\"white\",\"ticks\":\"\"},\"baxis\":{\"gridcolor\":\"white\",\"linecolor\":\"white\",\"ticks\":\"\"},\"bgcolor\":\"#E5ECF6\",\"caxis\":{\"gridcolor\":\"white\",\"linecolor\":\"white\",\"ticks\":\"\"}},\"title\":{\"x\":0.05},\"xaxis\":{\"automargin\":true,\"gridcolor\":\"white\",\"linecolor\":\"white\",\"ticks\":\"\",\"title\":{\"standoff\":15},\"zerolinecolor\":\"white\",\"zerolinewidth\":2},\"yaxis\":{\"automargin\":true,\"gridcolor\":\"white\",\"linecolor\":\"white\",\"ticks\":\"\",\"title\":{\"standoff\":15},\"zerolinecolor\":\"white\",\"zerolinewidth\":2}}}},                        {\"responsive\": true}                    ).then(function(){\n",
              "                            Plotly.addFrames('91cdeb51-0817-45d6-bbc2-37d456c5aa29', [{\"data\":[{\"marker\":{\"color\":\"red\",\"size\":10},\"mode\":\"markers\",\"x\":[1],\"y\":[4],\"type\":\"scatter\"}]},{\"data\":[{\"marker\":{\"color\":\"red\",\"size\":10},\"mode\":\"markers\",\"x\":[0.980610710327376],\"y\":[3.8129716497081336],\"type\":\"scatter\"}]},{\"data\":[{\"marker\":{\"color\":\"red\",\"size\":10},\"mode\":\"markers\",\"x\":[0.9626805897659285],\"y\":[3.6521619064470903],\"type\":\"scatter\"}]},{\"data\":[{\"marker\":{\"color\":\"red\",\"size\":10},\"mode\":\"markers\",\"x\":[0.9461027546423627],\"y\":[3.513878058570373],\"type\":\"scatter\"}]},{\"data\":[{\"marker\":{\"color\":\"red\",\"size\":10},\"mode\":\"markers\",\"x\":[0.9307781372889002],\"y\":[3.394947648017433],\"type\":\"scatter\"}]},{\"data\":[{\"marker\":{\"color\":\"red\",\"size\":10},\"mode\":\"markers\",\"x\":[0.9166149145489014],\"y\":[3.2926451720710688],\"type\":\"scatter\"}]},{\"data\":[{\"marker\":{\"color\":\"red\",\"size\":10},\"mode\":\"markers\",\"x\":[0.9035279780690003],\"y\":[3.204629112077765],\"type\":\"scatter\"}]},{\"data\":[{\"marker\":{\"color\":\"red\",\"size\":10},\"mode\":\"markers\",\"x\":[0.8914384433224081],\"y\":[3.128887834168804],\"type\":\"scatter\"}]},{\"data\":[{\"marker\":{\"color\":\"red\",\"size\":10},\"mode\":\"markers\",\"x\":[0.8802731945314417],\"y\":[3.0636931120090134],\"type\":\"scatter\"}]},{\"data\":[{\"marker\":{\"color\":\"red\",\"size\":10},\"mode\":\"markers\",\"x\":[0.8699644628644002],\"y\":[3.0075601977083553],\"type\":\"scatter\"}]},{\"data\":[{\"marker\":{\"color\":\"red\",\"size\":10},\"mode\":\"markers\",\"x\":[0.8604494354738366],\"y\":[2.9592135183279775],\"type\":\"scatter\"}]},{\"data\":[{\"marker\":{\"color\":\"red\",\"size\":10},\"mode\":\"markers\",\"x\":[0.851669893121165],\"y\":[2.9175572053926793],\"type\":\"scatter\"}]},{\"data\":[{\"marker\":{\"color\":\"red\",\"size\":10},\"mode\":\"markers\",\"x\":[0.8435718742974307],\"y\":[2.8816497764892137],\"type\":\"scatter\"}]},{\"data\":[{\"marker\":{\"color\":\"red\",\"size\":10},\"mode\":\"markers\",\"x\":[0.8361053639028972],\"y\":[2.850682383964498],\"type\":\"scatter\"}]},{\"data\":[{\"marker\":{\"color\":\"red\",\"size\":10},\"mode\":\"markers\",\"x\":[0.8292240046897589],\"y\":[2.82396012815628],\"type\":\"scatter\"}]},{\"data\":[{\"marker\":{\"color\":\"red\",\"size\":10},\"mode\":\"markers\",\"x\":[0.8228848298035886],\"y\":[2.8008860033953584],\"type\":\"scatter\"}]},{\"data\":[{\"marker\":{\"color\":\"red\",\"size\":10},\"mode\":\"markers\",\"x\":[0.8170480148808217],\"y\":[2.7809471058490796],\"type\":\"scatter\"}]},{\"data\":[{\"marker\":{\"color\":\"red\",\"size\":10},\"mode\":\"markers\",\"x\":[0.8116766482723811],\"y\":[2.763702784536107],\"type\":\"scatter\"}]},{\"data\":[{\"marker\":{\"color\":\"red\",\"size\":10},\"mode\":\"markers\",\"x\":[0.8067365180680955],\"y\":[2.748774461739741],\"type\":\"scatter\"}]},{\"data\":[{\"marker\":{\"color\":\"red\",\"size\":10},\"mode\":\"markers\",\"x\":[0.8021959146934734],\"y\":[2.7358368876188135],\"type\":\"scatter\"}]},{\"data\":[{\"marker\":{\"color\":\"red\",\"size\":10},\"mode\":\"markers\",\"x\":[0.7980254479402109],\"y\":[2.7246106269525465],\"type\":\"scatter\"}]},{\"data\":[{\"marker\":{\"color\":\"red\",\"size\":10},\"mode\":\"markers\",\"x\":[0.7941978773750727],\"y\":[2.714855604424515],\"type\":\"scatter\"}]},{\"data\":[{\"marker\":{\"color\":\"red\",\"size\":10},\"mode\":\"markers\",\"x\":[0.7906879551489426],\"y\":[2.7063655593084417],\"type\":\"scatter\"}]},{\"data\":[{\"marker\":{\"color\":\"red\",\"size\":10},\"mode\":\"markers\",\"x\":[0.7874722802993714],\"y\":[2.6989632814305793],\"type\":\"scatter\"}]},{\"data\":[{\"marker\":{\"color\":\"red\",\"size\":10},\"mode\":\"markers\",\"x\":[0.7845291637062408],\"y\":[2.692496518334874],\"type\":\"scatter\"}]},{\"data\":[{\"marker\":{\"color\":\"red\",\"size\":10},\"mode\":\"markers\",\"x\":[0.7818385029216083],\"y\":[2.6868344590853965],\"type\":\"scatter\"}]}]);\n",
              "                        }).then(function(){\n",
              "                            \n",
              "var gd = document.getElementById('91cdeb51-0817-45d6-bbc2-37d456c5aa29');\n",
              "var x = new MutationObserver(function (mutations, observer) {{\n",
              "        var display = window.getComputedStyle(gd).display;\n",
              "        if (!display || display === 'none') {{\n",
              "            console.log([gd, 'removed!']);\n",
              "            Plotly.purge(gd);\n",
              "            observer.disconnect();\n",
              "        }}\n",
              "}});\n",
              "\n",
              "// Listen for the removal of the full notebook cells\n",
              "var notebookContainer = gd.closest('#notebook-container');\n",
              "if (notebookContainer) {{\n",
              "    x.observe(notebookContainer, {childList: true});\n",
              "}}\n",
              "\n",
              "// Listen for the clearing of the current output cell\n",
              "var outputEl = gd.closest('.output');\n",
              "if (outputEl) {{\n",
              "    x.observe(outputEl, {childList: true});\n",
              "}}\n",
              "\n",
              "                        })                };                            </script>        </div>\n",
              "</body>\n",
              "</html>"
            ]
          },
          "metadata": {}
        }
      ]
    }
  ],
  "metadata": {
    "kernelspec": {
      "name": "python3",
      "display_name": "Python 3",
      "language": "python"
    },
    "language_info": {
      "name": "python",
      "version": "3.7.6",
      "mimetype": "text/x-python",
      "codemirror_mode": {
        "name": "ipython",
        "version": 3
      },
      "pygments_lexer": "ipython3",
      "nbconvert_exporter": "python",
      "file_extension": ".py"
    },
    "colab": {
      "name": "Lab1.ipynb",
      "provenance": [],
      "include_colab_link": true
    }
  },
  "nbformat": 4,
  "nbformat_minor": 0
}