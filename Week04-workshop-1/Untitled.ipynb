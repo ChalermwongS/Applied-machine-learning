{
 "cells": [
  {
   "cell_type": "code",
   "execution_count": 1,
   "id": "38808c08",
   "metadata": {},
   "outputs": [
    {
     "name": "stdout",
     "output_type": "stream",
     "text": [
      "0.0006139000000002781\n"
     ]
    }
   ],
   "source": [
    "import timeit\n",
    " \n",
    "# code snippet to be executed only once\n",
    "mysetup = \"from math import sqrt\"\n",
    " \n",
    "# code snippet whose execution time is to be measured\n",
    "mycode = '''\n",
    "def example():\n",
    "    mylist = []\n",
    "    for x in range(100):\n",
    "        mylist.append(sqrt(x))\n",
    "'''\n",
    " \n",
    "# timeit statement\n",
    "print (timeit.timeit(setup = mysetup,\n",
    "                     stmt = mycode,\n",
    "                     number = 10000))\n"
   ]
  },
  {
   "cell_type": "code",
   "execution_count": null,
   "id": "aa499119",
   "metadata": {},
   "outputs": [],
   "source": []
  }
 ],
 "metadata": {
  "kernelspec": {
   "display_name": "Python 3 (ipykernel)",
   "language": "python",
   "name": "python3"
  },
  "language_info": {
   "codemirror_mode": {
    "name": "ipython",
    "version": 3
   },
   "file_extension": ".py",
   "mimetype": "text/x-python",
   "name": "python",
   "nbconvert_exporter": "python",
   "pygments_lexer": "ipython3",
   "version": "3.8.8"
  }
 },
 "nbformat": 4,
 "nbformat_minor": 5
}
