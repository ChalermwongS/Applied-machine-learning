{
  "nbformat": 4,
  "nbformat_minor": 0,
  "metadata": {
    "colab": {
      "name": "Week4-deploy-ml-model.ipynb",
      "provenance": [],
      "include_colab_link": true
    },
    "kernelspec": {
      "name": "python3",
      "display_name": "Python 3"
    },
    "language_info": {
      "name": "python"
    }
  },
  "cells": [
    {
      "cell_type": "markdown",
      "metadata": {
        "id": "view-in-github",
        "colab_type": "text"
      },
      "source": [
        "<a href=\"https://colab.research.google.com/github/ekaratnida/Applied-machine-learning/blob/master/Week08-workshop-2/Week8.ipynb\" target=\"_parent\"><img src=\"https://colab.research.google.com/assets/colab-badge.svg\" alt=\"Open In Colab\"/></a>"
      ]
    },
    {
      "cell_type": "markdown",
      "source": [
        "1. Import library"
      ],
      "metadata": {
        "id": "HW1Dnnvd0BpI"
      }
    },
    {
      "cell_type": "code",
      "source": [
        "from sklearn.linear_model import LinearRegression\n",
        "import pickle\n",
        "import numpy as np\n",
        "import pandas as pd\n",
        "import os\n",
        "import matplotlib.pyplot as plt\n",
        "np.set_printoptions(suppress=True)"
      ],
      "metadata": {
        "id": "KNpRdnBAz_1W"
      },
      "execution_count": 1,
      "outputs": []
    },
    {
      "cell_type": "markdown",
      "source": [
        "2. Load data"
      ],
      "metadata": {
        "id": "eFPgkWoj0Ggf"
      }
    },
    {
      "cell_type": "code",
      "source": [
        "data = pd.read_csv('https://raw.githubusercontent.com/ekaratnida/Applied-machine-learning/master/Week04-workshop-1/data.txt')\n",
        "print(data.head())\n",
        "#X = data[[\"area\",\"rooms\"]]\n",
        "X = data.iloc[:,0:2]\n",
        "print(X.head())\n",
        "\n",
        "#y = data.price\n",
        "#y = data.iloc[:,2]\n",
        "y = data[[\"price\"]] \n",
        "print(y.head())"
      ],
      "metadata": {
        "id": "6hrcvofZ0LkS",
        "outputId": "dbe993e5-b583-49f8-ed9e-c39f3d360fdc",
        "colab": {
          "base_uri": "https://localhost:8080/"
        }
      },
      "execution_count": 2,
      "outputs": [
        {
          "output_type": "stream",
          "name": "stdout",
          "text": [
            "   area  rooms   price\n",
            "0  2104      3  399900\n",
            "1  1600      3  329900\n",
            "2  2400      3  369000\n",
            "3  1416      2  232000\n",
            "4  3000      4  539900\n",
            "   area  rooms\n",
            "0  2104      3\n",
            "1  1600      3\n",
            "2  2400      3\n",
            "3  1416      2\n",
            "4  3000      4\n",
            "    price\n",
            "0  399900\n",
            "1  329900\n",
            "2  369000\n",
            "3  232000\n",
            "4  539900\n"
          ]
        }
      ]
    },
    {
      "cell_type": "markdown",
      "source": [
        "3. Train model"
      ],
      "metadata": {
        "id": "VnxSAW7u0P6s"
      }
    },
    {
      "cell_type": "code",
      "source": [
        "\"\"\"Train model\"\"\"\n",
        "print(\"Train\")\n",
        "lin_reg = LinearRegression()\n",
        "lin_reg.fit(X, y)\n",
        "print(lin_reg.intercept_)\n",
        "print(lin_reg.coef_)"
      ],
      "metadata": {
        "id": "h4WSBhCg0Rwv",
        "outputId": "6345f3e4-a756-401e-b0c8-d887d567fb3a",
        "colab": {
          "base_uri": "https://localhost:8080/"
        }
      },
      "execution_count": 3,
      "outputs": [
        {
          "output_type": "stream",
          "name": "stdout",
          "text": [
            "Train\n",
            "[89597.9095428]\n",
            "[[  139.21067402 -8738.01911233]]\n"
          ]
        }
      ]
    },
    {
      "cell_type": "markdown",
      "source": [
        "4. Predict model"
      ],
      "metadata": {
        "id": "vEQ-FkjK0VFy"
      }
    },
    {
      "cell_type": "code",
      "source": [
        "\"\"\"Predict\"\"\"\n",
        "print(\"Predict\")\n",
        "#X_test = np.array([[2000,6]])\n",
        "X_test = pd.DataFrame(\n",
        "    {\n",
        "    \"area\":[2000,3000],\n",
        "    \"rooms\":[6,3]\n",
        "    }\n",
        ")\n",
        "result = lin_reg.predict(X_test)\n",
        "print(result)"
      ],
      "metadata": {
        "id": "b524pPeZ0WyD",
        "outputId": "76df640e-a89d-4d31-ff87-a2932fb9f53a",
        "colab": {
          "base_uri": "https://localhost:8080/"
        }
      },
      "execution_count": 4,
      "outputs": [
        {
          "output_type": "stream",
          "name": "stdout",
          "text": [
            "Predict\n",
            "[[315591.14290408]\n",
            " [481015.87425869]]\n"
          ]
        }
      ]
    },
    {
      "cell_type": "markdown",
      "source": [
        "5. Deploy"
      ],
      "metadata": {
        "id": "ytUyFiEy0Y6s"
      }
    },
    {
      "cell_type": "code",
      "execution_count": 5,
      "metadata": {
        "colab": {
          "base_uri": "https://localhost:8080/",
          "height": 35
        },
        "id": "AECntigAPEwl",
        "outputId": "c6ed9640-fa19-4082-dbc6-010842c1ea7a"
      },
      "outputs": [
        {
          "output_type": "stream",
          "name": "stdout",
          "text": [
            "Deploy\n"
          ]
        },
        {
          "output_type": "display_data",
          "data": {
            "text/plain": [
              "<IPython.core.display.Javascript object>"
            ],
            "application/javascript": [
              "\n",
              "    async function download(id, filename, size) {\n",
              "      if (!google.colab.kernel.accessAllowed) {\n",
              "        return;\n",
              "      }\n",
              "      const div = document.createElement('div');\n",
              "      const label = document.createElement('label');\n",
              "      label.textContent = `Downloading \"${filename}\": `;\n",
              "      div.appendChild(label);\n",
              "      const progress = document.createElement('progress');\n",
              "      progress.max = size;\n",
              "      div.appendChild(progress);\n",
              "      document.body.appendChild(div);\n",
              "\n",
              "      const buffers = [];\n",
              "      let downloaded = 0;\n",
              "\n",
              "      const channel = await google.colab.kernel.comms.open(id);\n",
              "      // Send a message to notify the kernel that we're ready.\n",
              "      channel.send({})\n",
              "\n",
              "      for await (const message of channel.messages) {\n",
              "        // Send a message to notify the kernel that we're ready.\n",
              "        channel.send({})\n",
              "        if (message.buffers) {\n",
              "          for (const buffer of message.buffers) {\n",
              "            buffers.push(buffer);\n",
              "            downloaded += buffer.byteLength;\n",
              "            progress.value = downloaded;\n",
              "          }\n",
              "        }\n",
              "      }\n",
              "      const blob = new Blob(buffers, {type: 'application/binary'});\n",
              "      const a = document.createElement('a');\n",
              "      a.href = window.URL.createObjectURL(blob);\n",
              "      a.download = filename;\n",
              "      div.appendChild(a);\n",
              "      a.click();\n",
              "      div.remove();\n",
              "    }\n",
              "  "
            ]
          },
          "metadata": {}
        },
        {
          "output_type": "display_data",
          "data": {
            "text/plain": [
              "<IPython.core.display.Javascript object>"
            ],
            "application/javascript": [
              "download(\"download_14d9eba3-a34d-497d-bcef-5b3c8bb79441\", \"model.sav\", 730)"
            ]
          },
          "metadata": {}
        }
      ],
      "source": [
        "print(\"Deploy\")\n",
        "pickle.dump(lin_reg, open('model.sav','wb') )\n",
        "from google.colab import files\n",
        "files.download('model.sav')"
      ]
    }
  ]
}