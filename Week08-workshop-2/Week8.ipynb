{
  "nbformat": 4,
  "nbformat_minor": 0,
  "metadata": {
    "colab": {
      "name": "Week4-deploy-ml-model.ipynb",
      "provenance": [],
      "include_colab_link": true
    },
    "kernelspec": {
      "name": "python3",
      "display_name": "Python 3"
    },
    "language_info": {
      "name": "python"
    }
  },
  "cells": [
    {
      "cell_type": "markdown",
      "metadata": {
        "id": "view-in-github",
        "colab_type": "text"
      },
      "source": [
        "<a href=\"https://colab.research.google.com/github/ekaratnida/Applied-machine-learning/blob/master/Week08-workshop-2/Week8.ipynb\" target=\"_parent\"><img src=\"https://colab.research.google.com/assets/colab-badge.svg\" alt=\"Open In Colab\"/></a>"
      ]
    },
    {
      "cell_type": "markdown",
      "source": [
        "1. Import library"
      ],
      "metadata": {
        "id": "HW1Dnnvd0BpI"
      }
    },
    {
      "cell_type": "code",
      "source": [
        "\n",
        "import pickle\n",
        "import numpy as np\n",
        "import pandas as pd\n",
        "import os\n",
        "import matplotlib.pyplot as plt\n",
        "np.set_printoptions(suppress=True)\n",
        "import warnings\n",
        "warnings.filterwarnings('ignore')"
      ],
      "metadata": {
        "id": "KNpRdnBAz_1W"
      },
      "execution_count": 88,
      "outputs": []
    },
    {
      "cell_type": "markdown",
      "source": [
        "2. Load data and partition X,y"
      ],
      "metadata": {
        "id": "eFPgkWoj0Ggf"
      }
    },
    {
      "cell_type": "code",
      "source": [
        "data = pd.read_csv('https://raw.githubusercontent.com/ekaratnida/Applied-machine-learning/master/Week04-workshop-1/data.txt')\n",
        "print(data.head())\n",
        "#X = data[[\"area\",\"rooms\"]]\n",
        "X = data.iloc[:,0:2]\n",
        "print(X.head())\n",
        "\n",
        "#y = data.price\n",
        "#y = data.iloc[:,2]\n",
        "y = data[[\"price\"]] \n",
        "print(y.head())"
      ],
      "metadata": {
        "colab": {
          "base_uri": "https://localhost:8080/"
        },
        "id": "6hrcvofZ0LkS",
        "outputId": "8fd0dd0f-550d-4ed7-e93d-d103011a12a6"
      },
      "execution_count": 89,
      "outputs": [
        {
          "output_type": "stream",
          "name": "stdout",
          "text": [
            "   area  rooms   price\n",
            "0  2104      3  399900\n",
            "1  1600      3  329900\n",
            "2  2400      3  369000\n",
            "3  1416      2  232000\n",
            "4  3000      4  539900\n",
            "   area  rooms\n",
            "0  2104      3\n",
            "1  1600      3\n",
            "2  2400      3\n",
            "3  1416      2\n",
            "4  3000      4\n",
            "    price\n",
            "0  399900\n",
            "1  329900\n",
            "2  369000\n",
            "3  232000\n",
            "4  539900\n"
          ]
        }
      ]
    },
    {
      "cell_type": "markdown",
      "source": [
        "3. Train model"
      ],
      "metadata": {
        "id": "VnxSAW7u0P6s"
      }
    },
    {
      "cell_type": "markdown",
      "source": [
        "3.1 Train/test split"
      ],
      "metadata": {
        "id": "tFFAwtCk4Qu3"
      }
    },
    {
      "cell_type": "code",
      "source": [
        "from sklearn.model_selection import train_test_split\n",
        "X_train, X_test, y_train, y_test = train_test_split(X, y, test_size=0.30, random_state=42)"
      ],
      "metadata": {
        "id": "34Gfnguw5MPG"
      },
      "execution_count": 90,
      "outputs": []
    },
    {
      "cell_type": "markdown",
      "source": [
        "3.2 Cross validation </br>\n",
        "GridSearchCV will split X into two datasets, i.e., train and validation set."
      ],
      "metadata": {
        "id": "r3td0gB257oW"
      }
    },
    {
      "cell_type": "code",
      "source": [
        "from sklearn.model_selection import GridSearchCV\n",
        "from sklearn.pipeline import make_pipeline\n",
        "from sklearn.preprocessing import PolynomialFeatures\n",
        "from sklearn.linear_model import LinearRegression\n",
        "\n",
        "def PolynomialRegression(degree=2, **kwargs):\n",
        "    return make_pipeline(PolynomialFeatures(degree), LinearRegression(**kwargs))\n",
        "\n",
        "param_grid = {'polynomialfeatures__degree': np.arange(5), 'linearregression__fit_intercept': [True, False], 'linearregression__normalize': [True, False]}\n",
        "poly_grid = GridSearchCV(PolynomialRegression(), param_grid, cv=5, scoring='neg_mean_squared_error', verbose=0)\n",
        "poly_grid.fit(X,y)\n"
      ],
      "metadata": {
        "id": "PVRRkcXW4UxP",
        "outputId": "41c4bae5-f17b-4bc4-c2ba-ec9d57490d41",
        "colab": {
          "base_uri": "https://localhost:8080/"
        }
      },
      "execution_count": 91,
      "outputs": [
        {
          "output_type": "execute_result",
          "data": {
            "text/plain": [
              "GridSearchCV(cv=5,\n",
              "             estimator=Pipeline(steps=[('polynomialfeatures',\n",
              "                                        PolynomialFeatures()),\n",
              "                                       ('linearregression',\n",
              "                                        LinearRegression())]),\n",
              "             param_grid={'linearregression__fit_intercept': [True, False],\n",
              "                         'linearregression__normalize': [True, False],\n",
              "                         'polynomialfeatures__degree': array([0, 1, 2, 3, 4])},\n",
              "             scoring='neg_mean_squared_error')"
            ]
          },
          "metadata": {},
          "execution_count": 91
        }
      ]
    },
    {
      "cell_type": "code",
      "source": [
        "print(poly_grid.best_params_)"
      ],
      "metadata": {
        "id": "M6tCqeM1EOPi",
        "outputId": "7c6ff27e-198b-4277-d675-12c86a3fc16b",
        "colab": {
          "base_uri": "https://localhost:8080/"
        }
      },
      "execution_count": 92,
      "outputs": [
        {
          "output_type": "stream",
          "name": "stdout",
          "text": [
            "{'linearregression__fit_intercept': True, 'linearregression__normalize': True, 'polynomialfeatures__degree': 1}\n"
          ]
        }
      ]
    },
    {
      "cell_type": "markdown",
      "source": [
        "4. Model evaluation"
      ],
      "metadata": {
        "id": "tiLFyBmhI4rJ"
      }
    },
    {
      "cell_type": "code",
      "source": [
        "from sklearn.metrics import mean_squared_error\n",
        "y_pred = poly_grid.predict(X_test)\n",
        "print(y_test, \" \", y_pred)\n",
        "mseValues = mean_squared_error(y_test,y_pred)\n",
        "print(mseValues)"
      ],
      "metadata": {
        "id": "3phftiICI7qL",
        "outputId": "1ac4683f-cefb-427d-d3f9-66ef3abd3ce6",
        "colab": {
          "base_uri": "https://localhost:8080/"
        }
      },
      "execution_count": 93,
      "outputs": [
        {
          "output_type": "stream",
          "name": "stdout",
          "text": [
            "     price\n",
            "27  469000\n",
            "39  287000\n",
            "26  464500\n",
            "43  299000\n",
            "24  573900\n",
            "36  229900\n",
            "12  329999\n",
            "19  599000\n",
            "4   539900\n",
            "25  249900\n",
            "8   212000\n",
            "3   232000\n",
            "6   314900\n",
            "40  368500\n",
            "33  579900   [[415030.01477434]\n",
            " [355619.31031959]\n",
            " [266353.01492351]\n",
            " [230436.66102696]\n",
            " [604913.37413438]\n",
            " [235865.87731365]\n",
            " [326492.02609913]\n",
            " [476593.38604091]\n",
            " [472277.85514636]\n",
            " [216515.5936252 ]\n",
            " [255494.58235014]\n",
            " [269244.1857271 ]\n",
            " [276933.02614885]\n",
            " [303768.43288347]\n",
            " [500087.73659911]]\n",
            "5903031511.737383\n"
          ]
        }
      ]
    },
    {
      "cell_type": "markdown",
      "source": [
        "4. Predict new data"
      ],
      "metadata": {
        "id": "vEQ-FkjK0VFy"
      }
    },
    {
      "cell_type": "code",
      "source": [
        "X_new = pd.DataFrame(\n",
        "    {\n",
        "    \"area\":[2000],\n",
        "    \"rooms\":[6]\n",
        "    }\n",
        ")\n",
        "y_new = poly_grid.predict(X_new)\n",
        "print(y_new)"
      ],
      "metadata": {
        "colab": {
          "base_uri": "https://localhost:8080/"
        },
        "id": "b524pPeZ0WyD",
        "outputId": "8738cb6d-3d75-4424-ed8c-704d04dafc68"
      },
      "execution_count": 94,
      "outputs": [
        {
          "output_type": "stream",
          "name": "stdout",
          "text": [
            "[[315591.14290408]]\n"
          ]
        }
      ]
    },
    {
      "cell_type": "markdown",
      "source": [
        "5. Deploy"
      ],
      "metadata": {
        "id": "ytUyFiEy0Y6s"
      }
    },
    {
      "cell_type": "code",
      "execution_count": 95,
      "metadata": {
        "colab": {
          "base_uri": "https://localhost:8080/",
          "height": 35
        },
        "id": "AECntigAPEwl",
        "outputId": "3b3b491b-b292-40da-e45c-def9a1c655f2"
      },
      "outputs": [
        {
          "output_type": "execute_result",
          "data": {
            "text/plain": [
              "'print(\"Deploy\")\\npickle.dump(poly_grid, open(\\'model.sav\\',\\'wb\\') )\\nfrom google.colab import files\\nfiles.download(\\'model.sav\\')'"
            ],
            "application/vnd.google.colaboratory.intrinsic+json": {
              "type": "string"
            }
          },
          "metadata": {},
          "execution_count": 95
        }
      ],
      "source": [
        "'''print(\"Deploy\")\n",
        "pickle.dump(poly_grid, open('model.sav','wb') )\n",
        "from google.colab import files\n",
        "files.download('model.sav')'''"
      ]
    }
  ]
}