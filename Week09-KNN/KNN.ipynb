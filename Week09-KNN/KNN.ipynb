{
  "cells": [
    {
      "cell_type": "markdown",
      "metadata": {
        "id": "view-in-github",
        "colab_type": "text"
      },
      "source": [
        "<a href=\"https://colab.research.google.com/github/ekaratnida/Applied-machine-learning/blob/master/Week09-KNN/KNN.ipynb\" target=\"_parent\"><img src=\"https://colab.research.google.com/assets/colab-badge.svg\" alt=\"Open In Colab\"/></a>"
      ]
    },
    {
      "cell_type": "markdown",
      "metadata": {
        "id": "i1P1JR5CL8VB"
      },
      "source": [
        "# Classification"
      ]
    },
    {
      "cell_type": "markdown",
      "metadata": {
        "id": "_VjIl3bmL8VC"
      },
      "source": [
        "# Logistic Regression"
      ]
    },
    {
      "cell_type": "code",
      "execution_count": null,
      "metadata": {
        "id": "4MgOhfe0L8VG"
      },
      "outputs": [],
      "source": [
        "from sklearn.linear_model import LogisticRegression\n",
        "import pandas as pd\n",
        "\n",
        "train_df = pd.read_csv(\"https://raw.githubusercontent.com/ekaratnida/Applied-machine-learning/master/Week09-KNN/data/attrition-train.csv\")\n",
        "#print(train_df.head())\n",
        "test_df = pd.read_csv(\"https://raw.githubusercontent.com/ekaratnida/Applied-machine-learning/master/Week09-KNN/data/attrition-test.csv\")\n",
        "#print(test_df.head())\n",
        "print(train_df.describe())\n",
        "print(train_df.info())"
      ]
    },
    {
      "cell_type": "code",
      "execution_count": null,
      "metadata": {
        "id": "p7LFdTquL8VO"
      },
      "outputs": [],
      "source": [
        "X =train_df.loc[:, train_df.columns != 'Attrition']\n",
        "print(X.head())\n",
        "y = train_df[\"Attrition\"]\n",
        "print(y.head())\n",
        "clf.fit(X,y)"
      ]
    }
  ],
  "metadata": {
    "kernelspec": {
      "display_name": "Python 3",
      "language": "python",
      "name": "python3"
    },
    "language_info": {
      "codemirror_mode": {
        "name": "ipython",
        "version": 3
      },
      "file_extension": ".py",
      "mimetype": "text/x-python",
      "name": "python",
      "nbconvert_exporter": "python",
      "pygments_lexer": "ipython3",
      "version": "3.7.4"
    },
    "colab": {
      "provenance": [],
      "include_colab_link": true
    }
  },
  "nbformat": 4,
  "nbformat_minor": 0
}