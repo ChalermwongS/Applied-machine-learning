{
  "cells": [
    {
      "cell_type": "markdown",
      "metadata": {
        "id": "view-in-github",
        "colab_type": "text"
      },
      "source": [
        "<a href=\"https://colab.research.google.com/github/ekaratnida/Applied-machine-learning/blob/master/Week09-KNN/KNN.ipynb\" target=\"_parent\"><img src=\"https://colab.research.google.com/assets/colab-badge.svg\" alt=\"Open In Colab\"/></a>"
      ]
    },
    {
      "cell_type": "markdown",
      "metadata": {
        "id": "i1P1JR5CL8VB"
      },
      "source": [
        "# Classification"
      ]
    },
    {
      "cell_type": "markdown",
      "metadata": {
        "id": "_VjIl3bmL8VC"
      },
      "source": [
        "# Logistic Regression VS K-NN"
      ]
    },
    {
      "cell_type": "code",
      "execution_count": 1,
      "metadata": {
        "id": "4MgOhfe0L8VG",
        "colab": {
          "base_uri": "https://localhost:8080/"
        },
        "outputId": "aea289eb-7a91-4247-fd6d-0cfc0ee51396"
      },
      "outputs": [
        {
          "output_type": "stream",
          "name": "stdout",
          "text": [
            "               Age  DistanceFromHome    Education     JobLevel  \\\n",
            "count  1470.000000       1470.000000  1470.000000  1470.000000   \n",
            "mean     36.923810          9.192517     2.912925     2.063946   \n",
            "std       9.135373          8.106864     1.024165     1.106940   \n",
            "min      18.000000          1.000000     1.000000     1.000000   \n",
            "25%      30.000000          2.000000     2.000000     1.000000   \n",
            "50%      36.000000          7.000000     3.000000     2.000000   \n",
            "75%      43.000000         14.000000     4.000000     3.000000   \n",
            "max      60.000000         29.000000     5.000000     5.000000   \n",
            "\n",
            "       JobSatisfaction  MonthlyIncome  PercentSalaryHike  PerformanceRating  \\\n",
            "count      1470.000000    1470.000000        1470.000000        1470.000000   \n",
            "mean          2.728571    6502.931293          15.209524           3.153741   \n",
            "std           1.102846    4707.956783           3.659938           0.360824   \n",
            "min           1.000000    1009.000000          11.000000           3.000000   \n",
            "25%           2.000000    2911.000000          12.000000           3.000000   \n",
            "50%           3.000000    4919.000000          14.000000           3.000000   \n",
            "75%           4.000000    8379.000000          18.000000           3.000000   \n",
            "max           4.000000   19999.000000          25.000000           4.000000   \n",
            "\n",
            "       StockOptionLevel  TotalWorkingYears  YearsAtCompany  \\\n",
            "count       1470.000000        1470.000000     1470.000000   \n",
            "mean           0.793878          11.279592        7.008163   \n",
            "std            0.852077           7.780782        6.126525   \n",
            "min            0.000000           0.000000        0.000000   \n",
            "25%            0.000000           6.000000        3.000000   \n",
            "50%            1.000000          10.000000        5.000000   \n",
            "75%            1.000000          15.000000        9.000000   \n",
            "max            3.000000          40.000000       40.000000   \n",
            "\n",
            "       YearsSinceLastPromotion  \n",
            "count              1470.000000  \n",
            "mean                  2.187755  \n",
            "std                   3.222430  \n",
            "min                   0.000000  \n",
            "25%                   0.000000  \n",
            "50%                   1.000000  \n",
            "75%                   3.000000  \n",
            "max                  15.000000  \n",
            "<class 'pandas.core.frame.DataFrame'>\n",
            "RangeIndex: 1470 entries, 0 to 1469\n",
            "Data columns (total 19 columns):\n",
            " #   Column                   Non-Null Count  Dtype \n",
            "---  ------                   --------------  ----- \n",
            " 0   Age                      1470 non-null   int64 \n",
            " 1   BusinessTravel           1470 non-null   object\n",
            " 2   Department               1470 non-null   object\n",
            " 3   DistanceFromHome         1470 non-null   int64 \n",
            " 4   Education                1470 non-null   int64 \n",
            " 5   Gender                   1470 non-null   object\n",
            " 6   JobLevel                 1470 non-null   int64 \n",
            " 7   JobRole                  1470 non-null   object\n",
            " 8   JobSatisfaction          1470 non-null   int64 \n",
            " 9   MaritalStatus            1470 non-null   object\n",
            " 10  MonthlyIncome            1470 non-null   int64 \n",
            " 11  OverTime                 1470 non-null   object\n",
            " 12  PercentSalaryHike        1470 non-null   int64 \n",
            " 13  PerformanceRating        1470 non-null   int64 \n",
            " 14  StockOptionLevel         1470 non-null   int64 \n",
            " 15  TotalWorkingYears        1470 non-null   int64 \n",
            " 16  YearsAtCompany           1470 non-null   int64 \n",
            " 17  YearsSinceLastPromotion  1470 non-null   int64 \n",
            " 18  Attrition                1470 non-null   object\n",
            "dtypes: int64(12), object(7)\n",
            "memory usage: 218.3+ KB\n",
            "None\n"
          ]
        }
      ],
      "source": [
        "from sklearn.linear_model import LogisticRegression\n",
        "import pandas as pd\n",
        "\n",
        "train_df = pd.read_csv(\"https://raw.githubusercontent.com/ekaratnida/Applied-machine-learning/master/Week09-KNN/data/attrition-train.csv\")\n",
        "#print(train_df.head())\n",
        "test_df = pd.read_csv(\"https://raw.githubusercontent.com/ekaratnida/Applied-machine-learning/master/Week09-KNN/data/attrition-test.csv\")\n",
        "#print(test_df.head())\n",
        "print(train_df.describe())\n",
        "print(train_df.info())"
      ]
    },
    {
      "cell_type": "code",
      "execution_count": null,
      "metadata": {
        "id": "p7LFdTquL8VO"
      },
      "outputs": [],
      "source": [
        "X =train_df.loc[:, train_df.columns != 'Attrition']\n",
        "print(X.head())\n",
        "y = train_df[\"Attrition\"]\n",
        "print(y.head())\n",
        "clf.fit(X,y)"
      ]
    },
    {
      "cell_type": "markdown",
      "source": [
        "1. Convert category to numerics https://www.statology.org/convert-categorical-variable-to-numeric-pandas/\n",
        "2. Feature selection \n",
        "- https://www.analyticsvidhya.com/blog/2020/10/feature-selection-techniques-in-machine-learning/\n",
        "- https://scikit-learn.org/stable/modules/feature_selection.html# \n",
        "- https://www.kaggle.com/code/carlmcbrideellis/feature-selection-using-the-boruta-shap-package/notebook\n",
        "3. Feature scaling https://scikit-learn.org/stable/modules/preprocessing.html\n",
        "4. Cross validation https://scikit-learn.org/stable/modules/generated/sklearn.model_selection.GridSearchCV.html\n",
        "5. Confusion matrix report"
      ],
      "metadata": {
        "id": "jjn5b5F-zvYe"
      }
    }
  ],
  "metadata": {
    "kernelspec": {
      "display_name": "Python 3",
      "language": "python",
      "name": "python3"
    },
    "language_info": {
      "codemirror_mode": {
        "name": "ipython",
        "version": 3
      },
      "file_extension": ".py",
      "mimetype": "text/x-python",
      "name": "python",
      "nbconvert_exporter": "python",
      "pygments_lexer": "ipython3",
      "version": "3.7.4"
    },
    "colab": {
      "provenance": [],
      "include_colab_link": true
    }
  },
  "nbformat": 4,
  "nbformat_minor": 0
}