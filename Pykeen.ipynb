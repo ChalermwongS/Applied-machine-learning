{
  "nbformat": 4,
  "nbformat_minor": 0,
  "metadata": {
    "colab": {
      "name": "Pykeen.ipynb",
      "provenance": [],
      "collapsed_sections": [],
      "include_colab_link": true
    },
    "kernelspec": {
      "display_name": "Python 3",
      "name": "python3"
    },
    "accelerator": "GPU"
  },
  "cells": [
    {
      "cell_type": "markdown",
      "metadata": {
        "id": "view-in-github",
        "colab_type": "text"
      },
      "source": [
        "<a href=\"https://colab.research.google.com/github/ekaratnida/Applied-machine-learning/blob/master/Pykeen.ipynb\" target=\"_parent\"><img src=\"https://colab.research.google.com/assets/colab-badge.svg\" alt=\"Open In Colab\"/></a>"
      ]
    },
    {
      "cell_type": "code",
      "metadata": {
        "id": "aIqOXBhjQx41"
      },
      "source": [
        "!rm -rf /content/sample_data\n",
        "!pip uninstall pykeen\n",
        "!pip install pykeen"
      ],
      "execution_count": null,
      "outputs": []
    },
    {
      "cell_type": "code",
      "metadata": {
        "id": "e3WeYn5_ulvp"
      },
      "source": [
        "from pykeen.pipeline import pipeline\n",
        "\n",
        "results = pipeline(model='TransE', dataset='Nations')\n",
        "hits_at_10 = results.metric_results"
      ],
      "execution_count": null,
      "outputs": []
    },
    {
      "cell_type": "code",
      "metadata": {
        "id": "Chw75D5Co4y5"
      },
      "source": [
        "dir(results.model)"
      ],
      "execution_count": null,
      "outputs": []
    },
    {
      "cell_type": "code",
      "metadata": {
        "colab": {
          "base_uri": "https://localhost:8080/",
          "height": 480
        },
        "id": "C8f6SuiVnfuY",
        "outputId": "941de8f9-0a70-45f3-a04e-4c7119d3e897"
      },
      "source": [
        "#Predict all tails\n",
        "predicted_tails_df = results.model.get_tail_prediction_df('netherlands',\t'militaryalliance',triples_factory=result.training)\n",
        "predicted_tails_df[0:14]"
      ],
      "execution_count": 6,
      "outputs": [
        {
          "output_type": "execute_result",
          "data": {
            "text/html": [
              "<div>\n",
              "<style scoped>\n",
              "    .dataframe tbody tr th:only-of-type {\n",
              "        vertical-align: middle;\n",
              "    }\n",
              "\n",
              "    .dataframe tbody tr th {\n",
              "        vertical-align: top;\n",
              "    }\n",
              "\n",
              "    .dataframe thead th {\n",
              "        text-align: right;\n",
              "    }\n",
              "</style>\n",
              "<table border=\"1\" class=\"dataframe\">\n",
              "  <thead>\n",
              "    <tr style=\"text-align: right;\">\n",
              "      <th></th>\n",
              "      <th>tail_id</th>\n",
              "      <th>tail_label</th>\n",
              "      <th>score</th>\n",
              "      <th>in_training</th>\n",
              "    </tr>\n",
              "  </thead>\n",
              "  <tbody>\n",
              "    <tr>\n",
              "      <th>9</th>\n",
              "      <td>9</td>\n",
              "      <td>netherlands</td>\n",
              "      <td>-6.325672</td>\n",
              "      <td>False</td>\n",
              "    </tr>\n",
              "    <tr>\n",
              "      <th>12</th>\n",
              "      <td>12</td>\n",
              "      <td>usa</td>\n",
              "      <td>-8.942198</td>\n",
              "      <td>True</td>\n",
              "    </tr>\n",
              "    <tr>\n",
              "      <th>0</th>\n",
              "      <td>0</td>\n",
              "      <td>brazil</td>\n",
              "      <td>-9.331233</td>\n",
              "      <td>False</td>\n",
              "    </tr>\n",
              "    <tr>\n",
              "      <th>3</th>\n",
              "      <td>3</td>\n",
              "      <td>cuba</td>\n",
              "      <td>-9.384071</td>\n",
              "      <td>False</td>\n",
              "    </tr>\n",
              "    <tr>\n",
              "      <th>2</th>\n",
              "      <td>2</td>\n",
              "      <td>china</td>\n",
              "      <td>-9.417778</td>\n",
              "      <td>False</td>\n",
              "    </tr>\n",
              "    <tr>\n",
              "      <th>1</th>\n",
              "      <td>1</td>\n",
              "      <td>burma</td>\n",
              "      <td>-9.434298</td>\n",
              "      <td>False</td>\n",
              "    </tr>\n",
              "    <tr>\n",
              "      <th>5</th>\n",
              "      <td>5</td>\n",
              "      <td>india</td>\n",
              "      <td>-9.698841</td>\n",
              "      <td>False</td>\n",
              "    </tr>\n",
              "    <tr>\n",
              "      <th>13</th>\n",
              "      <td>13</td>\n",
              "      <td>ussr</td>\n",
              "      <td>-9.702950</td>\n",
              "      <td>False</td>\n",
              "    </tr>\n",
              "    <tr>\n",
              "      <th>7</th>\n",
              "      <td>7</td>\n",
              "      <td>israel</td>\n",
              "      <td>-9.722667</td>\n",
              "      <td>False</td>\n",
              "    </tr>\n",
              "    <tr>\n",
              "      <th>6</th>\n",
              "      <td>6</td>\n",
              "      <td>indonesia</td>\n",
              "      <td>-10.264737</td>\n",
              "      <td>False</td>\n",
              "    </tr>\n",
              "    <tr>\n",
              "      <th>11</th>\n",
              "      <td>11</td>\n",
              "      <td>uk</td>\n",
              "      <td>-10.351208</td>\n",
              "      <td>True</td>\n",
              "    </tr>\n",
              "    <tr>\n",
              "      <th>8</th>\n",
              "      <td>8</td>\n",
              "      <td>jordan</td>\n",
              "      <td>-10.610597</td>\n",
              "      <td>False</td>\n",
              "    </tr>\n",
              "    <tr>\n",
              "      <th>4</th>\n",
              "      <td>4</td>\n",
              "      <td>egypt</td>\n",
              "      <td>-10.647711</td>\n",
              "      <td>False</td>\n",
              "    </tr>\n",
              "    <tr>\n",
              "      <th>10</th>\n",
              "      <td>10</td>\n",
              "      <td>poland</td>\n",
              "      <td>-10.906778</td>\n",
              "      <td>False</td>\n",
              "    </tr>\n",
              "  </tbody>\n",
              "</table>\n",
              "</div>"
            ],
            "text/plain": [
              "    tail_id   tail_label      score  in_training\n",
              "9         9  netherlands  -6.325672        False\n",
              "12       12          usa  -8.942198         True\n",
              "0         0       brazil  -9.331233        False\n",
              "3         3         cuba  -9.384071        False\n",
              "2         2        china  -9.417778        False\n",
              "1         1        burma  -9.434298        False\n",
              "5         5        india  -9.698841        False\n",
              "13       13         ussr  -9.702950        False\n",
              "7         7       israel  -9.722667        False\n",
              "6         6    indonesia -10.264737        False\n",
              "11       11           uk -10.351208         True\n",
              "8         8       jordan -10.610597        False\n",
              "4         4        egypt -10.647711        False\n",
              "10       10       poland -10.906778        False"
            ]
          },
          "metadata": {},
          "execution_count": 6
        }
      ]
    },
    {
      "cell_type": "markdown",
      "metadata": {
        "id": "H6ndrdN_PhIQ"
      },
      "source": [
        "## Own dataset"
      ]
    },
    {
      "cell_type": "code",
      "metadata": {
        "id": "1EreV0mfEJ3H",
        "outputId": "472cc3ed-490a-48d8-b6ed-f6ec40d6a157",
        "colab": {
          "base_uri": "https://localhost:8080/"
        }
      },
      "source": [
        "#import pathlib\n",
        "#TRAIN_PATH = HERE.joinpath('train.txt')\n",
        "from pathlib import Path\n",
        "p = Path(\"/content/drive/MyDrive/train.txt\")\n",
        "q = Path(\"/content/drive/MyDrive/test.txt\")\n",
        "print(type(p))"
      ],
      "execution_count": 17,
      "outputs": [
        {
          "output_type": "stream",
          "name": "stdout",
          "text": [
            "<class 'pathlib.PosixPath'>\n"
          ]
        }
      ]
    },
    {
      "cell_type": "code",
      "metadata": {
        "id": "PkO57K00AKUf"
      },
      "source": [
        "from pykeen.triples import TriplesFactory\n",
        "from pykeen.pipeline import pipeline\n",
        "from pykeen.datasets.nations import NATIONS_TRAIN_PATH, NATIONS_TEST_PATH\n",
        "result = pipeline(\n",
        "    training=p,\n",
        "    testing=q,\n",
        "    model='TransE',\n",
        "    epochs=5,  # short epochs for testing - you should go higher\n",
        ")\n",
        "result.save_to_directory('doctests/test_pre_stratified_transe')"
      ],
      "execution_count": null,
      "outputs": []
    },
    {
      "cell_type": "code",
      "metadata": {
        "id": "rDs_cGUIPdA6",
        "outputId": "04a347cb-0cad-4e58-eb5f-c0ce584f49d6",
        "colab": {
          "base_uri": "https://localhost:8080/",
          "height": 480
        }
      },
      "source": [
        "predicted_tails_df = results.model.get_tail_prediction_df('netherlands',\t'militaryalliance',triples_factory=result.training)\n",
        "predicted_tails_df[0:14]"
      ],
      "execution_count": 19,
      "outputs": [
        {
          "output_type": "execute_result",
          "data": {
            "text/html": [
              "<div>\n",
              "<style scoped>\n",
              "    .dataframe tbody tr th:only-of-type {\n",
              "        vertical-align: middle;\n",
              "    }\n",
              "\n",
              "    .dataframe tbody tr th {\n",
              "        vertical-align: top;\n",
              "    }\n",
              "\n",
              "    .dataframe thead th {\n",
              "        text-align: right;\n",
              "    }\n",
              "</style>\n",
              "<table border=\"1\" class=\"dataframe\">\n",
              "  <thead>\n",
              "    <tr style=\"text-align: right;\">\n",
              "      <th></th>\n",
              "      <th>tail_id</th>\n",
              "      <th>tail_label</th>\n",
              "      <th>score</th>\n",
              "      <th>in_training</th>\n",
              "    </tr>\n",
              "  </thead>\n",
              "  <tbody>\n",
              "    <tr>\n",
              "      <th>9</th>\n",
              "      <td>9</td>\n",
              "      <td>netherlands</td>\n",
              "      <td>-6.325672</td>\n",
              "      <td>False</td>\n",
              "    </tr>\n",
              "    <tr>\n",
              "      <th>12</th>\n",
              "      <td>12</td>\n",
              "      <td>usa</td>\n",
              "      <td>-8.942198</td>\n",
              "      <td>True</td>\n",
              "    </tr>\n",
              "    <tr>\n",
              "      <th>0</th>\n",
              "      <td>0</td>\n",
              "      <td>brazil</td>\n",
              "      <td>-9.331233</td>\n",
              "      <td>False</td>\n",
              "    </tr>\n",
              "    <tr>\n",
              "      <th>3</th>\n",
              "      <td>3</td>\n",
              "      <td>cuba</td>\n",
              "      <td>-9.384071</td>\n",
              "      <td>False</td>\n",
              "    </tr>\n",
              "    <tr>\n",
              "      <th>2</th>\n",
              "      <td>2</td>\n",
              "      <td>china</td>\n",
              "      <td>-9.417778</td>\n",
              "      <td>False</td>\n",
              "    </tr>\n",
              "    <tr>\n",
              "      <th>1</th>\n",
              "      <td>1</td>\n",
              "      <td>burma</td>\n",
              "      <td>-9.434298</td>\n",
              "      <td>False</td>\n",
              "    </tr>\n",
              "    <tr>\n",
              "      <th>5</th>\n",
              "      <td>5</td>\n",
              "      <td>india</td>\n",
              "      <td>-9.698841</td>\n",
              "      <td>False</td>\n",
              "    </tr>\n",
              "    <tr>\n",
              "      <th>13</th>\n",
              "      <td>13</td>\n",
              "      <td>ussr</td>\n",
              "      <td>-9.702950</td>\n",
              "      <td>False</td>\n",
              "    </tr>\n",
              "    <tr>\n",
              "      <th>7</th>\n",
              "      <td>7</td>\n",
              "      <td>israel</td>\n",
              "      <td>-9.722667</td>\n",
              "      <td>False</td>\n",
              "    </tr>\n",
              "    <tr>\n",
              "      <th>6</th>\n",
              "      <td>6</td>\n",
              "      <td>indonesia</td>\n",
              "      <td>-10.264737</td>\n",
              "      <td>False</td>\n",
              "    </tr>\n",
              "    <tr>\n",
              "      <th>11</th>\n",
              "      <td>11</td>\n",
              "      <td>uk</td>\n",
              "      <td>-10.351208</td>\n",
              "      <td>True</td>\n",
              "    </tr>\n",
              "    <tr>\n",
              "      <th>8</th>\n",
              "      <td>8</td>\n",
              "      <td>jordan</td>\n",
              "      <td>-10.610597</td>\n",
              "      <td>False</td>\n",
              "    </tr>\n",
              "    <tr>\n",
              "      <th>4</th>\n",
              "      <td>4</td>\n",
              "      <td>egypt</td>\n",
              "      <td>-10.647711</td>\n",
              "      <td>False</td>\n",
              "    </tr>\n",
              "    <tr>\n",
              "      <th>10</th>\n",
              "      <td>10</td>\n",
              "      <td>poland</td>\n",
              "      <td>-10.906778</td>\n",
              "      <td>False</td>\n",
              "    </tr>\n",
              "  </tbody>\n",
              "</table>\n",
              "</div>"
            ],
            "text/plain": [
              "    tail_id   tail_label      score  in_training\n",
              "9         9  netherlands  -6.325672        False\n",
              "12       12          usa  -8.942198         True\n",
              "0         0       brazil  -9.331233        False\n",
              "3         3         cuba  -9.384071        False\n",
              "2         2        china  -9.417778        False\n",
              "1         1        burma  -9.434298        False\n",
              "5         5        india  -9.698841        False\n",
              "13       13         ussr  -9.702950        False\n",
              "7         7       israel  -9.722667        False\n",
              "6         6    indonesia -10.264737        False\n",
              "11       11           uk -10.351208         True\n",
              "8         8       jordan -10.610597        False\n",
              "4         4        egypt -10.647711        False\n",
              "10       10       poland -10.906778        False"
            ]
          },
          "metadata": {},
          "execution_count": 19
        }
      ]
    }
  ]
}