{
 "cells": [
  {
   "cell_type": "markdown",
   "metadata": {},
   "source": [
    "# Multivariate linear regresion"
   ]
  },
  {
   "cell_type": "markdown",
   "metadata": {},
   "source": [
    "# **Normal equation**"
   ]
  },
  {
   "cell_type": "code",
   "execution_count": 1,
   "metadata": {
    "_cell_guid": "b1076dfc-b9ad-4769-8c92-a6c4dae69d19",
    "_uuid": "8f2839f25d086af736a60e9eeb907d3b93b6e0e5"
   },
   "outputs": [
    {
     "name": "stdout",
     "output_type": "stream",
     "text": [
      "theta =  [-26.7405953   46.20215542  -5.04125804   3.37581693]\n",
      "y predict =  [-146.71266643  244.82491962]\n"
     ]
    },
    {
     "data": {
      "text/plain": [
       "<Figure size 640x480 with 1 Axes>"
      ]
     },
     "metadata": {},
     "output_type": "display_data"
    },
    {
     "data": {
      "text/plain": [
       "<Figure size 640x480 with 1 Axes>"
      ]
     },
     "metadata": {},
     "output_type": "display_data"
    },
    {
     "data": {
      "text/plain": [
       "<Figure size 640x480 with 1 Axes>"
      ]
     },
     "metadata": {},
     "output_type": "display_data"
    }
   ],
   "source": [
    "import numpy as np\n",
    "from sklearn.datasets import make_regression\n",
    "\n",
    "x, y = make_regression(n_samples=100, n_features=3, n_informative=1, random_state=0, noise=100)\n",
    "x_b = np.c_[np.ones((x.shape[0],1)),x]\n",
    "\n",
    "#call inverse function from linear algebra module\n",
    "theta_best = np.linalg.inv(x_b.T.dot(x_b)).dot(x_b.T).dot(y)\n",
    "print(\"theta = \", theta_best)\n",
    "\n",
    "#prediction\n",
    "x_n = np.array([[-3,3,10],[5,2,15]])\n",
    "x_n_b = np.c_[np.ones((x_n.shape[0],1)), x_n]\n",
    "y_p = x_n_b.dot(theta_best)\n",
    "print(\"y predict = \",y_p)\n",
    "\n",
    "\n",
    "\n",
    "import matplotlib.pyplot as plt\n",
    "plt.plot(x_n[:,0], y_p,\"r-\")\n",
    "plt.plot(x[:,0],y, \"b.\")\n",
    "plt.show()\n",
    "\n",
    "plt.plot(x_n[:,1], y_p,\"r-\")\n",
    "plt.plot(x[:,1],y, \"b.\")\n",
    "plt.show()\n",
    "\n",
    "plt.plot(x_n[:,2], y_p,\"r-\")\n",
    "plt.plot(x[:,2],y, \"b.\")\n",
    "plt.show()\n"
   ]
  },
  {
   "cell_type": "markdown",
   "metadata": {},
   "source": [
    "Exercise1 <br>\n",
    "1.1 Change a number of features to 4 and plot 4 graphs"
   ]
  },
  {
   "cell_type": "markdown",
   "metadata": {},
   "source": [
    "# **Sklearn**"
   ]
  },
  {
   "cell_type": "code",
   "execution_count": 2,
   "metadata": {
    "_cell_guid": "79c7e3d0-c299-4dcb-8224-4455121ee9b0",
    "_uuid": "d629ff2d2480ee46fbb7e2d37f6b5fab8052498a"
   },
   "outputs": [
    {
     "name": "stdout",
     "output_type": "stream",
     "text": [
      "y predict =  [-129.74185457  218.87116728]\n"
     ]
    },
    {
     "data": {
      "image/png": "[encoded data removed]",
      "text/plain": [
       "<Figure size 432x288 with 1 Axes>"
      ]
     },
     "metadata": {
      "needs_background": "light"
     },
     "output_type": "display_data"
    },
    {
     "data": {
      "image/png": "[encoded data removed]",
      "text/plain": [
       "<Figure size 432x288 with 1 Axes>"
      ]
     },
     "metadata": {
      "needs_background": "light"
     },
     "output_type": "display_data"
    },
    {
     "data": {
      "image/png": "[encoded data removed]",
      "text/plain": [
       "<Figure size 432x288 with 1 Axes>"
      ]
     },
     "metadata": {
      "needs_background": "light"
     },
     "output_type": "display_data"
    }
   ],
   "source": [
    "import numpy as np\n",
    "from sklearn.linear_model import LinearRegression \n",
    "\n",
    "#x, y = make_regression(n_samples=1000, n_features=2, n_informative=1, random_state=0, noise=100) \n",
    "lin_reg = LinearRegression(fit_intercept=False)\n",
    "lin_reg.fit(x, y)\n",
    "\n",
    "\n",
    "#prediction\n",
    "#x_n = np.array([[-3,3],[5,2]])\n",
    "y_p = lin_reg.predict(x_n)\n",
    "print(\"y predict = \",y_p)\n",
    "\n",
    "import matplotlib.pyplot as plt\n",
    "plt.plot(x_n[:,0], y_p,\"r-\")\n",
    "plt.plot(x[:,0],y, \"b.\")\n",
    "plt.show()\n",
    "\n",
    "plt.plot(x_n[:,1], y_p,\"r-\")\n",
    "plt.plot(x[:,1],y, \"b.\")\n",
    "plt.show()\n",
    "\n",
    "plt.plot(x_n[:,2], y_p,\"r-\")\n",
    "plt.plot(x[:,2],y, \"b.\")\n",
    "plt.show()"
   ]
  },
  {
   "cell_type": "markdown",
   "metadata": {},
   "source": [
    "# **Batch Gradient descent (Multiple linear regression)**\n"
   ]
  },
  {
   "cell_type": "code",
   "execution_count": 3,
   "metadata": {},
   "outputs": [
    {
     "name": "stdout",
     "output_type": "stream",
     "text": [
      "Converged, iterations:  1555 / 100000\n",
      "theta  [[-26.74041364]\n",
      " [ 46.20202207]\n",
      " [ -5.04110398]\n",
      " [  3.37571293]]\n"
     ]
    },
    {
     "name": "stderr",
     "output_type": "stream",
     "text": [
      "/opt/anaconda3/lib/python3.7/site-packages/sklearn/utils/deprecation.py:143: FutureWarning: The sklearn.datasets.samples_generator module is  deprecated in version 0.22 and will be removed in version 0.24. The corresponding classes / functions should instead be imported from sklearn.datasets. Anything that cannot be imported from sklearn.datasets is now part of the private API.\n",
      "  warnings.warn(message, FutureWarning)\n"
     ]
    },
    {
     "data": {
      "image/png": "[encoded data removed]",
      "text/plain": [
       "<Figure size 432x288 with 1 Axes>"
      ]
     },
     "metadata": {
      "needs_background": "light"
     },
     "output_type": "display_data"
    },
    {
     "name": "stdout",
     "output_type": "stream",
     "text": [
      "BGD\n",
      "Mean of Squared Errors =  9321.122053296496\n",
      "R2 score =  0.19150557871510676\n"
     ]
    }
   ],
   "source": [
    "import numpy as np\n",
    "import random\n",
    "import sklearn\n",
    "from sklearn.datasets.samples_generator import make_regression \n",
    "import matplotlib.pyplot as plt\n",
    "from scipy import stats\n",
    "\n",
    "def cost_function(theta, x, y, m):\n",
    "    \n",
    "    y_predict = theta.T.dot(x.T)\n",
    "    #print(\"y_predict \",y_predict)\n",
    "    error = np.sum((y_predict-y)**2)\n",
    "    #print(\"error \", error)\n",
    "    return error\n",
    "\n",
    "def gradient_descent(alpha, x, y, ep=0.0000001, max_iter=10000):\n",
    "\n",
    "    converged = False\n",
    "    iter = 0\n",
    "    m = x.shape[0] # number of samples\n",
    "\n",
    "    # initial theta\n",
    "    t = np.random.random((x.shape[1],1))\n",
    "    #t = np.ones((x.shape[1],1))\n",
    "    #print(\"t \", t)\n",
    "  \n",
    "    # total error, J(theta)\n",
    "    J = cost_function(t,x,y,m)\n",
    "    #print(\"Iteration 0 --> J=\",J,\" t0=\",t0,\" t1=\",t1)\n",
    "\n",
    "    # Iterate Loop\n",
    "    while not converged:\n",
    "        \n",
    "        #print(\"theta.shape \",t.shape)\n",
    "        #print(\"x.shape \",x.shape)\n",
    "        y_predict = t.T.dot(x.T)\n",
    "        \n",
    "        error = y_predict-y\n",
    "        grad = x.T.dot(error.T)\n",
    "\n",
    "        t = t - alpha * (1/m) * (grad)\n",
    "        \n",
    "        # error\n",
    "        e = cost_function(t,x,y,m)\n",
    "        \n",
    "        if abs(J-e) <= ep:\n",
    "            print(\"Converged, iterations: \", iter, \"/\", max_iter)\n",
    "            converged = True\n",
    "    \n",
    "        J = e   # update error s\n",
    "        iter += 1  # update iter\n",
    "    \n",
    "        if iter == max_iter:\n",
    "            print('Max iterations exceeded!')\n",
    "            converged = True\n",
    "\n",
    "    return t\n",
    "\n",
    "\n",
    "if __name__ == '__main__':\n",
    "\n",
    "    #x, y = make_regression(n_samples=100, n_features=2, n_informative=1, random_state=0, noise=1)\n",
    "    #x_b = np.c_[np.ones((x.shape[0],1)),x]\n",
    "    #x = np.array([0,2,3]).T\n",
    "    #y = np.array([1,1,4])\n",
    "    #x_b = np.c_[np.ones((3,1)),x]\n",
    "    \n",
    "    alpha = 0.01 # learning rate\n",
    "\n",
    "    #Modify x_b\n",
    "    '''x_b[:,3] = x_b[:,3] * 100000\n",
    "    from sklearn.preprocessing import StandardScaler\n",
    "    scaler = StandardScaler()\n",
    "    scaler.fit(x_b)\n",
    "    x_b = scaler.transform(x_b)\n",
    "    \n",
    "    from sklearn.preprocessing import MinMaxScaler\n",
    "    scaler2 = MinMaxScaler()\n",
    "    scaler2.fit(x_b)\n",
    "    x_b = scaler2.transform(x_b)'''\n",
    "    \n",
    "    theta_bgd = gradient_descent(alpha, x_b, y, max_iter=100000)\n",
    "    print (\"theta \", theta_bgd) \n",
    "    \n",
    "    #x2_n = np.array([[-3,3],[5,2]])\n",
    "    #x2_n_b = np.c_[np.ones((x2_n.shape[0],1)), x2_n]\n",
    "    y_p = x_n_b.dot(theta_bgd)\n",
    "\n",
    "    # sklearn\n",
    "    #lin_reg = LinearRegression()\n",
    "    #lin_reg.fit(x, y)\n",
    "    \n",
    "    #x1_n = np.array([[-3,3],[5,2]])\n",
    "    #y1_p = lin_reg.predict(x1_n)\n",
    "    #print(\"y predict = \",y1_p)\n",
    "\n",
    "    #print(\"SKlearn theta0 = \", lin_reg.intercept_, \" , coef \", lin_reg.coef_)\n",
    "    \n",
    "    import matplotlib.pyplot as plt\n",
    "    plt.plot(x_n[:,0], y_p,\"r-\")\n",
    "    plt.plot(x[:,0],y, \"b.\")\n",
    "    plt.show()\n",
    "    \n",
    "    from sklearn.metrics import mean_squared_error\n",
    "    from sklearn.metrics import r2_score\n",
    "    y3_p = x_b.dot(theta_bgd)\n",
    "    \n",
    "    print(\"BGD\")\n",
    "    print(\"Mean of Squared Errors = \", mean_squared_error(y, y3_p))\n",
    "    #print(\"Mean of Absolute Errors = \", mean_absolute_error(x_b[:,1], y2_p))\n",
    "    print(\"R2 score = \", r2_score(y, y3_p))\n"
   ]
  },
  {
   "cell_type": "markdown",
   "metadata": {},
   "source": [
    "# Feature Scaling"
   ]
  },
  {
   "cell_type": "markdown",
   "metadata": {},
   "source": [
    "print(\"Original data\")\n",
    "x, y = make_regression(n_samples=5, n_features=2, n_informative=1, random_state=0, noise=1)\n",
    "x2 = x\n",
    "y2 = y\n",
    "print(x)\n",
    "\n",
    "print(\"After modifying x2\")\n",
    "x[:,1] = x[:,1]*10000\n",
    "print(x)\n",
    "\n",
    "print(\"Standardization\")\n",
    "from sklearn.preprocessing import StandardScaler\n",
    "scaler = StandardScaler()\n",
    "scaler.fit(x)\n",
    "x = scaler.transform(x)\n",
    "print(x)\n",
    "\n",
    "print(\"Normalization\")\n",
    "from sklearn.preprocessing import MinMaxScaler\n",
    "scaler2 = MinMaxScaler()\n",
    "scaler2.fit(x2)\n",
    "x2 = scaler2.transform(x2)\n",
    "print(x2)"
   ]
  },
  {
   "cell_type": "markdown",
   "metadata": {},
   "source": [
    "# Stochastic GD"
   ]
  },
  {
   "cell_type": "code",
   "execution_count": 4,
   "metadata": {},
   "outputs": [
    {
     "name": "stdout",
     "output_type": "stream",
     "text": [
      "Max iterations exceeded!\n",
      "theta  [[-19.11948008]\n",
      " [ 42.24531962]\n",
      " [ -1.99558482]\n",
      " [  4.74820939]]\n"
     ]
    },
    {
     "data": {
      "image/png": "[encoded data removed]",
      "text/plain": [
       "<Figure size 432x288 with 1 Axes>"
      ]
     },
     "metadata": {
      "needs_background": "light"
     },
     "output_type": "display_data"
    },
    {
     "name": "stdout",
     "output_type": "stream",
     "text": [
      "SGD\n",
      "Mean of Squared Errors =  9395.07109534033\n",
      "R2 score =  0.18509139514257666\n"
     ]
    }
   ],
   "source": [
    "import numpy as np\n",
    "import random\n",
    "import sklearn\n",
    "from sklearn.datasets.samples_generator import make_regression \n",
    "import matplotlib.pyplot as plt\n",
    "from scipy import stats\n",
    "import time\n",
    "\n",
    "\n",
    "def cost_function(theta, x, y, m):\n",
    "    y_predict = theta.T.dot(x.T)\n",
    "    error = np.sum((y_predict-y)**2)\n",
    "    return error\n",
    "\n",
    "def gradient_descent(alpha, x, y, ep=0.0000001, max_iter=10000):\n",
    "\n",
    "    converged = False\n",
    "    iter = 0\n",
    "    m = x.shape[0] # number of samples\n",
    "\n",
    "    # initial theta\n",
    "    t = np.random.random((x.shape[1],1))\n",
    "   \n",
    "    # total error, J(theta)\n",
    "    J = cost_function(t,x,y,m)\n",
    "  \n",
    "    # Iterate Loop\n",
    "    while not converged:\n",
    "        \n",
    "        \n",
    "        rand_ind = np.random.randint(0,m)\n",
    "        X_i = x[rand_ind,:]\n",
    "        y_i = y[rand_ind].reshape(1,1)\n",
    "        \n",
    "        y_predict = t.T.dot(X_i)\n",
    "        error = y_predict-y_i\n",
    "        X_i = X_i.reshape(1,x.shape[1])\n",
    "        grad = X_i.T.dot(error.T)\n",
    "        \n",
    "        #ld = 0.1\n",
    "        #alpha_t = alpha/(1+alpha*ld*iter)\n",
    "        #print(\"learning schedule = \", alpha_t)\n",
    "        alpha_t = alpha\n",
    "        \n",
    "        t = t - alpha_t * (1/1) * (grad)\n",
    "        \n",
    "        # error\n",
    "        e = cost_function(t,X_i,y_i,m)\n",
    "        \n",
    "        if abs(J-e) <= ep:\n",
    "            print(\"Converged, iterations: \", iter, \"/\", max_iter)\n",
    "            converged = True\n",
    "    \n",
    "        J = e   # update error s\n",
    "        iter += 1  # update iter\n",
    "    \n",
    "        if iter == max_iter:\n",
    "            print('Max iterations exceeded!')\n",
    "            converged = True\n",
    "\n",
    "    return t\n",
    "\n",
    "\n",
    "if __name__ == '__main__':\n",
    "\n",
    "    #x, y = make_regression(n_samples=100, n_features=2, n_informative=1, random_state=0, noise=35)\n",
    "    #x_b = np.c_[np.ones((x.shape[0],1)),x]\n",
    "    \n",
    "    alpha = 0.01 # learning rate\n",
    "\n",
    "    theta_sgd = gradient_descent(alpha, x_b, y, max_iter=10000)\n",
    "    print (\"theta \", theta_sgd) \n",
    "    \n",
    "    y_p = x_n_b.dot(theta_sgd)\n",
    "\n",
    "    import matplotlib.pyplot as plt\n",
    "    plt.plot(x_n[:,0], y_p,\"r-\")\n",
    "    plt.plot(x[:,0],y, \"b.\")\n",
    "    plt.show()\n",
    "   \n",
    "    from sklearn.metrics import mean_squared_error\n",
    "    from sklearn.metrics import mean_absolute_error\n",
    "    from sklearn.metrics import r2_score\n",
    "    y2_p = x_b.dot(theta_sgd)\n",
    "    #print(\"y predict = \",y2_p)\n",
    "    \n",
    "    print(\"SGD\")\n",
    "    print(\"Mean of Squared Errors = \", mean_squared_error(y, y2_p))\n",
    "    #print(\"Mean of Absolute Errors = \", mean_absolute_error(x_b[:,1], y2_p))\n",
    "    print(\"R2 score = \", r2_score(y, y2_p))\n"
   ]
  },
  {
   "cell_type": "markdown",
   "metadata": {},
   "source": [
    "# Mini-batch GD"
   ]
  },
  {
   "cell_type": "code",
   "execution_count": 5,
   "metadata": {},
   "outputs": [
    {
     "name": "stdout",
     "output_type": "stream",
     "text": [
      "Max iterations exceeded!\n",
      "theta  [[ 0.948377  ]\n",
      " [-6.96701447]\n",
      " [94.77952806]]\n",
      "Max iterations exceeded!\n",
      "theta  [[ 1.00243767]\n",
      " [-6.92767205]\n",
      " [94.7850877 ]]\n"
     ]
    },
    {
     "data": {
      "image/png": "[encoded data removed]",
      "text/plain": [
       "<Figure size 432x288 with 1 Axes>"
      ]
     },
     "metadata": {
      "needs_background": "light"
     },
     "output_type": "display_data"
    }
   ],
   "source": [
    "import numpy as np\n",
    "import random\n",
    "import sklearn\n",
    "from sklearn.datasets.samples_generator import make_regression \n",
    "import matplotlib.pyplot as plt\n",
    "from scipy import stats\n",
    "import time\n",
    "\n",
    "\n",
    "def cost_function(theta, x, y, m):\n",
    "    y_predict = theta.T.dot(x.T)\n",
    "    error = np.sum((y_predict-y)**2)\n",
    "    return error\n",
    "\n",
    "def gradient_descent(alpha, x, y, ep=0.00000001, max_iter=10000):\n",
    "\n",
    "    converged = False\n",
    "    iter = 0\n",
    "    m = x.shape[0] # number of samples\n",
    "\n",
    "    # initial theta\n",
    "    t = np.random.random((x.shape[1],1))\n",
    "   \n",
    "    # total error, J(theta)\n",
    "    J = cost_function(t,x,y,m)\n",
    "    \n",
    "    batch_size = 10\n",
    "  \n",
    "    # Iterate Loop\n",
    "    while not converged:\n",
    "        \n",
    "        rand_ind = np.random.permutation(m)\n",
    "        x = x[rand_ind]\n",
    "        y = y[rand_ind]\n",
    "        \n",
    "        for i in range(0,m,batch_size):\n",
    "            \n",
    "            X_i = x[i:i+batch_size]\n",
    "            y_i = y[i:i+batch_size]\n",
    "        \n",
    "            y_predict = t.T.dot(X_i.T)\n",
    "            error = y_predict-y_i\n",
    "            grad = X_i.T.dot(error.T)\n",
    "\n",
    "            t = t - alpha * (1/batch_size) * (grad)\n",
    "\n",
    "            # error\n",
    "            e = cost_function(t,X_i,y_i,m)\n",
    "\n",
    "            if abs(J-e) <= ep:\n",
    "                print(\"Converged, iterations: \", iter, \"/\", max_iter)\n",
    "                converged = True\n",
    "\n",
    "            J = e   # update error s\n",
    "            iter += 1  # update iter\n",
    "\n",
    "            if iter == max_iter:\n",
    "                print('Max iterations exceeded!')\n",
    "                converged = True\n",
    "\n",
    "    return t\n",
    "\n",
    "\n",
    "if __name__ == '__main__':\n",
    "\n",
    "    x, y = make_regression(n_samples=100, n_features=2, n_informative=1, random_state=0, noise=35)\n",
    "    x_b = np.c_[np.ones((x.shape[0],1)),x]\n",
    "    \n",
    "    alpha = 0.01 # learning rate\n",
    "\n",
    "    theta = gradient_descent(alpha, x_b, y, max_iter=10000)\n",
    "    print (\"theta \", theta)\n",
    "    theta = gradient_descent(alpha, x_b, y, max_iter=10000)\n",
    "    print (\"theta \", theta) \n",
    "    \n",
    "    y_p = x_n_b.dot(theta_best)\n",
    "\n",
    "    import matplotlib.pyplot as plt\n",
    "    plt.plot(x_n[:,0], y_p,\"r-\")\n",
    "    plt.plot(x[:,0],y, \"b.\")\n",
    "    plt.show()"
   ]
  },
  {
   "cell_type": "markdown",
   "metadata": {},
   "source": [
    "# Polynomial regression\n",
    "Reference: https://towardsdatascience.com/machine-learning-polynomial-regression-with-python-5328e4e8a386"
   ]
  },
  {
   "cell_type": "code",
   "execution_count": 6,
   "metadata": {},
   "outputs": [
    {
     "name": "stdout",
     "output_type": "stream",
     "text": [
      "<bound method NDFrame.head of             Position  Level   Salary\n",
      "0   Business Analyst      1    45000\n",
      "1  Junior Consultant      2    50000\n",
      "2  Senior Consultant      3    60000\n",
      "3            Manager      4    80000\n",
      "4    Country Manager      5   110000\n",
      "5     Region Manager      6   150000\n",
      "6            Partner      7   200000\n",
      "7     Senior Partner      8   300000\n",
      "8            C-level      9   500000\n",
      "9                CEO     10  1000000>\n"
     ]
    }
   ],
   "source": [
    "import numpy as np\n",
    "import matplotlib.pyplot as plt\n",
    "import pandas as pd\n",
    "\n",
    "# Importing the dataset\n",
    "dataset = pd.read_csv('https://s3.us-west-2.amazonaws.com/public.gamelab.fun/dataset/position_salaries.csv')\n",
    "X = dataset.iloc[:, 1:2].values\n",
    "y = dataset.iloc[:, 2].values\n",
    "print(dataset.head)"
   ]
  },
  {
   "cell_type": "code",
   "execution_count": 7,
   "metadata": {},
   "outputs": [],
   "source": [
    "# Splitting the dataset into the Training set and Test set\n",
    "from sklearn.model_selection import train_test_split \n",
    "X_train, X_test, y_train, y_test = train_test_split(X, y, test_size=0.2, random_state=0)"
   ]
  },
  {
   "cell_type": "code",
   "execution_count": 8,
   "metadata": {},
   "outputs": [
    {
     "data": {
      "image/png": "[encoded data removed]",
      "text/plain": [
       "<Figure size 432x288 with 1 Axes>"
      ]
     },
     "metadata": {
      "needs_background": "light"
     },
     "output_type": "display_data"
    }
   ],
   "source": [
    "# Fitting Linear Regression to the dataset\n",
    "from sklearn.linear_model import LinearRegression\n",
    "lin_reg = LinearRegression()\n",
    "lin_reg.fit(X, y)\n",
    "\n",
    "# Visualizing the Linear Regression results\n",
    "def viz_linear():\n",
    "    plt.scatter(X, y, color='red')\n",
    "    plt.plot(X, lin_reg.predict(X), color='blue')\n",
    "    plt.title('Truth or Bluff (Linear Regression)')\n",
    "    plt.xlabel('Position level')\n",
    "    plt.ylabel('Salary')\n",
    "    plt.show()\n",
    "    return\n",
    "viz_linear()"
   ]
  },
  {
   "cell_type": "code",
   "execution_count": 9,
   "metadata": {},
   "outputs": [
    {
     "data": {
      "image/png": "[encoded data removed]",
      "text/plain": [
       "<Figure size 432x288 with 1 Axes>"
      ]
     },
     "metadata": {
      "needs_background": "light"
     },
     "output_type": "display_data"
    }
   ],
   "source": [
    "# Fitting Polynomial Regression to the dataset\n",
    "from sklearn.preprocessing import PolynomialFeatures\n",
    "poly_reg = PolynomialFeatures(degree=2)\n",
    "X_poly = poly_reg.fit_transform(X)\n",
    "pol_reg = LinearRegression()\n",
    "pol_reg.fit(X_poly, y)\n",
    "\n",
    "# Visualizing the Polymonial Regression results\n",
    "def viz_polymonial():\n",
    "    plt.scatter(X, y, color='red')\n",
    "    plt.plot(X, pol_reg.predict(poly_reg.fit_transform(X)), color='blue')\n",
    "    plt.title('Truth or Bluff (Linear Regression)')\n",
    "    plt.xlabel('Position level')\n",
    "    plt.ylabel('Salary')\n",
    "    plt.show()\n",
    "    return\n",
    "viz_polymonial()"
   ]
  },
  {
   "cell_type": "code",
   "execution_count": 10,
   "metadata": {},
   "outputs": [
    {
     "data": {
      "text/plain": [
       "array([89187.5])"
      ]
     },
     "execution_count": 10,
     "metadata": {},
     "output_type": "execute_result"
    }
   ],
   "source": [
    "# Predicting a new result with Linear Regression\n",
    "lin_reg.predict([[5.5]])\n",
    "#output should be 249500\n",
    "\n",
    "# Predicting a new result with Polymonial Regression\n",
    "pol_reg.predict(poly_reg.fit_transform([[5.5]]))\n",
    "#output should be 132148.43750003"
   ]
  },
  {
   "cell_type": "code",
   "execution_count": null,
   "metadata": {},
   "outputs": [],
   "source": []
  },
  {
   "cell_type": "code",
   "execution_count": null,
   "metadata": {},
   "outputs": [],
   "source": []
  }
 ],
 "metadata": {
  "kernelspec": {
   "display_name": "Python 3",
   "language": "python",
   "name": "python3"
  },
  "language_info": {
   "codemirror_mode": {
    "name": "ipython",
    "version": 3
   },
   "file_extension": ".py",
   "mimetype": "text/x-python",
   "name": "python",
   "nbconvert_exporter": "python",
   "pygments_lexer": "ipython3",
   "version": "3.7.4"
  }
 },
 "nbformat": 4,
 "nbformat_minor": 4
}
