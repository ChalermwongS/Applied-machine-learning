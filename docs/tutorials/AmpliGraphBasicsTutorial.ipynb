{
  "nbformat": 4,
  "nbformat_minor": 0,
  "metadata": {
    "kernelspec": {
      "display_name": "Python 3",
      "language": "python",
      "name": "python3"
    },
    "language_info": {
      "codemirror_mode": {
        "name": "ipython",
        "version": 3
      },
      "file_extension": ".py",
      "mimetype": "text/x-python",
      "name": "python",
      "nbconvert_exporter": "python",
      "pygments_lexer": "ipython3",
      "version": "3.7.3"
    },
    "colab": {
      "name": "AmpliGraphBasicsTutorial.ipynb",
      "provenance": []
    }
  },
  "cells": [
    {
      "cell_type": "code",
      "metadata": {
        "id": "hC9Oi7Awmzmj",
        "outputId": "30c8752e-28ec-4597-a34a-33ba5e72b431",
        "colab": {
          "base_uri": "https://localhost:8080/",
          "height": 1000
        }
      },
      "source": [
        "!pip install ampligraph"
      ],
      "execution_count": 1,
      "outputs": [
        {
          "output_type": "stream",
          "name": "stdout",
          "text": [
            "Collecting ampligraph\n",
            "  Downloading ampligraph-1.4.0-py3-none-any.whl (168 kB)\n",
            "\u001b[K     |████████████████████████████████| 168 kB 4.2 MB/s \n",
            "\u001b[?25hCollecting recommonmark==0.4.0\n",
            "  Downloading recommonmark-0.4.0-py2.py3-none-any.whl (9.4 kB)\n",
            "Requirement already satisfied: tqdm>=4.23.4 in /usr/local/lib/python3.7/dist-packages (from ampligraph) (4.62.3)\n",
            "Collecting rdflib>=4.2.2\n",
            "  Downloading rdflib-6.0.2-py3-none-any.whl (407 kB)\n",
            "\u001b[K     |████████████████████████████████| 407 kB 41.1 MB/s \n",
            "\u001b[?25hRequirement already satisfied: scipy>=1.3.0 in /usr/local/lib/python3.7/dist-packages (from ampligraph) (1.4.1)\n",
            "Requirement already satisfied: numpy>=1.14.3 in /usr/local/lib/python3.7/dist-packages (from ampligraph) (1.19.5)\n",
            "Requirement already satisfied: networkx>=2.3 in /usr/local/lib/python3.7/dist-packages (from ampligraph) (2.6.3)\n",
            "Requirement already satisfied: setuptools>=36 in /usr/local/lib/python3.7/dist-packages (from ampligraph) (57.4.0)\n",
            "Requirement already satisfied: scikit-learn>=0.19.1 in /usr/local/lib/python3.7/dist-packages (from ampligraph) (0.22.2.post1)\n",
            "Collecting flake8>=3.7.7\n",
            "  Downloading flake8-4.0.1-py2.py3-none-any.whl (64 kB)\n",
            "\u001b[K     |████████████████████████████████| 64 kB 2.6 MB/s \n",
            "\u001b[?25hCollecting sphinx<3,>=2.2\n",
            "  Downloading Sphinx-2.4.4-py3-none-any.whl (2.7 MB)\n",
            "\u001b[K     |████████████████████████████████| 2.7 MB 36.6 MB/s \n",
            "\u001b[?25hRequirement already satisfied: pytest>=3.5.1 in /usr/local/lib/python3.7/dist-packages (from ampligraph) (3.6.4)\n",
            "Collecting sphinxcontrib-bibtex==0.4.2\n",
            "  Downloading sphinxcontrib_bibtex-0.4.2-py2.py3-none-any.whl (15 kB)\n",
            "Requirement already satisfied: pandas>=0.23.1 in /usr/local/lib/python3.7/dist-packages (from ampligraph) (1.1.5)\n",
            "Requirement already satisfied: pyyaml>=3.13 in /usr/local/lib/python3.7/dist-packages (from ampligraph) (3.13)\n",
            "Collecting beautifultable>=0.7.0\n",
            "  Downloading beautifultable-1.0.1-py2.py3-none-any.whl (27 kB)\n",
            "Collecting sphinx-rtd-theme==0.4.3\n",
            "  Downloading sphinx_rtd_theme-0.4.3-py2.py3-none-any.whl (6.4 MB)\n",
            "\u001b[K     |████████████████████████████████| 6.4 MB 50.1 MB/s \n",
            "\u001b[?25hRequirement already satisfied: docutils>=0.11 in /usr/local/lib/python3.7/dist-packages (from recommonmark==0.4.0->ampligraph) (0.17.1)\n",
            "Collecting commonmark<=0.5.4\n",
            "  Downloading CommonMark-0.5.4.tar.gz (120 kB)\n",
            "\u001b[K     |████████████████████████████████| 120 kB 52.1 MB/s \n",
            "\u001b[?25hCollecting pybtex>=0.20\n",
            "  Downloading pybtex-0.24.0-py2.py3-none-any.whl (561 kB)\n",
            "\u001b[K     |████████████████████████████████| 561 kB 51.0 MB/s \n",
            "\u001b[?25hRequirement already satisfied: six>=1.4.1 in /usr/local/lib/python3.7/dist-packages (from sphinxcontrib-bibtex==0.4.2->ampligraph) (1.15.0)\n",
            "Collecting oset>=0.1.3\n",
            "  Downloading oset-0.1.3.tar.gz (7.3 kB)\n",
            "Collecting pybtex-docutils>=0.2.0\n",
            "  Downloading pybtex_docutils-1.0.1-py3-none-any.whl (4.8 kB)\n",
            "Requirement already satisfied: wcwidth in /usr/local/lib/python3.7/dist-packages (from beautifultable>=0.7.0->ampligraph) (0.2.5)\n",
            "Collecting pycodestyle<2.9.0,>=2.8.0\n",
            "  Downloading pycodestyle-2.8.0-py2.py3-none-any.whl (42 kB)\n",
            "\u001b[K     |████████████████████████████████| 42 kB 840 kB/s \n",
            "\u001b[?25hCollecting pyflakes<2.5.0,>=2.4.0\n",
            "  Downloading pyflakes-2.4.0-py2.py3-none-any.whl (69 kB)\n",
            "\u001b[K     |████████████████████████████████| 69 kB 6.9 MB/s \n",
            "\u001b[?25hCollecting importlib-metadata<4.3\n",
            "  Downloading importlib_metadata-4.2.0-py3-none-any.whl (16 kB)\n",
            "Collecting mccabe<0.7.0,>=0.6.0\n",
            "  Downloading mccabe-0.6.1-py2.py3-none-any.whl (8.6 kB)\n",
            "Requirement already satisfied: zipp>=0.5 in /usr/local/lib/python3.7/dist-packages (from importlib-metadata<4.3->flake8>=3.7.7->ampligraph) (3.6.0)\n",
            "Requirement already satisfied: typing-extensions>=3.6.4 in /usr/local/lib/python3.7/dist-packages (from importlib-metadata<4.3->flake8>=3.7.7->ampligraph) (3.7.4.3)\n",
            "Requirement already satisfied: python-dateutil>=2.7.3 in /usr/local/lib/python3.7/dist-packages (from pandas>=0.23.1->ampligraph) (2.8.2)\n",
            "Requirement already satisfied: pytz>=2017.2 in /usr/local/lib/python3.7/dist-packages (from pandas>=0.23.1->ampligraph) (2018.9)\n",
            "Collecting latexcodec>=1.0.4\n",
            "  Downloading latexcodec-2.0.1-py2.py3-none-any.whl (18 kB)\n",
            "Requirement already satisfied: attrs>=17.4.0 in /usr/local/lib/python3.7/dist-packages (from pytest>=3.5.1->ampligraph) (21.2.0)\n",
            "Requirement already satisfied: pluggy<0.8,>=0.5 in /usr/local/lib/python3.7/dist-packages (from pytest>=3.5.1->ampligraph) (0.7.1)\n",
            "Requirement already satisfied: atomicwrites>=1.0 in /usr/local/lib/python3.7/dist-packages (from pytest>=3.5.1->ampligraph) (1.4.0)\n",
            "Requirement already satisfied: py>=1.5.0 in /usr/local/lib/python3.7/dist-packages (from pytest>=3.5.1->ampligraph) (1.10.0)\n",
            "Requirement already satisfied: more-itertools>=4.0.0 in /usr/local/lib/python3.7/dist-packages (from pytest>=3.5.1->ampligraph) (8.10.0)\n",
            "Collecting isodate\n",
            "  Downloading isodate-0.6.0-py2.py3-none-any.whl (45 kB)\n",
            "\u001b[K     |████████████████████████████████| 45 kB 3.2 MB/s \n",
            "\u001b[?25hRequirement already satisfied: pyparsing in /usr/local/lib/python3.7/dist-packages (from rdflib>=4.2.2->ampligraph) (2.4.7)\n",
            "Requirement already satisfied: joblib>=0.11 in /usr/local/lib/python3.7/dist-packages (from scikit-learn>=0.19.1->ampligraph) (1.0.1)\n",
            "Requirement already satisfied: babel!=2.0,>=1.3 in /usr/local/lib/python3.7/dist-packages (from sphinx<3,>=2.2->ampligraph) (2.9.1)\n",
            "Requirement already satisfied: imagesize in /usr/local/lib/python3.7/dist-packages (from sphinx<3,>=2.2->ampligraph) (1.2.0)\n",
            "Collecting sphinxcontrib-qthelp\n",
            "  Downloading sphinxcontrib_qthelp-1.0.3-py2.py3-none-any.whl (90 kB)\n",
            "\u001b[K     |████████████████████████████████| 90 kB 7.8 MB/s \n",
            "\u001b[?25hRequirement already satisfied: sphinxcontrib-serializinghtml in /usr/local/lib/python3.7/dist-packages (from sphinx<3,>=2.2->ampligraph) (1.1.5)\n",
            "Collecting sphinxcontrib-htmlhelp\n",
            "  Downloading sphinxcontrib_htmlhelp-2.0.0-py2.py3-none-any.whl (100 kB)\n",
            "\u001b[K     |████████████████████████████████| 100 kB 8.9 MB/s \n",
            "\u001b[?25hRequirement already satisfied: Pygments>=2.0 in /usr/local/lib/python3.7/dist-packages (from sphinx<3,>=2.2->ampligraph) (2.6.1)\n",
            "Collecting sphinxcontrib-jsmath\n",
            "  Downloading sphinxcontrib_jsmath-1.0.1-py2.py3-none-any.whl (5.1 kB)\n",
            "Requirement already satisfied: snowballstemmer>=1.1 in /usr/local/lib/python3.7/dist-packages (from sphinx<3,>=2.2->ampligraph) (2.1.0)\n",
            "Requirement already satisfied: alabaster<0.8,>=0.7 in /usr/local/lib/python3.7/dist-packages (from sphinx<3,>=2.2->ampligraph) (0.7.12)\n",
            "Requirement already satisfied: packaging in /usr/local/lib/python3.7/dist-packages (from sphinx<3,>=2.2->ampligraph) (21.0)\n",
            "Requirement already satisfied: Jinja2>=2.3 in /usr/local/lib/python3.7/dist-packages (from sphinx<3,>=2.2->ampligraph) (2.11.3)\n",
            "Collecting sphinxcontrib-devhelp\n",
            "  Downloading sphinxcontrib_devhelp-1.0.2-py2.py3-none-any.whl (84 kB)\n",
            "\u001b[K     |████████████████████████████████| 84 kB 2.8 MB/s \n",
            "\u001b[?25hCollecting sphinxcontrib-applehelp\n",
            "  Downloading sphinxcontrib_applehelp-1.0.2-py2.py3-none-any.whl (121 kB)\n",
            "\u001b[K     |████████████████████████████████| 121 kB 50.9 MB/s \n",
            "\u001b[?25hRequirement already satisfied: requests>=2.5.0 in /usr/local/lib/python3.7/dist-packages (from sphinx<3,>=2.2->ampligraph) (2.23.0)\n",
            "Requirement already satisfied: MarkupSafe>=0.23 in /usr/local/lib/python3.7/dist-packages (from Jinja2>=2.3->sphinx<3,>=2.2->ampligraph) (2.0.1)\n",
            "Requirement already satisfied: urllib3!=1.25.0,!=1.25.1,<1.26,>=1.21.1 in /usr/local/lib/python3.7/dist-packages (from requests>=2.5.0->sphinx<3,>=2.2->ampligraph) (1.24.3)\n",
            "Requirement already satisfied: certifi>=2017.4.17 in /usr/local/lib/python3.7/dist-packages (from requests>=2.5.0->sphinx<3,>=2.2->ampligraph) (2021.5.30)\n",
            "Requirement already satisfied: chardet<4,>=3.0.2 in /usr/local/lib/python3.7/dist-packages (from requests>=2.5.0->sphinx<3,>=2.2->ampligraph) (3.0.4)\n",
            "Requirement already satisfied: idna<3,>=2.5 in /usr/local/lib/python3.7/dist-packages (from requests>=2.5.0->sphinx<3,>=2.2->ampligraph) (2.10)\n",
            "Building wheels for collected packages: commonmark, oset\n",
            "  Building wheel for commonmark (setup.py) ... \u001b[?25l\u001b[?25hdone\n",
            "  Created wheel for commonmark: filename=CommonMark-0.5.4-py3-none-any.whl size=30766 sha256=3a23b8599ebb836d6951b964f919b0e49b0485ae6ace4a0d741a4361083e5e53\n",
            "  Stored in directory: /root/.cache/pip/wheels/d5/28/c7/ce1ffdf847bcfcfa332299c572b26819dc38383180bb5b9072\n",
            "  Building wheel for oset (setup.py) ... \u001b[?25l\u001b[?25hdone\n",
            "  Created wheel for oset: filename=oset-0.1.3-py3-none-any.whl size=9685 sha256=99438c95d8f59f510da62fd16ef9c0929edf6fbfce51efc5b27fbabf054817ca\n",
            "  Stored in directory: /root/.cache/pip/wheels/d3/97/cf/cfafe0bedac445a9492baca15b27f8afb4693182b00a975ac7\n",
            "Successfully built commonmark oset\n",
            "Installing collected packages: latexcodec, sphinxcontrib-qthelp, sphinxcontrib-jsmath, sphinxcontrib-htmlhelp, sphinxcontrib-devhelp, sphinxcontrib-applehelp, pybtex, sphinx, pyflakes, pycodestyle, pybtex-docutils, oset, mccabe, isodate, importlib-metadata, commonmark, sphinxcontrib-bibtex, sphinx-rtd-theme, recommonmark, rdflib, flake8, beautifultable, ampligraph\n",
            "  Attempting uninstall: sphinx\n",
            "    Found existing installation: Sphinx 1.8.5\n",
            "    Uninstalling Sphinx-1.8.5:\n",
            "      Successfully uninstalled Sphinx-1.8.5\n",
            "  Attempting uninstall: importlib-metadata\n",
            "    Found existing installation: importlib-metadata 4.8.1\n",
            "    Uninstalling importlib-metadata-4.8.1:\n",
            "      Successfully uninstalled importlib-metadata-4.8.1\n",
            "\u001b[31mERROR: pip's dependency resolver does not currently take into account all the packages that are installed. This behaviour is the source of the following dependency conflicts.\n",
            "datascience 0.10.6 requires folium==0.2.1, but you have folium 0.8.3 which is incompatible.\u001b[0m\n",
            "Successfully installed ampligraph-1.4.0 beautifultable-1.0.1 commonmark-0.5.4 flake8-4.0.1 importlib-metadata-4.2.0 isodate-0.6.0 latexcodec-2.0.1 mccabe-0.6.1 oset-0.1.3 pybtex-0.24.0 pybtex-docutils-1.0.1 pycodestyle-2.8.0 pyflakes-2.4.0 rdflib-6.0.2 recommonmark-0.4.0 sphinx-2.4.4 sphinx-rtd-theme-0.4.3 sphinxcontrib-applehelp-1.0.2 sphinxcontrib-bibtex-0.4.2 sphinxcontrib-devhelp-1.0.2 sphinxcontrib-htmlhelp-2.0.0 sphinxcontrib-jsmath-1.0.1 sphinxcontrib-qthelp-1.0.3\n"
          ]
        },
        {
          "output_type": "display_data",
          "data": {
            "application/vnd.colab-display-data+json": {
              "pip_warning": {
                "packages": [
                  "sphinxcontrib"
                ]
              }
            }
          },
          "metadata": {}
        }
      ]
    },
    {
      "cell_type": "code",
      "metadata": {
        "id": "6RwWB4QxnGTq",
        "outputId": "da17891c-f77f-45ff-9e82-cfb5cff2165e",
        "colab": {
          "base_uri": "https://localhost:8080/"
        }
      },
      "source": [
        "!pip uninstall tensorflow\n",
        "!pip install tensorflow==1.13.2"
      ],
      "execution_count": 1,
      "outputs": [
        {
          "output_type": "stream",
          "name": "stdout",
          "text": [
            "Found existing installation: tensorflow 2.6.0\n",
            "Uninstalling tensorflow-2.6.0:\n",
            "  Would remove:\n",
            "    /usr/local/bin/estimator_ckpt_converter\n",
            "    /usr/local/bin/import_pb_to_tensorboard\n",
            "    /usr/local/bin/saved_model_cli\n",
            "    /usr/local/bin/tensorboard\n",
            "    /usr/local/bin/tf_upgrade_v2\n",
            "    /usr/local/bin/tflite_convert\n",
            "    /usr/local/bin/toco\n",
            "    /usr/local/bin/toco_from_protos\n",
            "    /usr/local/lib/python3.7/dist-packages/tensorflow-2.6.0.dist-info/*\n",
            "    /usr/local/lib/python3.7/dist-packages/tensorflow/*\n",
            "Proceed (y/n)? y\n",
            "  Successfully uninstalled tensorflow-2.6.0\n",
            "Collecting tensorflow==1.13.2\n",
            "  Downloading tensorflow-1.13.2-cp37-cp37m-manylinux1_x86_64.whl (92.7 MB)\n",
            "\u001b[K     |████████████████████████████████| 92.7 MB 1.4 MB/s \n",
            "\u001b[?25hRequirement already satisfied: astor>=0.6.0 in /usr/local/lib/python3.7/dist-packages (from tensorflow==1.13.2) (0.8.1)\n",
            "Collecting tensorflow-estimator<1.14.0rc0,>=1.13.0\n",
            "  Downloading tensorflow_estimator-1.13.0-py2.py3-none-any.whl (367 kB)\n",
            "\u001b[K     |████████████████████████████████| 367 kB 58.5 MB/s \n",
            "\u001b[?25hRequirement already satisfied: six>=1.10.0 in /usr/local/lib/python3.7/dist-packages (from tensorflow==1.13.2) (1.15.0)\n",
            "Requirement already satisfied: protobuf>=3.6.1 in /usr/local/lib/python3.7/dist-packages (from tensorflow==1.13.2) (3.17.3)\n",
            "Requirement already satisfied: keras-preprocessing>=1.0.5 in /usr/local/lib/python3.7/dist-packages (from tensorflow==1.13.2) (1.1.2)\n",
            "Requirement already satisfied: grpcio>=1.8.6 in /usr/local/lib/python3.7/dist-packages (from tensorflow==1.13.2) (1.41.0)\n",
            "Requirement already satisfied: wheel>=0.26 in /usr/local/lib/python3.7/dist-packages (from tensorflow==1.13.2) (0.37.0)\n",
            "Collecting keras-applications>=1.0.6\n",
            "  Downloading Keras_Applications-1.0.8-py3-none-any.whl (50 kB)\n",
            "\u001b[K     |████████████████████████████████| 50 kB 6.5 MB/s \n",
            "\u001b[?25hRequirement already satisfied: numpy<2.0,>=1.16.0 in /usr/local/lib/python3.7/dist-packages (from tensorflow==1.13.2) (1.19.5)\n",
            "Requirement already satisfied: absl-py>=0.1.6 in /usr/local/lib/python3.7/dist-packages (from tensorflow==1.13.2) (0.12.0)\n",
            "Collecting tensorboard<1.14.0,>=1.13.0\n",
            "  Downloading tensorboard-1.13.1-py3-none-any.whl (3.2 MB)\n",
            "\u001b[K     |████████████████████████████████| 3.2 MB 49.2 MB/s \n",
            "\u001b[?25hRequirement already satisfied: termcolor>=1.1.0 in /usr/local/lib/python3.7/dist-packages (from tensorflow==1.13.2) (1.1.0)\n",
            "Requirement already satisfied: gast>=0.2.0 in /usr/local/lib/python3.7/dist-packages (from tensorflow==1.13.2) (0.4.0)\n",
            "Requirement already satisfied: h5py in /usr/local/lib/python3.7/dist-packages (from keras-applications>=1.0.6->tensorflow==1.13.2) (3.1.0)\n",
            "Requirement already satisfied: markdown>=2.6.8 in /usr/local/lib/python3.7/dist-packages (from tensorboard<1.14.0,>=1.13.0->tensorflow==1.13.2) (3.3.4)\n",
            "Requirement already satisfied: werkzeug>=0.11.15 in /usr/local/lib/python3.7/dist-packages (from tensorboard<1.14.0,>=1.13.0->tensorflow==1.13.2) (1.0.1)\n",
            "Requirement already satisfied: importlib-metadata in /usr/local/lib/python3.7/dist-packages (from markdown>=2.6.8->tensorboard<1.14.0,>=1.13.0->tensorflow==1.13.2) (4.2.0)\n",
            "Collecting mock>=2.0.0\n",
            "  Downloading mock-4.0.3-py3-none-any.whl (28 kB)\n",
            "Requirement already satisfied: cached-property in /usr/local/lib/python3.7/dist-packages (from h5py->keras-applications>=1.0.6->tensorflow==1.13.2) (1.5.2)\n",
            "Requirement already satisfied: typing-extensions>=3.6.4 in /usr/local/lib/python3.7/dist-packages (from importlib-metadata->markdown>=2.6.8->tensorboard<1.14.0,>=1.13.0->tensorflow==1.13.2) (3.7.4.3)\n",
            "Requirement already satisfied: zipp>=0.5 in /usr/local/lib/python3.7/dist-packages (from importlib-metadata->markdown>=2.6.8->tensorboard<1.14.0,>=1.13.0->tensorflow==1.13.2) (3.6.0)\n",
            "Installing collected packages: mock, tensorflow-estimator, tensorboard, keras-applications, tensorflow\n",
            "  Attempting uninstall: tensorflow-estimator\n",
            "    Found existing installation: tensorflow-estimator 2.6.0\n",
            "    Uninstalling tensorflow-estimator-2.6.0:\n",
            "      Successfully uninstalled tensorflow-estimator-2.6.0\n",
            "  Attempting uninstall: tensorboard\n",
            "    Found existing installation: tensorboard 2.6.0\n",
            "    Uninstalling tensorboard-2.6.0:\n",
            "      Successfully uninstalled tensorboard-2.6.0\n",
            "\u001b[31mERROR: pip's dependency resolver does not currently take into account all the packages that are installed. This behaviour is the source of the following dependency conflicts.\n",
            "kapre 0.3.5 requires tensorflow>=2.0.0, but you have tensorflow 1.13.2 which is incompatible.\u001b[0m\n",
            "Successfully installed keras-applications-1.0.8 mock-4.0.3 tensorboard-1.13.1 tensorflow-1.13.2 tensorflow-estimator-1.13.0\n"
          ]
        }
      ]
    },
    {
      "cell_type": "markdown",
      "metadata": {
        "id": "LcB7bdSemUSJ"
      },
      "source": [
        "---\n",
        "# Getting Started with AmpliGraph\n",
        "---\n",
        "In this tutorial we will demonstrate how to use the AmpliGraph library. \n",
        "\n",
        "Things we will cover:\n",
        "\n",
        "1. Exploration of a graph dataset\n",
        "2. Splitting graph datasets into train and test sets\n",
        "3. Training a model\n",
        "4. Model selection and hyper-parameter search \n",
        "5. Saving and restoring a model\n",
        "6. Evaluating a model\n",
        "7. Using link prediction to discover unknown relations\n",
        "8. Visualizing embeddings using Tensorboard\n",
        "\n",
        "---\n",
        "\n",
        "## Requirements\n",
        "\n",
        "A Python environment with the AmpliGraph library installed. Please follow [the install guide](http://docs.ampligraph.org/en/latest/install.html).\n",
        "\n"
      ]
    },
    {
      "cell_type": "markdown",
      "metadata": {
        "id": "91EgSkmvmUSN"
      },
      "source": [
        "Some sanity check:"
      ]
    },
    {
      "cell_type": "code",
      "metadata": {
        "id": "1k9gBUidmUSO",
        "outputId": "95e0b749-584a-40a1-c66e-293b5842b520",
        "colab": {
          "base_uri": "https://localhost:8080/",
          "height": 256
        }
      },
      "source": [
        "import numpy as np\n",
        "import pandas as pd\n",
        "import ampligraph\n",
        "\n",
        "ampligraph.__version__"
      ],
      "execution_count": 2,
      "outputs": [
        {
          "output_type": "stream",
          "name": "stderr",
          "text": [
            "/usr/local/lib/python3.7/dist-packages/tensorflow/python/framework/dtypes.py:526: FutureWarning: Passing (type, 1) or '1type' as a synonym of type is deprecated; in a future version of numpy, it will be understood as (type, (1,)) / '(1,)type'.\n",
            "  _np_qint8 = np.dtype([(\"qint8\", np.int8, 1)])\n",
            "/usr/local/lib/python3.7/dist-packages/tensorflow/python/framework/dtypes.py:527: FutureWarning: Passing (type, 1) or '1type' as a synonym of type is deprecated; in a future version of numpy, it will be understood as (type, (1,)) / '(1,)type'.\n",
            "  _np_quint8 = np.dtype([(\"quint8\", np.uint8, 1)])\n",
            "/usr/local/lib/python3.7/dist-packages/tensorflow/python/framework/dtypes.py:528: FutureWarning: Passing (type, 1) or '1type' as a synonym of type is deprecated; in a future version of numpy, it will be understood as (type, (1,)) / '(1,)type'.\n",
            "  _np_qint16 = np.dtype([(\"qint16\", np.int16, 1)])\n",
            "/usr/local/lib/python3.7/dist-packages/tensorflow/python/framework/dtypes.py:529: FutureWarning: Passing (type, 1) or '1type' as a synonym of type is deprecated; in a future version of numpy, it will be understood as (type, (1,)) / '(1,)type'.\n",
            "  _np_quint16 = np.dtype([(\"quint16\", np.uint16, 1)])\n",
            "/usr/local/lib/python3.7/dist-packages/tensorflow/python/framework/dtypes.py:530: FutureWarning: Passing (type, 1) or '1type' as a synonym of type is deprecated; in a future version of numpy, it will be understood as (type, (1,)) / '(1,)type'.\n",
            "  _np_qint32 = np.dtype([(\"qint32\", np.int32, 1)])\n",
            "/usr/local/lib/python3.7/dist-packages/tensorflow/python/framework/dtypes.py:535: FutureWarning: Passing (type, 1) or '1type' as a synonym of type is deprecated; in a future version of numpy, it will be understood as (type, (1,)) / '(1,)type'.\n",
            "  np_resource = np.dtype([(\"resource\", np.ubyte, 1)])\n"
          ]
        },
        {
          "output_type": "execute_result",
          "data": {
            "application/vnd.google.colaboratory.intrinsic+json": {
              "type": "string"
            },
            "text/plain": [
              "'1.4.0'"
            ]
          },
          "metadata": {},
          "execution_count": 2
        }
      ]
    },
    {
      "cell_type": "markdown",
      "metadata": {
        "id": "YbNjJpVhmUSQ"
      },
      "source": [
        "## 1. Dataset exploration"
      ]
    },
    {
      "cell_type": "markdown",
      "metadata": {
        "id": "ach8CvcomUSR"
      },
      "source": [
        "First things first! Lets import the required libraries and retrieve some data.\n",
        "\n",
        "In this tutorial we're going to use the [**Game of Thrones knowledge Graph**](https://ampligraph.s3-eu-west-1.amazonaws.com/datasets/GoT.csv). Please note: this isn't the *greatest* dataset for demonstrating the power of knowledge graph embeddings, but is small, intuitive and should be familiar to most users. \n",
        "\n",
        "We downloaded the [neo4j graph published here](https://github.com/neo4j-examples/game-of-thrones). Such dataset has been generated using [these APIs](https://anapioficeandfire.com/)  which expose in a machine-readable fashion the content of open free sources such as A [Wiki of Ice and Fire](http://awoiaf.westeros.org/). We discarded all properties and saved all the directed, labeled relations in a plaintext file. Each relation (i.e. a triple) is in the form: \n",
        "\n",
        "    <subject, predicate, object>\n",
        "\n",
        "The schema of the graph looks like this (image from [neo4j-examples/game-of-thrones](https://github.com/neo4j-examples/game-of-thrones)):\n",
        "\n",
        "![](https://github.com/Accenture/AmpliGraph/blob/master/docs/tutorials/img/got-graphql-schema.jpg?raw=1)\n",
        "\n",
        "Run the following cell to pull down the dataset and load it in memory with AmpliGraph [`load_from_csv()`](http://docs.ampligraph.org/en/1.0.3/generated/ampligraph.datasets.load_from_csv.html#ampligraph.datasets.load_from_csv) utility function:"
      ]
    },
    {
      "cell_type": "code",
      "metadata": {
        "id": "x0YR-Dd2mUSR",
        "outputId": "99159755-64b1-4f5e-c846-19134a8a54ed",
        "colab": {
          "base_uri": "https://localhost:8080/"
        }
      },
      "source": [
        "import requests\n",
        "from ampligraph.datasets import load_from_csv\n",
        "\n",
        "url = 'https://ampligraph.s3-eu-west-1.amazonaws.com/datasets/GoT.csv'\n",
        "open('GoT.csv', 'wb').write(requests.get(url).content)\n",
        "X = load_from_csv('.', 'GoT.csv', sep=',')\n",
        "X[:5, ]"
      ],
      "execution_count": 3,
      "outputs": [
        {
          "output_type": "execute_result",
          "data": {
            "text/plain": [
              "array([['Smithyton', 'SEAT_OF', 'House Shermer of Smithyton'],\n",
              "       ['House Mormont of Bear Island', 'LED_BY', 'Maege Mormont'],\n",
              "       ['Margaery Tyrell', 'SPOUSE', 'Joffrey Baratheon'],\n",
              "       ['Maron Nymeros Martell', 'ALLIED_WITH',\n",
              "        'House Nymeros Martell of Sunspear'],\n",
              "       ['House Gargalen of Salt Shore', 'IN_REGION', 'Dorne']],\n",
              "      dtype=object)"
            ]
          },
          "metadata": {},
          "execution_count": 3
        }
      ]
    },
    {
      "cell_type": "markdown",
      "metadata": {
        "id": "DT8ibVmEmUSS"
      },
      "source": [
        "Let's list the subject and object entities found in the dataset:"
      ]
    },
    {
      "cell_type": "code",
      "metadata": {
        "id": "t23u0Ob5mUST",
        "outputId": "7d2bb680-dede-4397-cdc6-0c7c321b29de",
        "colab": {
          "base_uri": "https://localhost:8080/"
        }
      },
      "source": [
        "entities = np.unique(np.concatenate([X[:, 0], X[:, 2]]))\n",
        "entities"
      ],
      "execution_count": 4,
      "outputs": [
        {
          "output_type": "execute_result",
          "data": {
            "text/plain": [
              "array(['Abelar Hightower', 'Acorn Hall', 'Addam Frey', ..., 'the Antlers',\n",
              "       'the Paps', 'unnamed tower'], dtype=object)"
            ]
          },
          "metadata": {},
          "execution_count": 4
        }
      ]
    },
    {
      "cell_type": "markdown",
      "metadata": {
        "id": "8yBzoeiDmUST"
      },
      "source": [
        ".. and all of the relationships that link them. Remember, these relationships only link *some* of the entities."
      ]
    },
    {
      "cell_type": "code",
      "metadata": {
        "id": "_Rm0gNd_mUSU",
        "outputId": "f52779dc-6bf4-4114-82f6-a4b5583e8b54",
        "colab": {
          "base_uri": "https://localhost:8080/"
        }
      },
      "source": [
        "relations = np.unique(X[:, 1])\n",
        "relations"
      ],
      "execution_count": 5,
      "outputs": [
        {
          "output_type": "execute_result",
          "data": {
            "text/plain": [
              "array(['ALLIED_WITH', 'BRANCH_OF', 'FOUNDED_BY', 'HEIR_TO', 'IN_REGION',\n",
              "       'LED_BY', 'PARENT_OF', 'SEAT_OF', 'SPOUSE', 'SWORN_TO'],\n",
              "      dtype=object)"
            ]
          },
          "metadata": {},
          "execution_count": 5
        }
      ]
    },
    {
      "cell_type": "markdown",
      "metadata": {
        "id": "zy60CVo-mUSV"
      },
      "source": [
        "# 2. Defining train and test datasets"
      ]
    },
    {
      "cell_type": "markdown",
      "metadata": {
        "id": "kxYQNzgJmUSV"
      },
      "source": [
        "As is typical in machine learning, we need to split our dataset into training and test (and sometimes validation) datasets. \n",
        "\n",
        "What differs from the standard method of randomly sampling N points to make up our test set, is that our data points are two entities linked by some relationship, and we need to take care to ensure that all entities are represented in train and test sets by at least one triple. \n",
        "\n",
        "To accomplish this, AmpliGraph provides the [`train_test_split_no_unseen`](https://docs.ampligraph.org/en/latest/generated/ampligraph.evaluation.train_test_split_no_unseen.html#train-test-split-no-unseen) function.  \n",
        "\n",
        "For sake of example, we will create a small test size that includes only 100 triples:"
      ]
    },
    {
      "cell_type": "code",
      "metadata": {
        "id": "4tjEpr0EmUSV"
      },
      "source": [
        "from ampligraph.evaluation import train_test_split_no_unseen \n",
        "\n",
        "X_train, X_test = train_test_split_no_unseen(X, test_size=100) "
      ],
      "execution_count": 6,
      "outputs": []
    },
    {
      "cell_type": "markdown",
      "metadata": {
        "id": "woOfGqsxmUSW"
      },
      "source": [
        "Our data is now split into train/test sets. If we need to further divide into a validation dataset we can just repeat using the same procedure on the test set (and adjusting the split percentages). "
      ]
    },
    {
      "cell_type": "code",
      "metadata": {
        "id": "pIt8pUpEmUSW",
        "outputId": "da4d4a7e-b70a-4dee-dcbe-db7130683be7",
        "colab": {
          "base_uri": "https://localhost:8080/"
        }
      },
      "source": [
        "print('Train set size: ', X_train.shape)\n",
        "print('Test set size: ', X_test.shape)"
      ],
      "execution_count": 7,
      "outputs": [
        {
          "output_type": "stream",
          "name": "stdout",
          "text": [
            "Train set size:  (3075, 3)\n",
            "Test set size:  (100, 3)\n"
          ]
        }
      ]
    },
    {
      "cell_type": "markdown",
      "metadata": {
        "id": "7zTw6XYAmUSW"
      },
      "source": [
        "---\n",
        "# 3. Training a model \n",
        "\n",
        "AmpliGraph has implemented [several Knoweldge Graph Embedding models](https://docs.ampligraph.org/en/latest/ampligraph.latent_features.html#knowledge-graph-embedding-models) (TransE, ComplEx, DistMult, HolE), but to begin with we're just going to use the [ComplEx](https://docs.ampligraph.org/en/latest/generated/ampligraph.latent_features.ComplEx.html#ampligraph.latent_features.ComplEx) model (with  default values), so lets import that:"
      ]
    },
    {
      "cell_type": "code",
      "metadata": {
        "id": "37Me7vaAmUSX"
      },
      "source": [
        "from ampligraph.latent_features import ComplEx"
      ],
      "execution_count": 8,
      "outputs": []
    },
    {
      "cell_type": "markdown",
      "metadata": {
        "id": "t6dyEyVDmUSX"
      },
      "source": [
        "Lets go through the parameters to understand what's going on:\n",
        "\n",
        "- **`k`** : the dimensionality of the embedding space\n",
        "- **`eta`** ($\\eta$) : the number of negative, or false triples that must be generated at training runtime for each positive, or true triple\n",
        "- **`batches_count`** : the number of batches in which the training set is split during the training loop. If you are having into low memory issues than settings this to a higher number may help.\n",
        "- **`epochs`** : the number of epochs to train the model for.\n",
        "- **`optimizer`** : the Adam optimizer, with a learning rate of 1e-3 set via the *optimizer_params* kwarg.\n",
        "- **`loss`** : pairwise loss, with a margin of 0.5 set via the *loss_params* kwarg.\n",
        "- **`regularizer`** : $L_p$ regularization with $p=2$, i.e. l2 regularization. $\\lambda$ = 1e-5, set via the *regularizer_params* kwarg. \n",
        "\n",
        "Now we can instantiate the model:\n"
      ]
    },
    {
      "cell_type": "code",
      "metadata": {
        "id": "shDcab4QmUSY"
      },
      "source": [
        "model = ComplEx(batches_count=100, \n",
        "                seed=0, \n",
        "                epochs=200, \n",
        "                k=150, \n",
        "                eta=5,\n",
        "                optimizer='adam', \n",
        "                optimizer_params={'lr':1e-3},\n",
        "                loss='multiclass_nll', \n",
        "                regularizer='LP', \n",
        "                regularizer_params={'p':3, 'lambda':1e-5}, \n",
        "                verbose=True)"
      ],
      "execution_count": 9,
      "outputs": []
    },
    {
      "cell_type": "markdown",
      "metadata": {
        "id": "lnVJun4pmUSY"
      },
      "source": [
        "## Filtering negatives\n",
        "\n",
        "AmpliGraph aims to follow scikit-learn's ease-of-use design philosophy and simplify everything down to **`fit`**, **`evaluate`**, and **`predict`** functions. \n",
        "\n",
        "However, there are some knowledge graph specific steps we must take to ensure our model can be trained and evaluated correctly. The first of these is defining the filter that will be used to ensure that no *negative* statements generated by the corruption procedure are actually positives. This is simply done by concatenating our train and test sets. Now when negative triples are generated by the corruption strategy, we can check that they aren't actually true statements.  \n"
      ]
    },
    {
      "cell_type": "code",
      "metadata": {
        "id": "XOK_7mqfmUSY"
      },
      "source": [
        "positives_filter = X"
      ],
      "execution_count": 10,
      "outputs": []
    },
    {
      "cell_type": "markdown",
      "metadata": {
        "id": "QDfQP2wrmUSZ"
      },
      "source": [
        "## Fitting the model\n",
        "\n",
        "Once you run the next cell the model will train. \n",
        "\n",
        "On a modern laptop this should take ~3 minutes (although your mileage may vary, especially if you've changed any of the hyper-parameters above)."
      ]
    },
    {
      "cell_type": "code",
      "metadata": {
        "id": "9lTpP3mxmUSZ",
        "outputId": "8fb01dc6-98bd-4c61-8882-a4616e1be8e2",
        "colab": {
          "base_uri": "https://localhost:8080/"
        }
      },
      "source": [
        "import tensorflow as tf\n",
        "tf.logging.set_verbosity(tf.logging.ERROR)\n",
        "\n",
        "model.fit(X_train, early_stopping = False)"
      ],
      "execution_count": 11,
      "outputs": [
        {
          "output_type": "stream",
          "name": "stderr",
          "text": [
            "Average ComplEx Loss:   0.018132: 100%|██████████| 200/200 [07:17<00:00,  2.19s/epoch]\n"
          ]
        }
      ]
    },
    {
      "cell_type": "markdown",
      "metadata": {
        "id": "bMcSEkqrmUSZ"
      },
      "source": [
        "---\n",
        "# 5.  Saving and restoring a model\n",
        "\n",
        "Before we go any further, let's save the best model found so that we can restore it in future."
      ]
    },
    {
      "cell_type": "code",
      "metadata": {
        "id": "d_ZgL3q8mUSZ"
      },
      "source": [
        "from ampligraph.latent_features import save_model, restore_model"
      ],
      "execution_count": 12,
      "outputs": []
    },
    {
      "cell_type": "code",
      "metadata": {
        "id": "WHj8wXPjmUSZ"
      },
      "source": [
        "save_model(model, './best_model.pkl')"
      ],
      "execution_count": 13,
      "outputs": []
    },
    {
      "cell_type": "markdown",
      "metadata": {
        "id": "rAlJgFDHmUSa"
      },
      "source": [
        "This will save the model in the ampligraph_tutorial directory as `best_model.pkl`."
      ]
    },
    {
      "cell_type": "markdown",
      "metadata": {
        "id": "ZAw-w_HLmUSa"
      },
      "source": [
        ".. we can then delete the model .. "
      ]
    },
    {
      "cell_type": "code",
      "metadata": {
        "id": "t2mO0C4xmUSa"
      },
      "source": [
        "del model"
      ],
      "execution_count": 14,
      "outputs": []
    },
    {
      "cell_type": "markdown",
      "metadata": {
        "id": "NW4mc3HrmUSa"
      },
      "source": [
        ".. and then restore it from disk! Ta-da! "
      ]
    },
    {
      "cell_type": "code",
      "metadata": {
        "id": "5xOBNMDXmUSa"
      },
      "source": [
        "model = restore_model('./best_model.pkl')"
      ],
      "execution_count": 15,
      "outputs": []
    },
    {
      "cell_type": "markdown",
      "metadata": {
        "id": "P-Y6TiZEmUSa"
      },
      "source": [
        "And let's just double check that the model we restored has been fit:"
      ]
    },
    {
      "cell_type": "code",
      "metadata": {
        "id": "s8gJGxemmUSa",
        "outputId": "8d7a5cae-0b6b-43e8-a1c6-8cf5e1f2d458",
        "colab": {
          "base_uri": "https://localhost:8080/"
        }
      },
      "source": [
        "if model.is_fitted:\n",
        "    print('The model is fit!')\n",
        "else:\n",
        "    print('The model is not fit! Did you skip a step?')"
      ],
      "execution_count": 16,
      "outputs": [
        {
          "output_type": "stream",
          "name": "stdout",
          "text": [
            "The model is fit!\n"
          ]
        }
      ]
    },
    {
      "cell_type": "markdown",
      "metadata": {
        "id": "79fZwTAzmUSb"
      },
      "source": [
        "---\n",
        "# 6. Evaluating a model\n",
        "\n",
        "Now it's time to evaluate our model on the test set to see how well it's performing. \n",
        "\n",
        "For this we'll use the `evaluate_performance` function:"
      ]
    },
    {
      "cell_type": "code",
      "metadata": {
        "id": "JGNoH7U_mUSb"
      },
      "source": [
        "from ampligraph.evaluation import evaluate_performance"
      ],
      "execution_count": 17,
      "outputs": []
    },
    {
      "cell_type": "markdown",
      "metadata": {
        "id": "NwyeT7udmUSb"
      },
      "source": [
        "And let's look at the arguments to this function:\n",
        "\n",
        "- **`X`** - the data to evaluate on. We're going to use our test set to evaluate.\n",
        "- **`model`** - the model we previously trained.\n",
        "- **`filter_triples`** - will filter out the false negatives generated by the corruption strategy. \n",
        "- **`use_default_protocol`** - specifies whether to use the default corruption protocol. If True, then subj and obj are corrupted separately during evaluation.\n",
        "- **`verbose`** - will give some nice log statements. Let's leave it on for now.\n"
      ]
    },
    {
      "cell_type": "markdown",
      "metadata": {
        "id": "J0g8PtlzmUSb"
      },
      "source": [
        "## Running evaluation"
      ]
    },
    {
      "cell_type": "code",
      "metadata": {
        "id": "JnZcp50tmUSb",
        "outputId": "5163f808-34de-4768-def0-96a386a3d1c2",
        "colab": {
          "base_uri": "https://localhost:8080/"
        }
      },
      "source": [
        "ranks = evaluate_performance(X_test, \n",
        "                             model=model, \n",
        "                             filter_triples=positives_filter,   # Corruption strategy filter defined above \n",
        "                             use_default_protocol=True, # corrupt subj and obj separately while evaluating\n",
        "                             verbose=True)"
      ],
      "execution_count": 18,
      "outputs": [
        {
          "output_type": "stream",
          "name": "stdout",
          "text": [
            "WARNING - DeprecationWarning: use_default_protocol will be removed in future. Please use corrupt_side argument instead.\n"
          ]
        },
        {
          "output_type": "stream",
          "name": "stderr",
          "text": [
            "100%|██████████| 100/100 [00:01<00:00, 61.02it/s]\n"
          ]
        }
      ]
    },
    {
      "cell_type": "markdown",
      "metadata": {
        "id": "3zZsNv5ymUSc"
      },
      "source": [
        "\n",
        "The ***ranks*** returned by the evaluate_performance function indicate the rank at which the test set triple was found when performing link prediction using the model. \n",
        "\n",
        "For example, given the triple:\n",
        "\n",
        "    <House Stark of Winterfell, IN_REGION The North>\n",
        "    \n",
        "The model returns a rank of 7. This tells us that while it's not the highest likelihood true statement (which would be given a rank 1), it's pretty likely.\n"
      ]
    },
    {
      "cell_type": "markdown",
      "metadata": {
        "id": "aJgb_T7OmUSc"
      },
      "source": [
        "## Metrics"
      ]
    },
    {
      "cell_type": "markdown",
      "metadata": {
        "id": "0J7Wh0zkmUSc"
      },
      "source": [
        "Let's compute some evaluate metrics and print them out.\n",
        "\n",
        "We're going to use the mrr_score (mean reciprocal rank) and hits_at_n_score functions. \n",
        "\n",
        "- ***mrr_score***:  The function computes the mean of the reciprocal of elements of a vector of rankings ranks.\n",
        "- ***hits_at_n_score***: The function computes how many elements of a vector of rankings ranks make it to the top n positions.\n"
      ]
    },
    {
      "cell_type": "code",
      "metadata": {
        "id": "qFrHSrFamUSc",
        "outputId": "8fc7bc4a-7cb1-4691-81aa-99ffcc984773",
        "colab": {
          "base_uri": "https://localhost:8080/"
        }
      },
      "source": [
        "from ampligraph.evaluation import mr_score, mrr_score, hits_at_n_score\n",
        "\n",
        "mrr = mrr_score(ranks)\n",
        "print(\"MRR: %.2f\" % (mrr))\n",
        "\n",
        "hits_10 = hits_at_n_score(ranks, n=10)\n",
        "print(\"Hits@10: %.2f\" % (hits_10))\n",
        "hits_3 = hits_at_n_score(ranks, n=3)\n",
        "print(\"Hits@3: %.2f\" % (hits_3))\n",
        "hits_1 = hits_at_n_score(ranks, n=1)\n",
        "print(\"Hits@1: %.2f\" % (hits_1))"
      ],
      "execution_count": 19,
      "outputs": [
        {
          "output_type": "stream",
          "name": "stdout",
          "text": [
            "MRR: 0.44\n",
            "Hits@10: 0.57\n",
            "Hits@3: 0.46\n",
            "Hits@1: 0.36\n"
          ]
        }
      ]
    },
    {
      "cell_type": "markdown",
      "metadata": {
        "id": "TBlH4cL2mUSd"
      },
      "source": [
        "Now, how do we interpret those numbers? \n",
        "\n",
        "[Hits@N](http://docs.ampligraph.org/en/1.0.3/generated/ampligraph.evaluation.hits_at_n_score.html#ampligraph.evaluation.hits_at_n_score) indicates how many times in average a true triple was ranked in the top-N. Therefore, on average, we guessed the correct subject or object 53% of the time when considering the top-3 better ranked triples. The choice of which N makes more sense depends on the application.\n",
        "\n",
        "The [Mean Reciprocal Rank (MRR)](http://docs.ampligraph.org/en/latest/generated/ampligraph.evaluation.mrr_score.html) is another popular metrics to assess the predictive power of a model."
      ]
    },
    {
      "cell_type": "markdown",
      "metadata": {
        "id": "rOMihq8mmUSd"
      },
      "source": [
        "\n",
        "# 7. Predicting New Links\n",
        "\n",
        "Link prediction allows us to infer missing links in a graph. This has many real-world use cases, such as predicting connections between people in a social network, interactions between proteins in a biological network, and music recommendation based on prior user taste. \n",
        "\n",
        "In our case, we're going to see which of the following candidate statements (that we made up) are more likely to be true:\n"
      ]
    },
    {
      "cell_type": "code",
      "metadata": {
        "id": "opwR-HwcmUSd"
      },
      "source": [
        "X_unseen = np.array([\n",
        "    ['Jorah Mormont', 'SPOUSE', 'Daenerys Targaryen'],\n",
        "    ['Tyrion Lannister', 'SPOUSE', 'Missandei'],\n",
        "    [\"King's Landing\", 'SEAT_OF', 'House Lannister of Casterly Rock'],\n",
        "    ['Sansa Stark', 'SPOUSE', 'Petyr Baelish'],\n",
        "    ['Daenerys Targaryen', 'SPOUSE', 'Jon Snow'],\n",
        "    ['Daenerys Targaryen', 'SPOUSE', 'Craster'],\n",
        "    ['House Stark of Winterfell', 'IN_REGION', 'The North'],\n",
        "    ['House Stark of Winterfell', 'IN_REGION', 'Dorne'],\n",
        "    ['House Tyrell of Highgarden', 'IN_REGION', 'Beyond the Wall'],\n",
        "    ['Brandon Stark', 'ALLIED_WITH', 'House Stark of Winterfell'],\n",
        "    ['Brandon Stark', 'ALLIED_WITH', 'House Lannister of Casterly Rock'],    \n",
        "    ['Rhaegar Targaryen', 'PARENT_OF', 'Jon Snow'],\n",
        "    ['House Hutcheson', 'SWORN_TO', 'House Tyrell of Highgarden'],\n",
        "    ['Daenerys Targaryen', 'ALLIED_WITH', 'House Stark of Winterfell'],\n",
        "    ['Daenerys Targaryen', 'ALLIED_WITH', 'House Lannister of Casterly Rock'],\n",
        "    ['Jaime Lannister', 'PARENT_OF', 'Myrcella Baratheon'],\n",
        "    ['Robert I Baratheon', 'PARENT_OF', 'Myrcella Baratheon'],\n",
        "    ['Cersei Lannister', 'PARENT_OF', 'Myrcella Baratheon'],\n",
        "    ['Cersei Lannister', 'PARENT_OF', 'Brandon Stark'],\n",
        "    [\"Tywin Lannister\", 'PARENT_OF', 'Jaime Lannister'],\n",
        "    [\"Missandei\", 'SPOUSE', 'Grey Worm'],\n",
        "    [\"Brienne of Tarth\", 'SPOUSE', 'Jaime Lannister']\n",
        "])"
      ],
      "execution_count": 20,
      "outputs": []
    },
    {
      "cell_type": "code",
      "metadata": {
        "id": "5WU31F2emUSd"
      },
      "source": [
        "unseen_filter = np.array(list({tuple(i) for i in np.vstack((positives_filter, X_unseen))}))"
      ],
      "execution_count": 21,
      "outputs": []
    },
    {
      "cell_type": "code",
      "metadata": {
        "id": "k5dv4mabmUSe",
        "outputId": "eaca1b49-bd47-42b1-9b10-355256d15ea0",
        "colab": {
          "base_uri": "https://localhost:8080/"
        }
      },
      "source": [
        "ranks_unseen = evaluate_performance(\n",
        "    X_unseen, \n",
        "    model=model, \n",
        "    filter_triples=unseen_filter,   # Corruption strategy filter defined above \n",
        "    corrupt_side = 's+o',\n",
        "    use_default_protocol=False, # corrupt subj and obj separately while evaluating\n",
        "    verbose=True\n",
        ")"
      ],
      "execution_count": 23,
      "outputs": [
        {
          "output_type": "stream",
          "name": "stderr",
          "text": [
            "100%|██████████| 22/22 [00:00<00:00, 53.62it/s]\n"
          ]
        }
      ]
    },
    {
      "cell_type": "code",
      "metadata": {
        "id": "QBYPfITrmUSe"
      },
      "source": [
        "scores = model.predict(X_unseen)"
      ],
      "execution_count": 24,
      "outputs": []
    },
    {
      "cell_type": "markdown",
      "metadata": {
        "id": "kzJ-DNjUmUSe"
      },
      "source": [
        "We transform the scores (real numbers) into probabilities (bound between 0 and 1) using the expit transform.\n",
        "\n",
        "Note that the probabilities are not calibrated in any sense. \n",
        "\n",
        "Advanced note: To calibrate the probabilities, one may use a procedure such as [Platt scaling](https://en.wikipedia.org/wiki/Platt_scaling) or [Isotonic regression](https://en.wikipedia.org/wiki/Isotonic_regression). The challenge is to define what is a true triple and what is a false one, as the calibration of the probability of a triple being true depends on the base rate of positives and negatives."
      ]
    },
    {
      "cell_type": "code",
      "metadata": {
        "id": "A-BJ8Ko3mUSe"
      },
      "source": [
        "from scipy.special import expit\n",
        "probs = expit(scores)"
      ],
      "execution_count": 25,
      "outputs": []
    },
    {
      "cell_type": "code",
      "metadata": {
        "scrolled": false,
        "id": "7Itcke_3mUSe",
        "outputId": "8e44379b-312a-43b9-f7f9-6bf03eeb3f1d",
        "colab": {
          "base_uri": "https://localhost:8080/",
          "height": 725
        }
      },
      "source": [
        "pd.DataFrame(list(zip([' '.join(x) for x in X_unseen], \n",
        "                      ranks_unseen, \n",
        "                      np.squeeze(scores),\n",
        "                      np.squeeze(probs))), \n",
        "             columns=['statement', 'rank', 'score', 'prob']).sort_values(\"score\")"
      ],
      "execution_count": 26,
      "outputs": [
        {
          "output_type": "execute_result",
          "data": {
            "text/html": [
              "<div>\n",
              "<style scoped>\n",
              "    .dataframe tbody tr th:only-of-type {\n",
              "        vertical-align: middle;\n",
              "    }\n",
              "\n",
              "    .dataframe tbody tr th {\n",
              "        vertical-align: top;\n",
              "    }\n",
              "\n",
              "    .dataframe thead th {\n",
              "        text-align: right;\n",
              "    }\n",
              "</style>\n",
              "<table border=\"1\" class=\"dataframe\">\n",
              "  <thead>\n",
              "    <tr style=\"text-align: right;\">\n",
              "      <th></th>\n",
              "      <th>statement</th>\n",
              "      <th>rank</th>\n",
              "      <th>score</th>\n",
              "      <th>prob</th>\n",
              "    </tr>\n",
              "  </thead>\n",
              "  <tbody>\n",
              "    <tr>\n",
              "      <th>10</th>\n",
              "      <td>Brandon Stark ALLIED_WITH House Lannister of C...</td>\n",
              "      <td>3998</td>\n",
              "      <td>-2.925932</td>\n",
              "      <td>0.050886</td>\n",
              "    </tr>\n",
              "    <tr>\n",
              "      <th>18</th>\n",
              "      <td>Cersei Lannister PARENT_OF Brandon Stark</td>\n",
              "      <td>4079</td>\n",
              "      <td>-2.160656</td>\n",
              "      <td>0.103340</td>\n",
              "    </tr>\n",
              "    <tr>\n",
              "      <th>0</th>\n",
              "      <td>Jorah Mormont SPOUSE Daenerys Targaryen</td>\n",
              "      <td>3319</td>\n",
              "      <td>-0.859088</td>\n",
              "      <td>0.297530</td>\n",
              "    </tr>\n",
              "    <tr>\n",
              "      <th>1</th>\n",
              "      <td>Tyrion Lannister SPOUSE Missandei</td>\n",
              "      <td>2977</td>\n",
              "      <td>-0.542996</td>\n",
              "      <td>0.367491</td>\n",
              "    </tr>\n",
              "    <tr>\n",
              "      <th>5</th>\n",
              "      <td>Daenerys Targaryen SPOUSE Craster</td>\n",
              "      <td>2936</td>\n",
              "      <td>-0.535716</td>\n",
              "      <td>0.369185</td>\n",
              "    </tr>\n",
              "    <tr>\n",
              "      <th>7</th>\n",
              "      <td>House Stark of Winterfell IN_REGION Dorne</td>\n",
              "      <td>2504</td>\n",
              "      <td>-0.311246</td>\n",
              "      <td>0.422811</td>\n",
              "    </tr>\n",
              "    <tr>\n",
              "      <th>15</th>\n",
              "      <td>Jaime Lannister PARENT_OF Myrcella Baratheon</td>\n",
              "      <td>2817</td>\n",
              "      <td>-0.266177</td>\n",
              "      <td>0.433846</td>\n",
              "    </tr>\n",
              "    <tr>\n",
              "      <th>11</th>\n",
              "      <td>Rhaegar Targaryen PARENT_OF Jon Snow</td>\n",
              "      <td>3374</td>\n",
              "      <td>-0.232265</td>\n",
              "      <td>0.442193</td>\n",
              "    </tr>\n",
              "    <tr>\n",
              "      <th>4</th>\n",
              "      <td>Daenerys Targaryen SPOUSE Jon Snow</td>\n",
              "      <td>2309</td>\n",
              "      <td>-0.100000</td>\n",
              "      <td>0.475021</td>\n",
              "    </tr>\n",
              "    <tr>\n",
              "      <th>21</th>\n",
              "      <td>Brienne of Tarth SPOUSE Jaime Lannister</td>\n",
              "      <td>1938</td>\n",
              "      <td>-0.039285</td>\n",
              "      <td>0.490180</td>\n",
              "    </tr>\n",
              "    <tr>\n",
              "      <th>17</th>\n",
              "      <td>Cersei Lannister PARENT_OF Myrcella Baratheon</td>\n",
              "      <td>1658</td>\n",
              "      <td>0.111904</td>\n",
              "      <td>0.527947</td>\n",
              "    </tr>\n",
              "    <tr>\n",
              "      <th>8</th>\n",
              "      <td>House Tyrell of Highgarden IN_REGION Beyond th...</td>\n",
              "      <td>1180</td>\n",
              "      <td>0.196118</td>\n",
              "      <td>0.548873</td>\n",
              "    </tr>\n",
              "    <tr>\n",
              "      <th>2</th>\n",
              "      <td>King's Landing SEAT_OF House Lannister of Cast...</td>\n",
              "      <td>723</td>\n",
              "      <td>0.590554</td>\n",
              "      <td>0.643492</td>\n",
              "    </tr>\n",
              "    <tr>\n",
              "      <th>14</th>\n",
              "      <td>Daenerys Targaryen ALLIED_WITH House Lannister...</td>\n",
              "      <td>228</td>\n",
              "      <td>1.385458</td>\n",
              "      <td>0.799866</td>\n",
              "    </tr>\n",
              "    <tr>\n",
              "      <th>19</th>\n",
              "      <td>Tywin Lannister PARENT_OF Jaime Lannister</td>\n",
              "      <td>75</td>\n",
              "      <td>1.526639</td>\n",
              "      <td>0.821514</td>\n",
              "    </tr>\n",
              "    <tr>\n",
              "      <th>3</th>\n",
              "      <td>Sansa Stark SPOUSE Petyr Baelish</td>\n",
              "      <td>109</td>\n",
              "      <td>1.889837</td>\n",
              "      <td>0.868737</td>\n",
              "    </tr>\n",
              "    <tr>\n",
              "      <th>16</th>\n",
              "      <td>Robert I Baratheon PARENT_OF Myrcella Baratheon</td>\n",
              "      <td>18</td>\n",
              "      <td>1.951336</td>\n",
              "      <td>0.875592</td>\n",
              "    </tr>\n",
              "    <tr>\n",
              "      <th>6</th>\n",
              "      <td>House Stark of Winterfell IN_REGION The North</td>\n",
              "      <td>12</td>\n",
              "      <td>2.354562</td>\n",
              "      <td>0.913296</td>\n",
              "    </tr>\n",
              "    <tr>\n",
              "      <th>13</th>\n",
              "      <td>Daenerys Targaryen ALLIED_WITH House Stark of ...</td>\n",
              "      <td>63</td>\n",
              "      <td>2.374136</td>\n",
              "      <td>0.914834</td>\n",
              "    </tr>\n",
              "    <tr>\n",
              "      <th>20</th>\n",
              "      <td>Missandei SPOUSE Grey Worm</td>\n",
              "      <td>65</td>\n",
              "      <td>3.164422</td>\n",
              "      <td>0.959473</td>\n",
              "    </tr>\n",
              "    <tr>\n",
              "      <th>9</th>\n",
              "      <td>Brandon Stark ALLIED_WITH House Stark of Winte...</td>\n",
              "      <td>1</td>\n",
              "      <td>6.629963</td>\n",
              "      <td>0.998681</td>\n",
              "    </tr>\n",
              "    <tr>\n",
              "      <th>12</th>\n",
              "      <td>House Hutcheson SWORN_TO House Tyrell of Highg...</td>\n",
              "      <td>4</td>\n",
              "      <td>9.970955</td>\n",
              "      <td>0.999953</td>\n",
              "    </tr>\n",
              "  </tbody>\n",
              "</table>\n",
              "</div>"
            ],
            "text/plain": [
              "                                            statement  rank     score      prob\n",
              "10  Brandon Stark ALLIED_WITH House Lannister of C...  3998 -2.925932  0.050886\n",
              "18           Cersei Lannister PARENT_OF Brandon Stark  4079 -2.160656  0.103340\n",
              "0             Jorah Mormont SPOUSE Daenerys Targaryen  3319 -0.859088  0.297530\n",
              "1                   Tyrion Lannister SPOUSE Missandei  2977 -0.542996  0.367491\n",
              "5                   Daenerys Targaryen SPOUSE Craster  2936 -0.535716  0.369185\n",
              "7           House Stark of Winterfell IN_REGION Dorne  2504 -0.311246  0.422811\n",
              "15       Jaime Lannister PARENT_OF Myrcella Baratheon  2817 -0.266177  0.433846\n",
              "11               Rhaegar Targaryen PARENT_OF Jon Snow  3374 -0.232265  0.442193\n",
              "4                  Daenerys Targaryen SPOUSE Jon Snow  2309 -0.100000  0.475021\n",
              "21            Brienne of Tarth SPOUSE Jaime Lannister  1938 -0.039285  0.490180\n",
              "17      Cersei Lannister PARENT_OF Myrcella Baratheon  1658  0.111904  0.527947\n",
              "8   House Tyrell of Highgarden IN_REGION Beyond th...  1180  0.196118  0.548873\n",
              "2   King's Landing SEAT_OF House Lannister of Cast...   723  0.590554  0.643492\n",
              "14  Daenerys Targaryen ALLIED_WITH House Lannister...   228  1.385458  0.799866\n",
              "19          Tywin Lannister PARENT_OF Jaime Lannister    75  1.526639  0.821514\n",
              "3                    Sansa Stark SPOUSE Petyr Baelish   109  1.889837  0.868737\n",
              "16    Robert I Baratheon PARENT_OF Myrcella Baratheon    18  1.951336  0.875592\n",
              "6       House Stark of Winterfell IN_REGION The North    12  2.354562  0.913296\n",
              "13  Daenerys Targaryen ALLIED_WITH House Stark of ...    63  2.374136  0.914834\n",
              "20                         Missandei SPOUSE Grey Worm    65  3.164422  0.959473\n",
              "9   Brandon Stark ALLIED_WITH House Stark of Winte...     1  6.629963  0.998681\n",
              "12  House Hutcheson SWORN_TO House Tyrell of Highg...     4  9.970955  0.999953"
            ]
          },
          "metadata": {},
          "execution_count": 26
        }
      ]
    },
    {
      "cell_type": "markdown",
      "metadata": {
        "id": "1qo0IN4amUSf"
      },
      "source": [
        "We see that the embeddings captured some truths about Westeros. For example, **House Stark is placed in the North rather than Dorne**. It also realises **Daenerys Targaryen has no relation with Craster**, **nor Tyrion with Missandei**. It captures random trivia, as **House Hutcheson is indeed in the Reach and sworn to the Tyrells**. On the other hand, some marriages that it predicts never really happened. These mistakes are understandable: those characters were indeed close and appeared together in many different circumstances. "
      ]
    },
    {
      "cell_type": "markdown",
      "metadata": {
        "id": "UcTEpqh6mUSf"
      },
      "source": [
        "---\n",
        "# 8. Visualizing Embeddings with Tensorboard projector \n",
        "\n",
        "The kind folks at Google have created [Tensorboard](https://www.tensorflow.org/tensorboard), which allows us to graph how our model is learning (or .. not :|), peer into the innards of neural networks, and [visualize high-dimensional embeddings in the browser](https://projector.tensorflow.org/).   \n",
        "\n",
        "Lets import the [`create_tensorboard_visualization`](http://docs.ampligraph.org/en/1.0.3/generated/ampligraph.utils.create_tensorboard_visualizations.html#ampligraph.utils.create_tensorboard_visualizations) function, which simplifies the creation of the files necessary for Tensorboard to display the embeddings."
      ]
    },
    {
      "cell_type": "code",
      "metadata": {
        "id": "wrgHfeqWmUSf"
      },
      "source": [
        "from ampligraph.utils import create_tensorboard_visualizations"
      ],
      "execution_count": null,
      "outputs": []
    },
    {
      "cell_type": "markdown",
      "metadata": {
        "id": "iwICzmfomUSf"
      },
      "source": [
        "And now we'll run the function with our model, specifying the output path:"
      ]
    },
    {
      "cell_type": "code",
      "metadata": {
        "id": "zFpJDCfYmUSf"
      },
      "source": [
        "create_tensorboard_visualizations(model, 'GoT_embeddings')"
      ],
      "execution_count": null,
      "outputs": []
    },
    {
      "cell_type": "markdown",
      "metadata": {
        "id": "t03Bjxs3mUSg"
      },
      "source": [
        "If all went well, we should now have a number of files in the `AmpliGraph/tutorials/GoT_embeddings` directory:\n",
        "\n",
        "```\n",
        "GoT_embeddings/\n",
        "    ├── checkpoint\n",
        "    ├── embeddings_projector.tsv\n",
        "    ├── graph_embedding.ckpt.data-00000-of-00001\n",
        "    ├── graph_embedding.ckpt.index\n",
        "    ├── graph_embedding.ckpt.meta\n",
        "    ├── metadata.tsv\n",
        "    └── projector_config.pbtxt\n",
        "```\n",
        "\n",
        "To visualize the embeddings in Tensorboard, run the following from your command line inside `AmpliGraph/tutorials`:\n",
        "\n",
        "```bash\n",
        "tensorboard --logdir=./visualizations\n",
        "```\n",
        "    \n",
        ".. and once your browser opens up you should be able to see and explore your embeddings as below (PCA-reduced, two components):\n",
        "\n",
        "![](https://github.com/Accenture/AmpliGraph/blob/master/docs/tutorials/img/GoT_tensoboard.png?raw=1)\n",
        "\n",
        "\n",
        "\n",
        "\n",
        "---\n",
        "# The End\n",
        "\n",
        "You made it to the end! Well done!\n",
        "\n",
        "For more information please visit the [AmpliGraph GitHub](github.com/Accenture/AmpliGraph) (and remember to star the project!), or check out the [documentation](docs.ampligraph.org) \n",
        "\n",
        "---\n"
      ]
    }
  ]
}